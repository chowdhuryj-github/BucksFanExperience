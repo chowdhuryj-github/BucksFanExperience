{
 "cells": [
  {
   "cell_type": "markdown",
   "id": "0",
   "metadata": {},
   "source": [
    "<h1 style=\"color: #8b5e3c;\">Bucks Dataset Data Visualization</h1>\n",
    "In this Jupyter Notebook, we look at all the Bucks Datasets that we have as well as the new ones we've created. The aim is to create data visualizations that will help us with understanding the relationships between features and uncover any insights."
   ]
  },
  {
   "cell_type": "markdown",
   "id": "1",
   "metadata": {},
   "source": [
    "<h3 style=\"color: #8b5e3c\"> Determining Features of Interest in AccountLevel </h3>\n",
    "We start off by looking at the features in the AccountLevel dataset, and seeing what features might be important to us, and then determining if the relationships between those features would lead us to deriving an answer for the business question. We begin my importing the datasets."
   ]
  },
  {
   "cell_type": "code",
   "execution_count": null,
   "id": "2",
   "metadata": {},
   "outputs": [],
   "source": [
    "# importing the pandas library and IPython display\n",
    "import pandas as pd\n",
    "from IPython.display import display\n",
    "\n",
    "# importing the account data frame\n",
    "account_df = pd.read_csv(\"C:/Users/galvanm/python/BucksHackathon25/BucksDatasets/AccountLevelFilled.csv\")\n",
    "account_df_2024 = pd.read_csv(\"C:/Users/galvanm/python/BucksHackathon25/BucksDatasets/ALGLSL_2024.csv\")\n",
    "account_df_2023 = pd.read_csv(\"C:/Users/galvanm/python/BucksHackathon25/BucksDatasets/ALGLSL_2023.csv\")\n",
    "\n",
    "# viewing the data frame\n",
    "display(account_df)"
   ]
  },
  {
   "cell_type": "code",
   "execution_count": null,
   "id": "3",
   "metadata": {},
   "outputs": [],
   "source": [
    "# displaying the statistics and information of the dataset\n",
    "display(account_df.info())\n",
    "display((account_df.describe()))"
   ]
  },
  {
   "cell_type": "markdown",
   "id": "4",
   "metadata": {},
   "source": [
    "<h2 style=\"color: #8b5e3c\"> Average Spending vs Fan Segment (Violin Plot) </h2>\n",
    "We would like to start our visualization by comparing the average spending against the fan segment. We would like to see the number of outliers. The reasoning is that we would like to know if we need to adjust the IQR for when we start plotting."
   ]
  },
  {
   "cell_type": "code",
   "execution_count": null,
   "id": "5",
   "metadata": {},
   "outputs": [],
   "source": [
    "# importing the matplotlib library\n",
    "import matplotlib.pyplot as plt\n",
    "\n",
    "# importing the seaborn\n",
    "import seaborn as sns\n",
    "\n",
    "# defining the quartiles\n",
    "Q1 = account_df_2023['AvgSpend'].quantile(0.25)\n",
    "Q3 = account_df_2023['AvgSpend'].quantile(0.75)\n",
    "interquartile_range = Q3 - Q1\n",
    "\n",
    "# defining the lower and upper bounds\n",
    "lower_bound = Q1 - (1.5 * interquartile_range)\n",
    "upper_bound = Q3 + (1.5 * interquartile_range)"
   ]
  },
  {
   "cell_type": "code",
   "execution_count": null,
   "id": "6",
   "metadata": {},
   "outputs": [],
   "source": [
    "# setting up a outlier count\n",
    "outlier_counts = {}\n",
    "\n",
    "# counting all the outlier data points \n",
    "for segment, group in account_df_2023.groupby('FanSegment'):\n",
    "    outlier_count = 0\n",
    "    for value in group['AvgSpend']:\n",
    "        if value < lower_bound or value > upper_bound:\n",
    "            outlier_count = outlier_count + 1\n",
    "    outlier_counts[segment] = round((outlier_count / len(group)) * 100, 2)\n",
    "\n",
    "# printing out the number of outliers\n",
    "print(\"Percentage of Outliers (2023): \", outlier_counts)"
   ]
  },
  {
   "cell_type": "code",
   "execution_count": null,
   "id": "7",
   "metadata": {},
   "outputs": [],
   "source": [
    "# defining the quartiles\n",
    "Q1 = account_df_2024['AvgSpend'].quantile(0.25)\n",
    "Q3 = account_df_2024['AvgSpend'].quantile(0.75)\n",
    "interquartile_range = Q3 - Q1\n",
    "\n",
    "# defining the lower and upper bounds\n",
    "lower_bound = Q1 - (1.5 * interquartile_range)\n",
    "upper_bound = Q3 + (1.5 * interquartile_range)\n",
    "\n",
    "# setting up an outlier count\n",
    "outlier_counts = {}\n",
    "\n",
    "# counting all the outlier data points \n",
    "for segment, group in account_df_2024.groupby('FanSegment'):\n",
    "    outlier_count = 0\n",
    "    for value in group['AvgSpend']:\n",
    "        if value < lower_bound or value > upper_bound:\n",
    "            outlier_count = outlier_count + 1\n",
    "    outlier_counts[segment] = round((outlier_count / len(group)) * 100, 2)\n",
    "\n",
    "# printing out the number of outliers\n",
    "print(\"Percentage of Outliers (2024): \", outlier_counts)"
   ]
  },
  {
   "cell_type": "markdown",
   "id": "8",
   "metadata": {},
   "source": [
    "<h3 style=\"color: #8b5e3c\"> Function for the Violin Plot </h3>\n",
    "Before we plot out the violin plots, we define a function that is designed to plot out a violin plot. This will help remove code is that too repetitive and will help reduce the size of the cells that are meant for graphing out box plots."
   ]
  },
  {
   "cell_type": "code",
   "execution_count": null,
   "id": "9",
   "metadata": {},
   "outputs": [],
   "source": [
    "# importing the sns library\n",
    "import seaborn as sns\n",
    "\n",
    "# function for graphing out a violin plot\n",
    "def graph_violin_plot(fan_segment, y_axis_title, dataset, ax, season):\n",
    "    sns.violinplot(y = y_axis_title, data=dataset, color='#00471B', ax=ax)\n",
    "    ax.set_title(f\"Average Spending Violin Plot for Segment {fan_segment} ({season})\")\n",
    "    ax.set_xlabel(fan_segment)\n",
    "    ax.set_ylabel(y_axis_title)"
   ]
  },
  {
   "cell_type": "markdown",
   "id": "10",
   "metadata": {},
   "source": [
    "<h3 style=\"color: #8b5e3c\"> Visualizing the Average Spending vs Fan Segment of Bucks Fans </h3>\n",
    "Now that we made the function, we now make a box plot for looking at the average spending and fan segments of Bucks Fans. Since we're comparing a categorical variable against a numerical variable, we decided to opt for a box plot to visualize the results. Here is the visualization as such."
   ]
  },
  {
   "cell_type": "code",
   "execution_count": null,
   "id": "11",
   "metadata": {},
   "outputs": [],
   "source": [
    "# finding unique value of the fan segments\n",
    "fan_segments = account_df_2023['FanSegment'].unique()\n",
    "\n",
    "# setting the number of rows and columns\n",
    "rows = 3\n",
    "columns = 4\n",
    "\n",
    "# creating the figure\n",
    "fig, axes = plt.subplots(rows, columns, figsize=(20, 12)) \n",
    "\n",
    "fig.patch.set_facecolor('#EEE1C6') \n",
    "\n",
    "# flatten the axes array\n",
    "axes = axes.ravel()  \n",
    "\n",
    "# using a for loop to greate the graph\n",
    "for i, segment in enumerate(fan_segments):\n",
    "    if i < len(axes):  \n",
    "        segment_df = account_df_2023[account_df_2023['FanSegment'] == segment]\n",
    "        graph_violin_plot(segment, \"AvgSpend\", segment_df, axes[i], '2023')\n",
    "    \n",
    "for j in range(len(fan_segments), len(axes)):\n",
    "    fig.delaxes(axes[j])\n",
    "\n",
    "# displaying the plots\n",
    "plt.tight_layout()\n",
    "\n",
    "# saving the figure\n",
    "fig.savefig(\"C:/Users/galvanm/python/BucksHackathon25/BucksPlots/fan_segments_violin_plots_2023.png\", dpi=300, bbox_inches='tight')\n",
    "\n",
    "# displaying the plot\n",
    "plt.show()"
   ]
  },
  {
   "cell_type": "code",
   "execution_count": null,
   "id": "12",
   "metadata": {},
   "outputs": [],
   "source": [
    "# finding unique value of the fan segments\n",
    "fan_segments = account_df_2024['FanSegment'].unique()\n",
    "\n",
    "# setting the number of rows and columns\n",
    "rows = 3\n",
    "columns = 4\n",
    "\n",
    "# creating the figure\n",
    "fig, axes = plt.subplots(rows, columns, figsize=(20, 12)) \n",
    "\n",
    "fig.patch.set_facecolor('#EEE1C6') \n",
    "\n",
    "# flatten the axes array\n",
    "axes = axes.ravel()  \n",
    "\n",
    "# using a for loop to greate the graph\n",
    "for i, segment in enumerate(fan_segments):\n",
    "    if i < len(axes):  \n",
    "        segment_df = account_df_2024[account_df_2024['FanSegment'] == segment]\n",
    "        graph_violin_plot(segment, \"AvgSpend\", segment_df, axes[i], '2024')\n",
    "    \n",
    "for j in range(len(fan_segments), len(axes)):\n",
    "    fig.delaxes(axes[j])\n",
    "\n",
    "# displaying the plots\n",
    "plt.tight_layout()\n",
    "\n",
    "# saving the figure\n",
    "fig.savefig(\"C:/Users/galvanm/python/BucksHackathon25/BucksPlots/fan_segments_violin_plots_2024.png\", dpi=300, bbox_inches='tight')\n",
    "\n",
    "# displaying the plot\n",
    "plt.show()"
   ]
  },
  {
   "cell_type": "markdown",
   "id": "13",
   "metadata": {},
   "source": [
    "<h2 style=\"color: #8b5e3c\"> Distance To Arena vs Basketball Propensity (Scatter Plot) </h2>\n",
    "Next, we compare the DistanceToArena feature, which is the distance of residence to Fiserv Forum in miles against BasketballPropensity, which is the numerical value that represents basketball interest. It works from a scale of 0 to 1,000."
   ]
  },
  {
   "cell_type": "code",
   "execution_count": null,
   "id": "14",
   "metadata": {},
   "outputs": [],
   "source": [
    "# checking for unexpected outliers in basketball propensity\n",
    "max_propensity = account_df['BasketballPropensity'].dropna().unique().max()\n",
    "print(\"Maximum Basketball Propensity: \", max_propensity)\n",
    "\n",
    "# counting the number of null values in basketball propensity\n",
    "na_propensity_count = account_df['BasketballPropensity'].isnull().sum()\n",
    "print(\"Number of Null Values: \", na_propensity_count)\n",
    "\n",
    "# counting the number of null values in distance to arena\n",
    "na_distance_area_count = account_df['DistanceToArena'].isnull().sum()\n",
    "print(\"Number of Null Values in Distance to Area: \", na_distance_area_count)"
   ]
  },
  {
   "cell_type": "markdown",
   "id": "15",
   "metadata": {},
   "source": [
    "<h3 style=\"color: #8b5e3c\"> Function for the Scatter Plot </h3>\n",
    "Before we plot out the scatter plots, we define a function that is designed to plot out a scatter plot. This will help remove code is that too repetitive and will help reduce the size of the cells that are meant for graphing out scatter plot."
   ]
  },
  {
   "cell_type": "code",
   "execution_count": null,
   "id": "16",
   "metadata": {},
   "outputs": [],
   "source": [
    "# importing the numpy library\n",
    "import numpy as np\n",
    "\n",
    "# function for graphing out a scatter plot\n",
    "def graph_scatter_plot(data_frame, x_label, y_label, season):\n",
    "\n",
    "    data_frame['color_flag'] = 'Other'\n",
    "\n",
    "    data_frame.loc[\n",
    "        (data_frame[x_label].between(0, 400)) & (data_frame[y_label].between(0, 12)),\n",
    "        'color_flag'\n",
    "    ] = 'Milwaukee County 0 to 400'\n",
    "\n",
    "    data_frame.loc[\n",
    "        (data_frame[x_label].between(400, 800)) & (data_frame[y_label].between(0, 12)),\n",
    "        'color_flag'\n",
    "    ] = 'Milwaukee County 400 to 800'\n",
    "\n",
    "    data_frame.loc[\n",
    "        (data_frame[x_label].between(800, 1000)) & (data_frame[y_label].between(0, 12)),\n",
    "        'color_flag'\n",
    "    ] = 'Milwaukee County 800 to 1000'\n",
    "\n",
    "    data_frame.loc[\n",
    "        (data_frame[x_label].between(0, 400)) & (data_frame[y_label].between(12, 540)),\n",
    "        'color_flag'\n",
    "    ] = 'Midwest 0 to 400'\n",
    "\n",
    "    data_frame.loc[\n",
    "        (data_frame[x_label].between(400, 800)) & (data_frame[y_label].between(12, 540)),\n",
    "        'color_flag'\n",
    "    ] = 'Midwest 400 to 800'\n",
    "\n",
    "    data_frame.loc[\n",
    "        (data_frame[x_label].between(800, 1000)) & (data_frame[y_label].between(12, 540)),\n",
    "        'color_flag'\n",
    "    ] = 'Midwest 800 to 1000'\n",
    "\n",
    "    data_frame.loc[\n",
    "        (data_frame[x_label].between(0, 400)) & (data_frame[y_label].between(540, 1288)),\n",
    "        'color_flag'\n",
    "    ] = 'US-Canada 0 to 400'\n",
    "\n",
    "    data_frame.loc[\n",
    "        (data_frame[x_label].between(400, 800)) & (data_frame[y_label].between(540, 1288)),\n",
    "        'color_flag'\n",
    "    ] = 'US-Canada 400 to 800'\n",
    "\n",
    "    data_frame.loc[\n",
    "        (data_frame[x_label].between(800, 1000)) & (data_frame[y_label].between(540, 1288)),\n",
    "        'color_flag'\n",
    "    ] = 'US-Canada 800 to 1000'\n",
    "\n",
    "    data_frame.loc[\n",
    "        (data_frame[x_label].between(0, 400)) & (data_frame[y_label].between(1288, 4500)),\n",
    "        'color_flag'\n",
    "    ] = 'International 0 to 400'\n",
    "\n",
    "    data_frame.loc[\n",
    "        (data_frame[x_label].between(400, 800)) & (data_frame[y_label].between(1288, 4500)),\n",
    "        'color_flag'\n",
    "    ] = 'International 400 to 800'\n",
    "\n",
    "    data_frame.loc[\n",
    "        (data_frame[x_label].between(800, 1000)) & (data_frame[y_label].between(1288, 4500)),\n",
    "        'color_flag'\n",
    "    ] = 'International 800 to 1000'\n",
    "\n",
    "    sns.scatterplot(data=data_frame, x=x_label, y=y_label,  hue='color_flag',  \n",
    "            palette={'Milwaukee County 0 to 400': '#4D7C5A', \n",
    "                    'Milwaukee County 400 to 800' : '#195C35',\n",
    "                    'Milwaukee County 800 to 1000' : '#2E8B57',\n",
    "                    'Midwest 0 to 400':'#C19A6B',\n",
    "                    'Midwest 400 to 800':'#8B5E3C',\n",
    "                    'Midwest 800 to 1000':'#5F3C23',\n",
    "                    'US-Canada 0 to 400':'#A7D3F4',\n",
    "                    'US-Canada 400 to 800':'#3399CC',\n",
    "                    'US-Canada 800 to 1000':'#0077C0',\n",
    "                    'International 0 to 400':'#FBF6ED',\n",
    "                    'International 400 to 800':'#F5EBD9',\n",
    "                    'International 800 to 1000':'#EEE1C6',\n",
    "                    'Other' : '#d3d3d3'\n",
    "        }\n",
    "    )\n",
    "    #fig, ax = plt.subplots(figsize=(6,4))\n",
    "\n",
    "\n",
    "    sns.set_style( {'figure.facecolor': '#EEE1C6'})\n",
    "    plt.xlabel(x_label)\n",
    "    plt.ylabel(y_label)\n",
    "    plt.yticks(np.arange(0, 5000, 500))\n",
    "    plt.legend(bbox_to_anchor=(1.05, 1), loc='upper left', borderaxespad=0)\n",
    "    plt.title(f\"{x_label} vs {y_label} Scatterplot ({season})\")\n",
    "\n",
    "    # saving the figure\n",
    "    plt.savefig(f\"C:/Users/galvanm/python/BucksHackathon25/BucksPlots/propensity_vs_distance_scatterplot_{season}.png\", dpi=300, bbox_inches='tight')"
   ]
  },
  {
   "cell_type": "markdown",
   "id": "17",
   "metadata": {},
   "source": [
    "<h3 style=\"color: #8b5e3c\"> Plotting out the Scatter Plot </h3>\n",
    "It is worth noting that there are missing values in both features. I will attempt to plot out a scatter plot, which by default should ingore the missing values. It is worth noting that later on, I will attempt at imputing the missing values and then plot out a new scatter plot. Another thing worth noting is that since we divided basketball propensity and DistanceToArena into categories, we can then plot out a heat map."
   ]
  },
  {
   "cell_type": "code",
   "execution_count": null,
   "id": "18",
   "metadata": {},
   "outputs": [],
   "source": [
    "graph_scatter_plot(account_df_2023, 'BasketballPropensity', 'DistanceToArena', '2023')"
   ]
  },
  {
   "cell_type": "code",
   "execution_count": null,
   "id": "19",
   "metadata": {},
   "outputs": [],
   "source": [
    "graph_scatter_plot(account_df_2024, 'BasketballPropensity', 'DistanceToArena', '2024')"
   ]
  },
  {
   "cell_type": "markdown",
   "id": "20",
   "metadata": {},
   "source": [
    "<h2 style=\"color: #8b5e3c\"> Distance To Arena vs Basketball Propensity (Box Plot) </h2>\n",
    "To allow us to derive a better understanding of the relationship between Distance To Arena and Basketball Propensity, I will categorize the levels of interest in Milwaukee Bucks games by Fans as 'Low', 'Medium' and 'High', which is from 0 to 400, 400 to 800 and 800 to 1000. For basketball propensity, I will categorize according to distance from Fiserv Forum, as shown in the legend below."
   ]
  },
  {
   "cell_type": "code",
   "execution_count": null,
   "id": "21",
   "metadata": {},
   "outputs": [],
   "source": [
    "# creating a new copy of the data frame\n",
    "account_df_copy_2023 = account_df_2023.copy()\n",
    "account_df_copy_2024 = account_df_2024.copy()\n",
    "\n",
    "# categorizing the basketball propensity feature into three different categories\n",
    "for propensity_score in account_df_copy_2023.index:\n",
    "    score = account_df_copy_2023.at[propensity_score, 'BasketballPropensity']\n",
    "    if(0 <= score < 400):\n",
    "        account_df_copy_2023.at[propensity_score, 'BasketballPropensity'] = 'Low'\n",
    "    elif(400 <= score < 800):\n",
    "        account_df_copy_2023.at[propensity_score, 'BasketballPropensity'] = 'Medium'\n",
    "    elif(score >=  800):\n",
    "        account_df_copy_2023.at[propensity_score, 'BasketballPropensity'] = 'High'\n",
    "\n",
    "for propensity_score in account_df_copy_2024.index:\n",
    "    score = account_df_copy_2024.at[propensity_score, 'BasketballPropensity']\n",
    "    if(0 <= score < 400):\n",
    "        account_df_copy_2024.at[propensity_score, 'BasketballPropensity'] = 'Low'\n",
    "    elif(400 <= score < 800):\n",
    "        account_df_copy_2024.at[propensity_score, 'BasketballPropensity'] = 'Medium'\n",
    "    elif(score >=  800):\n",
    "        account_df_copy_2024.at[propensity_score, 'BasketballPropensity'] = 'High'\n",
    "\n",
    "# categorizing the distance to arena feature into different categories\n",
    "for arena_distance in account_df_copy_2023.index:\n",
    "    distance = account_df_copy_2023.at[arena_distance, 'DistanceToArena']\n",
    "    if(0 <= distance < 12):\n",
    "        account_df_copy_2023.at[arena_distance, 'DistanceToArena'] = 'Milwaukee'\n",
    "    if(12 <= distance < 540):\n",
    "        account_df_copy_2023.at[arena_distance, 'DistanceToArena'] = 'Midwest'\n",
    "    if(540 <= distance < 1288):\n",
    "        account_df_copy_2023.at[arena_distance, 'DistanceToArena'] = 'US-Canada'\n",
    "    if(1288 <= distance < 4500):\n",
    "        account_df_copy_2023.at[arena_distance, 'DistanceToArena'] = 'International'\n",
    "\n",
    "for arena_distance in account_df_copy_2024.index:\n",
    "    distance = account_df_copy_2024.at[arena_distance, 'DistanceToArena']\n",
    "    if(0 <= distance < 12):\n",
    "        account_df_copy_2024.at[arena_distance, 'DistanceToArena'] = 'Milwaukee'\n",
    "    if(12 <= distance < 540):\n",
    "        account_df_copy_2024.at[arena_distance, 'DistanceToArena'] = 'Midwest'\n",
    "    if(540 <= distance < 1288):\n",
    "        account_df_copy_2024.at[arena_distance, 'DistanceToArena'] = 'US-Canada'\n",
    "    if(1288 <= distance < 4500):\n",
    "        account_df_copy_2024.at[arena_distance, 'DistanceToArena'] = 'International'\n",
    "        \n",
    "# viewing the copy of the data frame\n",
    "account_df_copy_2023.head(3)\n",
    "account_df_copy_2024.head(3)"
   ]
  },
  {
   "cell_type": "markdown",
   "id": "22",
   "metadata": {},
   "source": [
    "<h3 style=\"color: #8b5e3c\"> Plotting Out a Heatmap </h3>\n",
    "Now, we will plot a heat map, as we have converted the the two features into categorical features. Since we're plotting two categorical features against each other, it is worth plotting a heatmap, and we hope creating this heat map will help uncover more insights into our data.\n",
    " "
   ]
  },
  {
   "cell_type": "code",
   "execution_count": null,
   "id": "23",
   "metadata": {},
   "outputs": [],
   "source": [
    "# dropping all missing values\n",
    "filtered_df_2023 = account_df_copy_2023.dropna(subset=['DistanceToArena', 'BasketballPropensity'])\n",
    "filtered_df_2024 = account_df_copy_2024.dropna(subset=['DistanceToArena', 'BasketballPropensity'])\n",
    "\n",
    "# finding all the unique values in DistanceToArena\n",
    "print(\"Unique Values of DistanceToArena (2023)\", filtered_df_2023['DistanceToArena'].unique())\n",
    "print(\"Unique Values of DistanceToArena (2024)\", filtered_df_2024['DistanceToArena'].unique())\n",
    "\n",
    "# finding all the unique values in BasketBallPropensity\n",
    "print(\"Unique Values of BasketBallPropensity (2023)\", filtered_df_2023['BasketballPropensity'].unique())\n",
    "print(\"Unique Values of BasketBallPropensity (2024)\", filtered_df_2024['BasketballPropensity'].unique())\n",
    "\n",
    "print(\"\\n\")\n",
    "\n",
    "# finding count of unique values in DistanceToArena\n",
    "distance_count = filtered_df_2023['DistanceToArena'].value_counts()\n",
    "print('2023: ', distance_count)\n",
    "\n",
    "distance_count = filtered_df_2024['DistanceToArena'].value_counts()\n",
    "print('2024: ', distance_count)\n",
    "\n",
    "print(\"\\n\")\n",
    "\n",
    "# finding count of unique values in BasketBallPropensity\n",
    "propensity_count = filtered_df_2023['BasketballPropensity'].value_counts()\n",
    "print('2023: ', propensity_count)\n",
    "\n",
    "propensity_count = filtered_df_2024['BasketballPropensity'].value_counts()\n",
    "print('2024: ', propensity_count)"
   ]
  },
  {
   "cell_type": "code",
   "execution_count": null,
   "id": "24",
   "metadata": {},
   "outputs": [],
   "source": [
    "# importing the color map library\n",
    "from matplotlib.colors import LinearSegmentedColormap\n",
    "\n",
    "# order of axes\n",
    "x_order = ['Low', 'Medium', 'High']\n",
    "y_order = ['Milwaukee', 'Midwest', 'US-Canada', 'International'][::-1]\n",
    "\n",
    "# producing a frequency table\n",
    "heatmap_23 = pd.crosstab(filtered_df_2023['DistanceToArena'], filtered_df_2023['BasketballPropensity'])\n",
    "heatmap_23 = heatmap_23.reindex(index=y_order, columns=x_order)\n",
    "rownorm_23 = heatmap_23.div(heatmap_23.sum(axis=1),axis=0)\n",
    "\n",
    "\n",
    "heatmap_24 = pd.crosstab(filtered_df_2024['DistanceToArena'], filtered_df_2024['BasketballPropensity'])\n",
    "heatmap_24 = heatmap_24.reindex(index=y_order, columns=x_order)\n",
    "rownorm_24 = heatmap_24.div(heatmap_24.sum(axis=1),axis=0)\n",
    "\n",
    "# defining a color map scheme\n",
    "bucks_cmap = LinearSegmentedColormap.from_list(\"bucks_green\",  [\"#E0F2E9\", \"#A0D6B4\", \"#4CAF50\", \"#00471B\"])\n",
    "\n",
    "# plotting the heatmap\n",
    "plt.figure(figsize=(10, 6))\n",
    "sns.set_style( {'figure.facecolor': '#EEE1C6'})\n",
    "\n",
    "sns.heatmap(rownorm_23, annot=True, cmap=bucks_cmap)\n",
    "plt.title(\"Heatmap of BasketallPropensity vs DistanceToArena (2023)\")\n",
    "\n",
    " # saving the figure\n",
    "plt.savefig(f\"C:/Users/galvanm/python/BucksHackathon25/BucksPlots/propensity_vs_distance_heatmap_2023.png\", dpi=300, \n",
    "            bbox_inches='tight')\n",
    "plt.show()\n",
    "\n",
    "\n",
    "# plotting the heatmap\n",
    "plt.figure(figsize=(10, 6))\n",
    "sns.set_style( {'figure.facecolor': '#EEE1C6'})\n",
    "\n",
    "sns.heatmap(rownorm_24, annot=True, cmap=bucks_cmap)\n",
    "plt.title(\"Heatmap of BasketallPropensity vs DistanceToArena (2024)\")\n",
    "\n",
    " # saving the figure\n",
    "plt.savefig(f\"C:/Users/galvanm/python/BucksHackathon25/BucksPlots/propensity_vs_distance_heatmap_2024.png\", dpi=300, \n",
    "            bbox_inches='tight')\n",
    "plt.show()\n"
   ]
  },
  {
   "cell_type": "markdown",
   "id": "25",
   "metadata": {},
   "source": [
    "<h2 style=\"color: #8b5e3c\"> SocialMediaEngagement vs BasketballPropensity (Box Plot) </h2>\n",
    "Next up, we now compare the SocialMediaEngagement of Fans against the BasketballPropensity. As Basketball propensity is a numerical feature, I would like to focus on making box plots at first to see what kind of relationships can be dervied from the data visualization."
   ]
  },
  {
   "cell_type": "code",
   "execution_count": null,
   "id": "26",
   "metadata": {},
   "outputs": [],
   "source": [
    "# dropping all missing values\n",
    "filtered_df_two_23 = account_df_2023.dropna(subset=['SocialMediaEngagement', 'BasketballPropensity'])\n",
    "filtered_df_two_23.head(3)\n",
    "\n",
    "filtered_df_two_24 = account_df_2024.dropna(subset=['SocialMediaEngagement', 'BasketballPropensity'])\n",
    "filtered_df_two_24.head(3)"
   ]
  },
  {
   "cell_type": "markdown",
   "id": "27",
   "metadata": {},
   "source": [
    "<h3 style=\"color: #8b5e3c\"> Function for Boxplot </h3>\n",
    "Now, we define a function for the box plot. We use this function to allow us to create box plots as this eliminates the need to use the same code multiple times."
   ]
  },
  {
   "cell_type": "code",
   "execution_count": null,
   "id": "28",
   "metadata": {},
   "outputs": [],
   "source": [
    "# function to produce a box plot\n",
    "def create_box_plot(dataframe, x, y, title, filename):\n",
    "    fig, ax = plt.subplots(figsize=(10,6))\n",
    "    fig.patch.set_facecolor('#EEE1C6') \n",
    "    sns.boxplot(data=dataframe, x=x, y=y, color=\"#EEE1C6\")\n",
    "    plt.title(title)\n",
    "    plt.tight_layout()\n",
    "    plt.savefig(f\"C:/Users/galvanm/python/BucksHackathon25/BucksPlots/{filename}.png\", dpi=300, \n",
    "            bbox_inches='tight')\n",
    "    plt.show()"
   ]
  },
  {
   "cell_type": "markdown",
   "id": "29",
   "metadata": {},
   "source": [
    "<h3 style=\"color: #8b5e3c\"> Plotting out the Boxplots </h3>\n",
    "Given that we've defined the function for producing box plots, we now move to create a box plot that helps to determine the relationship between basketball propensity and social media engagement."
   ]
  },
  {
   "cell_type": "code",
   "execution_count": null,
   "id": "30",
   "metadata": {},
   "outputs": [],
   "source": [
    "# calculating the median values of low social media category\n",
    "subset_low = filtered_df_two_23[\n",
    "    (filtered_df_two_23['SocialMediaEngagement'] == 'Low')\n",
    "]\n",
    "print(\"Median of Low Social Media Engagement (2023): \" , subset_low['BasketballPropensity'].median())\n",
    "\n",
    "subset_low = filtered_df_two_24[\n",
    "    (filtered_df_two_24['SocialMediaEngagement'] == 'Low')\n",
    "]\n",
    "print(\"Median of Low Social Media Engagement (2024): \" , subset_low['BasketballPropensity'].median())\n",
    "\n",
    "# calculating the median values of medium social media category\n",
    "subset_median = filtered_df_two_23[\n",
    "    (filtered_df_two_23['SocialMediaEngagement'] == 'Medium')\n",
    "]\n",
    "print(\"Median of Medium Social Media Engagement (2023): \" , subset_median['BasketballPropensity'].median())\n",
    "\n",
    "subset_median = filtered_df_two_24[\n",
    "    (filtered_df_two_24['SocialMediaEngagement'] == 'Medium')\n",
    "]\n",
    "print(\"Median of Medium Social Media Engagement (2024): \" , subset_median['BasketballPropensity'].median())\n",
    "\n",
    "# calculating the median values of high social media category\n",
    "subset_high = filtered_df_two_23[\n",
    "    (filtered_df_two_23['SocialMediaEngagement'] == 'High')\n",
    "]\n",
    "print(\"Median of High Social Media Engagement(2023): \" , subset_high['BasketballPropensity'].median())\n",
    "\n",
    "subset_high = filtered_df_two_24[\n",
    "    (filtered_df_two_24['SocialMediaEngagement'] == 'High')\n",
    "]\n",
    "print(\"Median of High Social Media Engagement(2024): \" , subset_high['BasketballPropensity'].median())\n",
    "\n",
    "# plotting out the box plot\n",
    "create_box_plot(filtered_df_two_23, 'BasketballPropensity', 'SocialMediaEngagement',\n",
    "                \"SocialMediaEngagement vs BasketballPropensity Boxplot (2023)\", 'sme_vs_propensity_boxplot_2023.png')\n",
    "create_box_plot(filtered_df_two_24, 'BasketballPropensity', 'SocialMediaEngagement',\n",
    "                \"SocialMediaEngagement vs BasketballPropensity Boxplot (2024)\", 'sme_vs_propensity_boxplot_2023.png')"
   ]
  },
  {
   "cell_type": "markdown",
   "id": "31",
   "metadata": {},
   "source": [
    "<h2 style=\"color: #8b5e3c\"> FanSegment vs DistanceToArena (Violin Plot) </h2>\n",
    "We now move on to comparing FanSegment, which is a categorical feature, against DistanceToArena, which is a numerical feature. We will create box plots to see if there are relationships to derive.\n"
   ]
  },
  {
   "cell_type": "code",
   "execution_count": null,
   "id": "32",
   "metadata": {},
   "outputs": [],
   "source": [
    "# function for graphing out a violin plot\n",
    "def plot_violin_plot(fan_segment, y_axis_title, dataset, ax, title):\n",
    "    sns.violinplot(y = y_axis_title, data=dataset, color='#6DA544', ax=ax)\n",
    "    ax.set_title(title)\n",
    "    ax.set_xlabel(fan_segment)\n",
    "    ax.set_ylabel(y_axis_title)"
   ]
  },
  {
   "cell_type": "code",
   "execution_count": null,
   "id": "33",
   "metadata": {},
   "outputs": [],
   "source": [
    "# finding unique value of the fan segments\n",
    "fan_segments_23 = account_df_2023['FanSegment'].unique()\n",
    "fan_segments_24 = account_df_2024['FanSegment'].unique()\n",
    "\n",
    "# setting the number of rows and columns\n",
    "rows = 3\n",
    "columns = 4\n",
    "\n",
    "# creating the figure\n",
    "fig, axes = plt.subplots(rows, columns, figsize=(20, 12)) \n",
    "fig.patch.set_facecolor('#EEE1C6') \n",
    "\n",
    "# flatten the axes array\n",
    "axes = axes.ravel()  \n",
    "\n",
    "# using a for loop to greate the graph\n",
    "for i, segment in enumerate(fan_segments_23):\n",
    "    if i < len(axes):  \n",
    "        segment_df = account_df_2023[account_df_2023['FanSegment'] == segment]\n",
    "        plot_violin_plot(segment, \"DistanceToArena\", segment_df, axes[i], \n",
    "                          \"FanSegment vs DistanceToArena Violin Plot (2023)\")\n",
    "        axes[i].text(\n",
    "            0.5,           \n",
    "            -0.2,          \n",
    "            f\"Figure {i+1}\",\n",
    "            transform=axes[i].transAxes,\n",
    "            ha='center',\n",
    "            fontsize=12,    \n",
    "            clip_on=False   \n",
    "        )\n",
    "    \n",
    "for j in range(len(fan_segments_23), len(axes)):\n",
    "    fig.delaxes(axes[j])\n",
    "\n",
    "# displaying the plots\n",
    "plt.tight_layout()\n",
    "\n",
    "# saving the figure\n",
    "fig.savefig(f\"C:/Users/galvanm/python/BucksHackathon25/BucksPlots/segment_vs_distance_plots_2023.png\", dpi=300, bbox_inches='tight')\n",
    "\n",
    "# displaying the plot\n",
    "plt.show()\n",
    "\n"
   ]
  },
  {
   "cell_type": "code",
   "execution_count": null,
   "id": "34",
   "metadata": {},
   "outputs": [],
   "source": [
    "# setting the number of rows and columns\n",
    "rows = 3\n",
    "columns = 4\n",
    "\n",
    "# creating the figure\n",
    "fig, axes = plt.subplots(rows, columns, figsize=(20, 12)) \n",
    "fig.patch.set_facecolor('#EEE1C6') \n",
    "\n",
    "# flatten the axes array\n",
    "axes = axes.ravel()  \n",
    "\n",
    "# using a for loop to greate the graph\n",
    "for i, segment in enumerate(fan_segments_24):\n",
    "    if i < len(axes):  \n",
    "        segment_df = account_df_2024[account_df_2024['FanSegment'] == segment]\n",
    "        plot_violin_plot(segment, \"DistanceToArena\", segment_df, axes[i], \n",
    "                          \"FanSegment vs DistanceToArena Violin Plot (2024)\")\n",
    "        axes[i].text(\n",
    "            0.5,           \n",
    "            -0.2,          \n",
    "            f\"Figure {i+1}\",\n",
    "            transform=axes[i].transAxes,\n",
    "            ha='center',\n",
    "            fontsize=12,    \n",
    "            clip_on=False   \n",
    "        )\n",
    "    \n",
    "for j in range(len(fan_segments_24), len(axes)):\n",
    "    fig.delaxes(axes[j])\n",
    "\n",
    "# displaying the plots\n",
    "plt.tight_layout()\n",
    "\n",
    "# saving the figure\n",
    "fig.savefig(\"C:/Users/galvanm/python/BucksHackathon25/BucksPlots/segment_vs_distance_plots_2024.png\", dpi=300, bbox_inches='tight')\n",
    "\n",
    "# displaying the plot\n",
    "plt.show()"
   ]
  },
  {
   "cell_type": "markdown",
   "id": "35",
   "metadata": {},
   "source": [
    "<h3 style=\"color: #8b5e3c\"> Using Heat Map as an Alternative </h3>\n",
    "Looking at these violin plots, we can see that most of them are very similar to each other. As a result we wanted to see what it would be like to convert the DistanceToArena feature into a categorical feature and then create a heatmap."
   ]
  },
  {
   "cell_type": "code",
   "execution_count": null,
   "id": "36",
   "metadata": {},
   "outputs": [],
   "source": [
    "# producing a frequency table\n",
    "heatmap = pd.crosstab(filtered_df_2023['DistanceToArena'], filtered_df_2023['FanSegment'])\n",
    "rownorm = heatmap.div(heatmap.sum(axis=1),axis=0)\n",
    "\n",
    "# defining a color map scheme\n",
    "bblue_cmap = LinearSegmentedColormap.from_list(\"bucks_blue\",  [\"#D6EAF8\", \"#85C1E9\", \"#2E86C1\", \"#003DA5\"])\n",
    "\n",
    "# plotting the heatmap\n",
    "plt.figure(figsize=(10, 6))\n",
    "sns.set_style( {'figure.facecolor': '#EEE1C6'})\n",
    "\n",
    "sns.heatmap(rownorm, annot=True, cmap=bblue_cmap)\n",
    "plt.title(\"Heatmap of DistanceToArena vs FanSegment (2023)\")\n",
    "\n",
    " # saving the figure\n",
    "plt.savefig(f\"C:/Users/galvanm/python/BucksHackathon25/BucksPlots/segment_vs_distance_heatmap_2023.png\", dpi=300, \n",
    "            bbox_inches='tight')\n",
    "\n",
    "# calculating the number of values just to ensure we did this right\n",
    "subset_low = filtered_df_2023[\n",
    "    (filtered_df_2023['FanSegment'] == 'G')\n",
    "]\n",
    "print(\"Number of Midwest G: \" , subset_low['DistanceToArena'].count())"
   ]
  },
  {
   "cell_type": "code",
   "execution_count": null,
   "id": "37",
   "metadata": {},
   "outputs": [],
   "source": [
    "# producing a frequency table\n",
    "heatmap = pd.crosstab(filtered_df_2024['DistanceToArena'], filtered_df_2024['FanSegment'])\n",
    "rownorm = heatmap.div(heatmap.sum(axis=1),axis=0)\n",
    "\n",
    "# defining a color map scheme\n",
    "bblue_cmap = LinearSegmentedColormap.from_list(\"bucks_blue\",  [\"#D6EAF8\", \"#85C1E9\", \"#2E86C1\", \"#003DA5\"])\n",
    "\n",
    "# plotting the heatmap\n",
    "plt.figure(figsize=(10, 6))\n",
    "sns.set_style( {'figure.facecolor': '#EEE1C6'})\n",
    "sns.heatmap(rownorm, annot=True, cmap=bblue_cmap)\n",
    "plt.title(\"Heatmap of DistanceToArena vs FanSegment (2024)\")\n",
    "\n",
    " # saving the figure\n",
    "plt.savefig(f\"C:/Users/galvanm/python/BucksHackathon25/BucksPlots/segment_vs_distance_heatmap_2024.png\", dpi=300, \n",
    "            bbox_inches='tight')\n",
    "\n",
    "# calculating the number of values just to ensure we did this right\n",
    "subset_low = filtered_df_2024[\n",
    "    (filtered_df_2024['FanSegment'] == 'G')\n",
    "]\n",
    "print(\"Number of Midwest G: \" , subset_low['DistanceToArena'].count())"
   ]
  },
  {
   "cell_type": "markdown",
   "id": "38",
   "metadata": {},
   "source": [
    "<h2 style=\"color: #8b5e3c\"> AvgSpend vs SocialMediaEngagement (Box Plot) </h2>\n",
    "Next, we would like to create a box plot, as we would like to compare AvgSpend, which is a numerical feature against SocialMediaEngagement, which is a categorical feature. We would like to see if we can derive any relationships between these variables."
   ]
  },
  {
   "cell_type": "code",
   "execution_count": null,
   "id": "39",
   "metadata": {},
   "outputs": [],
   "source": [
    "# function to produce a box plot\n",
    "def plot_box_plot(dataframe, x, y, title, filename):\n",
    "    plt.figure(figsize=(10,6))\n",
    "    sns.boxplot(data=dataframe, x=x, y=y, color=\"#EEE1C6\", showfliers=False)\n",
    "    sns.set_style( {'figure.facecolor': '#EEE1C6'})\n",
    "    plt.title(title)\n",
    "    plt.tight_layout()\n",
    "    plt.savefig(f\"C:/Users/galvanm/python/BucksHackathon25/BucksPlots/{filename}.png\", dpi=300, \n",
    "            bbox_inches='tight')\n",
    "    plt.show()"
   ]
  },
  {
   "cell_type": "code",
   "execution_count": null,
   "id": "40",
   "metadata": {},
   "outputs": [],
   "source": [
    "# plotting out the box plot\n",
    "plot_box_plot(filtered_df_two_23, 'AvgSpend', 'SocialMediaEngagement',\n",
    "                \"SocialMediaEngagement vs AvgSpend Boxplot (2023)\", 'spend_vs_engagement_boxplot_2023.png')"
   ]
  },
  {
   "cell_type": "code",
   "execution_count": null,
   "id": "41",
   "metadata": {},
   "outputs": [],
   "source": [
    "# plotting out the box plot\n",
    "plot_box_plot(filtered_df_two_24, 'AvgSpend', 'SocialMediaEngagement',\n",
    "                \"SocialMediaEngagement vs AvgSpend Boxplot (2024)\", 'spend_vs_engagement_boxplot_2024.png')"
   ]
  },
  {
   "cell_type": "markdown",
   "id": "42",
   "metadata": {},
   "source": [
    "<h2 style=\"color: #8b5e3c\"> AvgSpend vs BasketballPropensity (Scatter Plot) </h2>\n",
    "Next, we would like to compare the AvgSpend against the BasketballPropensity. The AvgSpend is a numerical feature and so is the BasketballPropensity. We attempt to make a scatter plot in hopes that we can try to derive a relationship between these two features."
   ]
  },
  {
   "cell_type": "code",
   "execution_count": null,
   "id": "43",
   "metadata": {},
   "outputs": [],
   "source": [
    "sns.scatterplot(data=filtered_df_two_23, x='BasketballPropensity', y='AvgSpend', color='#6DA544')\n",
    "sns.set_style( {'figure.facecolor': '#EEE1C6'})\n",
    "plt.title(\"Scatter Plot of AvgSpend vs BasketballPropensity (2023)\")\n",
    "plt.savefig(f\"C:/Users/galvanm/python/BucksHackathon25/BucksPlots/spend_vs_propensity_2023.png\", dpi=300, bbox_inches='tight')"
   ]
  },
  {
   "cell_type": "code",
   "execution_count": null,
   "id": "44",
   "metadata": {},
   "outputs": [],
   "source": [
    "sns.scatterplot(data=filtered_df_two_24, x='BasketballPropensity', y='AvgSpend', color='#6DA544')\n",
    "sns.set_style( {'figure.facecolor': '#EEE1C6'})\n",
    "plt.title(\"Scatter Plot of AvgSpend vs BasketballPropensity (2024)\")\n",
    "plt.savefig(f\"C:/Users/galvanm/python/BucksHackathon25/BucksPlots/spend_vs_propensity_2024.png\", dpi=300, bbox_inches='tight')"
   ]
  },
  {
   "cell_type": "markdown",
   "id": "45",
   "metadata": {},
   "source": [
    "<h3 style=\"color: #8b5e3c\"> AvgSpend vs BasketballPropensity (Box Plot) </h3>\n",
    "Looking at the scatter plot, it is difficult to derive any relationships. In some of our previous approaches, we have categorized BasketballPropensity, and we would like to compare a categorical variable against the numerical variable."
   ]
  },
  {
   "cell_type": "code",
   "execution_count": null,
   "id": "46",
   "metadata": {},
   "outputs": [],
   "source": [
    "# plotting out a box plot\n",
    "sns.boxplot(filtered_df_2023, x='AvgSpend', y='BasketballPropensity', showfliers=False, color='#EEE1C6')\n",
    "sns.set_style( {'figure.facecolor': '#EEE1C6'})\n",
    "\n",
    "# plotting a title and saving the figure\n",
    "plt.title(\"Box Plot of AvgSpend vs BasketballPropensity (2023)\")\n",
    "plt.savefig(f\"C:/Users/galvanm/python/BucksHackathon25/BucksPlots/spend_vs_propensity_box_plot_2023.png\", dpi=300, bbox_inches='tight')"
   ]
  },
  {
   "cell_type": "code",
   "execution_count": null,
   "id": "47",
   "metadata": {},
   "outputs": [],
   "source": [
    "# plotting out a box plot\n",
    "sns.boxplot(filtered_df_2024, x='AvgSpend', y='BasketballPropensity', showfliers=False, color='#EEE1C6')\n",
    "sns.set_style( {'figure.facecolor': '#EEE1C6'})\n",
    "\n",
    "# plotting a title and saving the figure\n",
    "plt.title(\"Box Plot of AvgSpend vs BasketballPropensity (2024)\")\n",
    "plt.savefig(f\"C:/Users/galvanm/python/BucksHackathon25/BucksPlots/spend_vs_propensity_box_plot_2024.png\", dpi=300, bbox_inches='tight')"
   ]
  },
  {
   "cell_type": "markdown",
   "id": "48",
   "metadata": {},
   "source": [
    "<h3 style=\"color: #8b5e3c\"> AvgSpend Kernel Density Estimation Plot </h3>\n",
    "Before we move on to categorizing the AvgSpend feature, we would like to see the distribution of the AvgSpend numerical feature. We want to see if this can help us determine the limits for each category of the average spending."
   ]
  },
  {
   "cell_type": "code",
   "execution_count": null,
   "id": "49",
   "metadata": {},
   "outputs": [],
   "source": [
    "# code to plot out out  kernel density estimation plot\n",
    "sns.kdeplot(data=account_df_copy_2023, x='AvgSpend', fill=True, color='#6DA544')\n",
    "sns.set_style( {'figure.facecolor': '#EEE1C6'})\n",
    "\n",
    "# adding in the plotting details\n",
    "plt.title(\"KDE Plot of AvgSpend (2023)\")\n",
    "plt.xlabel(\"Average Spend\")\n",
    "plt.ylabel(\"Density\")\n",
    "\n",
    "# saving the figure\n",
    "plt.savefig(f\"C:/Users/galvanm/python/BucksHackathon25/BucksPlots/spend_kde_2023.png\", dpi=300, \n",
    "            bbox_inches='tight')\n",
    "\n",
    "# displaying the plot\n",
    "plt.show()"
   ]
  },
  {
   "cell_type": "code",
   "execution_count": null,
   "id": "50",
   "metadata": {},
   "outputs": [],
   "source": [
    "# code to plot out out  kernel density estimation plot\n",
    "sns.kdeplot(data=account_df_copy_2024, x='AvgSpend', fill=True, color='#6DA544')\n",
    "sns.set_style( {'figure.facecolor': '#EEE1C6'})\n",
    "\n",
    "# adding in the plotting details\n",
    "plt.title(\"KDE Plot of AvgSpend (2024)\")\n",
    "plt.xlabel(\"Average Spend\")\n",
    "plt.ylabel(\"Density\")\n",
    "\n",
    "# saving the figure\n",
    "plt.savefig(f\"C:/Users/galvanm/python/BucksHackathon25/BucksPlots/spend_kde_2024.png\", dpi=300, \n",
    "            bbox_inches='tight')\n",
    "\n",
    "# displaying the plot\n",
    "plt.show()"
   ]
  },
  {
   "cell_type": "markdown",
   "id": "51",
   "metadata": {},
   "source": [
    "<h3 style=\"color: #8b5e3c\"> AvgSpend vs BasketballPropensity (Heat Map) </h3>\n",
    "Next, we would like to plot a heat map. Given that we have categorized BasketballPropensity, we would also like to categorize AvgSpend. We would like to categorize the lower spenders as 0 to 500, medium spenders as 500 to 1500 and high spenders as 1500 to 3000."
   ]
  },
  {
   "cell_type": "code",
   "execution_count": null,
   "id": "52",
   "metadata": {},
   "outputs": [],
   "source": [
    "# creating a new copy of the data frame\n",
    "account_df_copy_two_2023 = account_df_copy_2023.copy()\n",
    "\n",
    "# categorizing the AvgSpend so that it becomes a categorical variable\n",
    "for average_spend in account_df_copy_two_2023.index:\n",
    "    spending_value = account_df_copy_two_2023.at[average_spend, 'AvgSpend']\n",
    "    if(0 <= spending_value < 300):\n",
    "        account_df_copy_two_2023.at[average_spend, 'AvgSpend'] = 'Low'\n",
    "    if(300 <= spending_value < 1500):\n",
    "        account_df_copy_two_2023.at[average_spend, 'AvgSpend'] = 'Medium'\n",
    "    if(1500 <= spending_value):\n",
    "        account_df_copy_two_2023.at[average_spend, 'AvgSpend'] = 'High'\n",
    "\n",
    "# displaying the data frame\n",
    "account_df_copy_two_2023.head(3)"
   ]
  },
  {
   "cell_type": "code",
   "execution_count": null,
   "id": "53",
   "metadata": {},
   "outputs": [],
   "source": [
    "# creating a new copy of the data frame\n",
    "account_df_copy_two_2024 = account_df_copy_2024.copy()\n",
    "\n",
    "# categorizing the AvgSpend so that it becomes a categorical variable\n",
    "for average_spend in account_df_copy_two_2024.index:\n",
    "    spending_value = account_df_copy_two_2024.at[average_spend, 'AvgSpend']\n",
    "    if(0 <= spending_value < 300):\n",
    "        account_df_copy_two_2024.at[average_spend, 'AvgSpend'] = 'Low'\n",
    "    if(300 <= spending_value < 1500):\n",
    "        account_df_copy_two_2024.at[average_spend, 'AvgSpend'] = 'Medium'\n",
    "    if(1500 <= spending_value < 3000):\n",
    "        account_df_copy_two_2024.at[average_spend, 'AvgSpend'] = 'High'\n",
    "\n",
    "# displaying the data frame\n",
    "account_df_copy_two_2024.head(3)"
   ]
  },
  {
   "cell_type": "code",
   "execution_count": null,
   "id": "54",
   "metadata": {},
   "outputs": [],
   "source": [
    "# producing a frequency table\n",
    "heatmap = pd.crosstab(account_df_copy_two_2023['AvgSpend'], account_df_copy_two_2023['BasketballPropensity'])\n",
    "rownorm = heatmap.div(heatmap.sum(axis=1),axis=0)\n",
    "\n",
    "# defining a color map scheme\n",
    "bblue_cmap = LinearSegmentedColormap.from_list(\"bucks_blue\",  [\"#D6EAF8\", \"#85C1E9\", \"#2E86C1\", \"#003DA5\"])\n",
    "\n",
    "# plotting the heatmap\n",
    "plt.figure(figsize=(10, 6))\n",
    "sns.heatmap(rownorm, annot=True, cmap=bblue_cmap)\n",
    "plt.title(\"Heatmap of DistanceToArena vs FanSegment (2023)\")\n",
    "sns.set_style( {'figure.facecolor': '#EEE1C6'})\n",
    "\n",
    "# saving the figure\n",
    "plt.savefig(f\"C:/Users/galvanm/python/BucksHackathon25/BucksPlots/spend_vs_propensity_heatmap_2023.png\", dpi=300, \n",
    "            bbox_inches='tight')"
   ]
  },
  {
   "cell_type": "code",
   "execution_count": null,
   "id": "55",
   "metadata": {},
   "outputs": [],
   "source": [
    "# producing a frequency table\n",
    "heatmap = pd.crosstab(account_df_copy_two_2024['AvgSpend'], account_df_copy_two_2024['BasketballPropensity'])\n",
    "rownorm = heatmap.div(heatmap.sum(axis=1),axis=0)\n",
    "\n",
    "# defining a color map scheme\n",
    "bblue_cmap = LinearSegmentedColormap.from_list(\"bucks_blue\",  [\"#D6EAF8\", \"#85C1E9\", \"#2E86C1\", \"#003DA5\"])\n",
    "\n",
    "# plotting the heatmap\n",
    "plt.figure(figsize=(10, 6))\n",
    "sns.heatmap(rownorm, annot=True, cmap=bblue_cmap)\n",
    "plt.title(\"Heatmap of DistanceToArena vs FanSegment (2024)\")\n",
    "sns.set_style( {'figure.facecolor': '#EEE1C6'})\n",
    "\n",
    "# saving the figure\n",
    "plt.savefig(f\"C:/Users/galvanm/python/BucksHackathon25/BucksPlots/spend_vs_propensity_heatmap_2024.png\", dpi=300, \n",
    "            bbox_inches='tight')"
   ]
  },
  {
   "cell_type": "markdown",
   "id": "56",
   "metadata": {},
   "source": [
    "<h2 style=\"color: #8b5e3c\"> AvgSpend vs DistanceToArena (Scatter Plot) </h2>\n",
    "We now move on to comparing AvgSpend, which is a numerical feature, and DistanceToArena, which is also a numerical feature. Since we're comparing two numerical features, this means that we can use a jointplot to help us to identify the relationships between these features."
   ]
  },
  {
   "cell_type": "code",
   "execution_count": null,
   "id": "57",
   "metadata": {},
   "outputs": [],
   "source": [
    "# plotting out a scatter plot\n",
    "sns.scatterplot(data=account_df_2023, x='DistanceToArena', y='AvgSpend', color='#EEE1C6')\n",
    "sns.set_style( {'figure.facecolor': '#EEE1C6'})\n",
    "\n",
    "# saving the figure\n",
    "plt.savefig(f\"C:/Users/galvanm/python/BucksHackathon25/BucksPlots/spend_vs_distance_scatter_plot_2023.png\", dpi=300, \n",
    "            bbox_inches='tight')\n",
    "\n",
    "# putting in the plot details\n",
    "plt.title(\"A Scatter Plot of DistanceToArena vs AvgSpend (2023)\")\n",
    "plt.show()"
   ]
  },
  {
   "cell_type": "code",
   "execution_count": null,
   "id": "58",
   "metadata": {},
   "outputs": [],
   "source": [
    "# plotting out a scatter plot\n",
    "sns.scatterplot(data=account_df_2024, x='DistanceToArena', y='AvgSpend', color='#EEE1C6')\n",
    "sns.set_style( {'figure.facecolor': '#EEE1C6'})\n",
    "\n",
    "# saving the figure\n",
    "plt.savefig(f\"C:/Users/galvanm/python/BucksHackathon25/BucksPlots/spend_vs_distance_scatter_plot_2024.png\", dpi=300, \n",
    "            bbox_inches='tight')\n",
    "\n",
    "# putting in the plot details\n",
    "plt.title(\"A Scatter Plot of DistanceToArena vs AvgSpend (2024)\")\n",
    "plt.show()"
   ]
  },
  {
   "cell_type": "markdown",
   "id": "59",
   "metadata": {},
   "source": [
    "<h3 style=\"color: #8b5e3c\"> AvgSpend vs DistanceToArena (Heat Map) </h3>\n",
    "Looking at the scatter plot, we're able to see that as the distance to arena increases, the average spending decreases. We're curious to see how this plays out as a heat map. Using a data frame where we previously categorized both of these features, we draw out a heat map."
   ]
  },
  {
   "cell_type": "code",
   "execution_count": null,
   "id": "60",
   "metadata": {},
   "outputs": [],
   "source": [
    "# producing a frequency table\n",
    "heatmap = pd.crosstab(account_df_copy_two_2023['AvgSpend'], account_df_copy_two_2023['DistanceToArena'])\n",
    "rownorm = heatmap.div(heatmap.sum(axis=1),axis=0)\n",
    "\n",
    "# defining a color map scheme\n",
    "bblue_cmap = LinearSegmentedColormap.from_list(\"bucks_blue\",  [\"#D6EAF8\", \"#85C1E9\", \"#2E86C1\", \"#003DA5\"])\n",
    "\n",
    "# plotting the heatmap\n",
    "plt.figure(figsize=(10, 6))\n",
    "sns.heatmap(rownorm, annot=True, cmap=bblue_cmap)\n",
    "plt.title(\"Heatmap of DistanceToArena vs AvgSpend (2023)\")\n",
    "sns.set_style( {'figure.facecolor': '#EEE1C6'})\n",
    "\n",
    "# saving the figure\n",
    "plt.savefig(f\"C:/Users/galvanm/python/BucksHackathon25/BucksPlots/spend_vs_distance_heatmap_2023.png\", dpi=300, \n",
    "            bbox_inches='tight')"
   ]
  },
  {
   "cell_type": "code",
   "execution_count": null,
   "id": "61",
   "metadata": {},
   "outputs": [],
   "source": [
    "# producing a frequency table\n",
    "heatmap = pd.crosstab(account_df_copy_two_2023['AvgSpend'], account_df_copy_two_2023['DistanceToArena'])\n",
    "rownorm = heatmap.div(heatmap.sum(axis=1),axis=0)\n",
    "\n",
    "# defining a color map scheme\n",
    "bblue_cmap = LinearSegmentedColormap.from_list(\"bucks_blue\",  [\"#D6EAF8\", \"#85C1E9\", \"#2E86C1\", \"#003DA5\"])\n",
    "\n",
    "# plotting the heatmap\n",
    "plt.figure(figsize=(10, 6))\n",
    "sns.heatmap(rownorm, annot=True,  cmap=bblue_cmap)\n",
    "plt.title(\"Heatmap of DistanceToArena vs AvgSpend (2023)\")\n",
    "sns.set_style( {'figure.facecolor': '#EEE1C6'})\n",
    "\n",
    "# saving the figure\n",
    "plt.savefig(f\"C:/Users/galvanm/python/BucksHackathon25/BucksPlots/spend_vs_distance_heatmap_2023.png\", dpi=300, \n",
    "            bbox_inches='tight')"
   ]
  },
  {
   "cell_type": "markdown",
   "id": "62",
   "metadata": {},
   "source": [
    "<h2 style=\"color: #8b5e3c\"> GamesAttended vs BasketballPropensity (Scatter Plot) </h2>\n",
    "Now, we'd like to compare the number of games attended by the fans against the level of interest in basketball. Since they're both numerical features, we would create a scatter plot to be able to derive any relationships."
   ]
  },
  {
   "cell_type": "code",
   "execution_count": null,
   "id": "63",
   "metadata": {},
   "outputs": [],
   "source": [
    "# plotting out a scatter plot\n",
    "sns.scatterplot(data=account_df_2023, x='BasketballPropensity', y='GamesAttended', color='#EEE1C6')\n",
    "sns.set_style( {'figure.facecolor': '#EEE1C6'})\n",
    "\n",
    "# saving the figure\n",
    "plt.savefig(f\"C:/Users/galvanm/python/BucksHackathon25/BucksPlots/propensity_vs_attended_scatter_plot_2023.png\", dpi=300, \n",
    "            bbox_inches='tight')\n",
    "\n",
    "# putting in the plot details\n",
    "plt.title(\"A Scatter Plot of GamesAttended vs BasketballPropensity (2023)\")\n",
    "plt.show()"
   ]
  },
  {
   "cell_type": "code",
   "execution_count": null,
   "id": "64",
   "metadata": {},
   "outputs": [],
   "source": [
    "# plotting out a scatter plot\n",
    "sns.scatterplot(data=account_df_2024, x='BasketballPropensity', y='GamesAttended', color='#EEE1C6')\n",
    "sns.set_style( {'figure.facecolor': '#EEE1C6'})\n",
    "\n",
    "# saving the figure\n",
    "plt.savefig(f\"C:/Users/galvanm/python/BucksHackathon25/BucksPlots/propensity_vs_attended_scatter_plot_2024.png\", dpi=300, \n",
    "            bbox_inches='tight')\n",
    "\n",
    "# putting in the plot details\n",
    "plt.title(\"A Scatter Plot of GamesAttended vs BasketballPropensity (2024)\")\n",
    "plt.show()"
   ]
  },
  {
   "cell_type": "markdown",
   "id": "65",
   "metadata": {},
   "source": [
    "<h3 style=\"color: #8b5e3c\"> GamesAttended vs BasketballPropensity (Box Plot) </h3>\n",
    "The scatter plot we generated isn't so helpful here. In previous attempts, we'd like to compare BasketballPropensity as a categorical feature against GamesAttended as a numerical feature. We would like to see if there are any relationships we could derive from here."
   ]
  },
  {
   "cell_type": "code",
   "execution_count": null,
   "id": "66",
   "metadata": {},
   "outputs": [],
   "source": [
    "# code to plot out out  kernel density estimation plot\n",
    "sns.kdeplot(data=account_df_copy_2023, x='GamesAttended', fill=True, color='#6DA544')\n",
    "\n",
    "# adding in the plotting details\n",
    "plt.title(\"KDE Plot of GamesAttended (2023)\")\n",
    "plt.xlabel(\"GamesAttended\")\n",
    "plt.ylabel(\"Density\")\n",
    "sns.set_style( {'figure.facecolor': '#EEE1C6'})\n",
    "\n",
    "# saving the figure\n",
    "plt.savefig(f\"C:/Users/galvanm/python/BucksHackathon25/BucksPlots/attended_kde_plot_2023.png\", dpi=300, \n",
    "            bbox_inches='tight')\n"
   ]
  },
  {
   "cell_type": "code",
   "execution_count": null,
   "id": "67",
   "metadata": {},
   "outputs": [],
   "source": [
    "# code to plot out out  kernel density estimation plot\n",
    "sns.kdeplot(data=account_df_copy_2024, x='GamesAttended', fill=True, color='#6DA544')\n",
    "\n",
    "# adding in the plotting details\n",
    "plt.title(\"KDE Plot of GamesAttended (2024)\")\n",
    "plt.xlabel(\"GamesAttended\")\n",
    "plt.ylabel(\"Density\")\n",
    "sns.set_style( {'figure.facecolor': '#EEE1C6'})\n",
    "\n",
    "# saving the figure\n",
    "plt.savefig(f\"C:/Users/galvanm/python/BucksHackathon25/BucksPlots/attended_kde_plot_2024.png\", dpi=300, \n",
    "            bbox_inches='tight')"
   ]
  },
  {
   "cell_type": "code",
   "execution_count": null,
   "id": "68",
   "metadata": {},
   "outputs": [],
   "source": [
    "# creating a count plot for games being attended\n",
    "sns.countplot(data=account_df_copy_2023, x='GamesAttended', color='#6DA544')\n",
    "\n",
    "# putting in the plot details\n",
    "plt.xticks(rotation=90)\n",
    "plt.title(\"Distribution of Games Attended (2023)\")\n",
    "sns.set_style( {'figure.facecolor': '#EEE1C6'})\n",
    "\n",
    "# saving the plot\n",
    "plt.savefig(f\"C:/Users/galvanm/python/BucksHackathon25/BucksPlots/attended_count_plot_2023.png\", dpi=300, \n",
    "            bbox_inches='tight')\n",
    "plt.show()"
   ]
  },
  {
   "cell_type": "code",
   "execution_count": null,
   "id": "69",
   "metadata": {},
   "outputs": [],
   "source": [
    "# creating a count plot for games being attended\n",
    "sns.countplot(data=account_df_copy_2024, x='GamesAttended', color='#6DA544')\n",
    "\n",
    "# putting in the plot details\n",
    "plt.xticks(rotation=90)\n",
    "plt.title(\"Distribution of Games Attended (2024)\")\n",
    "sns.set_style( {'figure.facecolor': '#EEE1C6'})\n",
    "\n",
    "# saving the plot\n",
    "plt.savefig(f\"C:/Users/galvanm/python/BucksHackathon25/BucksPlots/attended_count_plot_2024.png\", dpi=300, \n",
    "            bbox_inches='tight')\n",
    "plt.show()"
   ]
  },
  {
   "cell_type": "markdown",
   "id": "70",
   "metadata": {},
   "source": [
    "<h3 style=\"color: #8b5e3c\"> GamesAttended vs BasketballPropensity (HeatMap) </h3>\n",
    "Lastly, we would like to attempt to create a heat map by converting the numerical feature of GamesAttended into a cattegorical feature. Since we're comparing a categorical feature against another categorical feature, this means we can plot out a heat map."
   ]
  },
  {
   "cell_type": "code",
   "execution_count": null,
   "id": "71",
   "metadata": {},
   "outputs": [],
   "source": [
    "# creating a new copy of the data frame\n",
    "account_df_copy_three_2023 = account_df_copy_2023.copy()\n",
    "account_df_copy_three_2024 = account_df_copy_2024.copy()\n",
    "\n",
    "# categorizing the AvgSpend so that it becomes a categorical variable\n",
    "for number_of_games in account_df_copy_three_2023.index:\n",
    "    games = account_df_copy_three_2023.at[number_of_games, 'GamesAttended']\n",
    "    if(0 <= games < 3):\n",
    "        account_df_copy_three_2023.at[number_of_games, 'GamesAttended'] = 'Low'\n",
    "    if(3 <= games < 8):\n",
    "        account_df_copy_three_2023.at[number_of_games, 'GamesAttended'] = 'Medium'\n",
    "    if(games >= 8):\n",
    "        account_df_copy_three_2023.at[number_of_games, 'GamesAttended'] = 'High'\n",
    "\n",
    "# displaying the data frame\n",
    "account_df_copy_three_2023.head(3)"
   ]
  },
  {
   "cell_type": "code",
   "execution_count": null,
   "id": "72",
   "metadata": {},
   "outputs": [],
   "source": [
    "# categorizing the AvgSpend so that it becomes a categorical variable\n",
    "for number_of_games in account_df_copy_three_2024.index:\n",
    "    games = account_df_copy_three_2024.at[number_of_games, 'GamesAttended']\n",
    "    if(0 <= games < 3):\n",
    "        account_df_copy_three_2024.at[number_of_games, 'GamesAttended'] = 'Low'\n",
    "    if(3 <= games < 8):\n",
    "        account_df_copy_three_2024.at[number_of_games, 'GamesAttended'] = 'Medium'\n",
    "    if(games >= 8):\n",
    "        account_df_copy_three_2024.at[number_of_games, 'GamesAttended'] = 'High'\n",
    "\n",
    "# displaying the data frame\n",
    "account_df_copy_three_2024.head(3)"
   ]
  },
  {
   "cell_type": "code",
   "execution_count": null,
   "id": "73",
   "metadata": {},
   "outputs": [],
   "source": [
    "# producing a frequency table\n",
    "heatmap = pd.crosstab(account_df_copy_two_2023['AvgSpend'], account_df_copy_two_2023['BasketballPropensity'])\n",
    "rownorm = heatmap.div(heatmap.sum(axis=1),axis=0)\n",
    "\n",
    "# defining a color map scheme\n",
    "bblue_cmap = LinearSegmentedColormap.from_list(\"bucks_blue\",  [\"#D6EAF8\", \"#85C1E9\", \"#2E86C1\", \"#003DA5\"])\n",
    "\n",
    "# plotting the heatmap\n",
    "plt.figure(figsize=(10, 6))\n",
    "sns.heatmap(rownorm, annot=True, cmap=bblue_cmap)\n",
    "plt.title(\"Heatmap of AvgSpend vs BasketballPropensity (2023)\")\n",
    "sns.set_style( {'figure.facecolor': '#EEE1C6'})\n",
    "\n",
    "# saving the figure\n",
    "plt.savefig(f\"C:/Users/galvanm/python/BucksHackathon25/BucksPlots/spend_vs_propensity_heatmap_2023.png\", dpi=300, \n",
    "            bbox_inches='tight')"
   ]
  },
  {
   "cell_type": "code",
   "execution_count": null,
   "id": "74",
   "metadata": {},
   "outputs": [],
   "source": [
    "# producing a frequency table\n",
    "heatmap = pd.crosstab(account_df_copy_two_2024['AvgSpend'], account_df_copy_two_2024['BasketballPropensity'])\n",
    "rownorm = heatmap.div(heatmap.sum(axis=1),axis=0)\n",
    "\n",
    "# defining a color map scheme\n",
    "bblue_cmap = LinearSegmentedColormap.from_list(\"bucks_blue\",  [\"#D6EAF8\", \"#85C1E9\", \"#2E86C1\", \"#003DA5\"])\n",
    "\n",
    "# plotting the heatmap\n",
    "plt.figure(figsize=(10, 6))\n",
    "sns.heatmap(rownorm, annot=True, cmap=bblue_cmap)\n",
    "plt.title(\"Heatmap of DistanceToArena vs FanSegment (2024)\")\n",
    "sns.set_style( {'figure.facecolor': '#EEE1C6'})\n",
    "\n",
    "# saving the figure\n",
    "plt.savefig(f\"C:/Users/galvanm/python/BucksHackathon25/BucksPlots/spend_vs_propensity_heatmap_2024.png\", dpi=300, \n",
    "            bbox_inches='tight')"
   ]
  },
  {
   "cell_type": "markdown",
   "id": "75",
   "metadata": {},
   "source": [
    "<h2 style=\"color: #8b5e3c\"> AvgSpend vs DistanceToArena (Scatter Plot) </h2>\n",
    "We now move on to comparing AvgSpend, which is a numerical feature, and DistanceToArena, which is also a numerical feature. Since we're comparing two numerical features, this means that we can use a jointplot to help us to identify the relationships between these features."
   ]
  },
  {
   "cell_type": "code",
   "execution_count": null,
   "id": "76",
   "metadata": {},
   "outputs": [],
   "source": [
    "# plotting out a scatter plot\n",
    "sns.scatterplot(data=account_df_2023, x='DistanceToArena', y='AvgSpend', color='#EEE1C6')\n",
    "sns.set_style( {'figure.facecolor': '#EEE1C6'})\n",
    "\n",
    "# saving the figure\n",
    "plt.savefig(f\"C:/Users/galvanm/python/BucksHackathon25/BucksPlots/spend_vs_distance_scatter_plot_2023.png\", dpi=300, \n",
    "            bbox_inches='tight')\n",
    "\n",
    "# putting in the plot details\n",
    "plt.title(\"A Scatter Plot of DistanceToArena vs AvgSpend (2023)\")\n",
    "plt.show()"
   ]
  },
  {
   "cell_type": "code",
   "execution_count": null,
   "id": "77",
   "metadata": {},
   "outputs": [],
   "source": [
    "# plotting out a scatter plot\n",
    "sns.scatterplot(data=account_df_2024, x='DistanceToArena', y='AvgSpend', color='#EEE1C6')\n",
    "sns.set_style( {'figure.facecolor': '#EEE1C6'})\n",
    "\n",
    "# saving the figure\n",
    "plt.savefig(f\"C:/Users/galvanm/python/BucksHackathon25/BucksPlots/spend_vs_distance_scatter_plot_2024.png\", dpi=300, \n",
    "            bbox_inches='tight')\n",
    "\n",
    "# putting in the plot details\n",
    "plt.title(\"A Scatter Plot of DistanceToArena vs AvgSpend (2024)\")\n",
    "plt.show()"
   ]
  },
  {
   "cell_type": "markdown",
   "id": "78",
   "metadata": {},
   "source": [
    "<h3 style=\"color: #8b5e3c\"> AvgSpend vs DistanceToArena (Heat Map) </h3>\n",
    "Looking at the scatter plot, we're able to see that as the distance to arena increases, the average spending decreases. We're curious to see how this plays out as a heat map. Using a data frame where we previously categorized both of these features, we draw out a heat map."
   ]
  },
  {
   "cell_type": "code",
   "execution_count": null,
   "id": "79",
   "metadata": {},
   "outputs": [],
   "source": [
    "# producing a frequency table\n",
    "heatmap = pd.crosstab(account_df_copy_two_2023['AvgSpend'], account_df_copy_two_2023['DistanceToArena'])\n",
    "rownorm = heatmap.div(heatmap.sum(axis=1),axis=0)\n",
    "\n",
    "# defining a color map scheme\n",
    "bblue_cmap = LinearSegmentedColormap.from_list(\"bucks_blue\",  [\"#D6EAF8\", \"#85C1E9\", \"#2E86C1\", \"#003DA5\"])\n",
    "\n",
    "# plotting the heatmap\n",
    "plt.figure(figsize=(10, 6))\n",
    "sns.heatmap(rownorm, annot=True, cmap=bblue_cmap)\n",
    "plt.title(\"Heatmap of DistanceToArena vs AvgSpend (2023)\")\n",
    "sns.set_style( {'figure.facecolor': '#EEE1C6'})\n",
    "\n",
    "# saving the figure\n",
    "plt.savefig(f\"C:/Users/galvanm/python/BucksHackathon25/BucksPlots/spend_vs_distance_heatmap_2023.png\", dpi=300, \n",
    "            bbox_inches='tight')"
   ]
  },
  {
   "cell_type": "code",
   "execution_count": null,
   "id": "80",
   "metadata": {},
   "outputs": [],
   "source": [
    "# producing a frequency table\n",
    "heatmap = pd.crosstab(account_df_copy_two_2024['AvgSpend'], account_df_copy_two_2024['DistanceToArena'])\n",
    "rownorm = heatmap.div(heatmap.sum(axis=1),axis=0)\n",
    "\n",
    "# defining a color map scheme\n",
    "bblue_cmap = LinearSegmentedColormap.from_list(\"bucks_blue\",  [\"#D6EAF8\", \"#85C1E9\", \"#2E86C1\", \"#003DA5\"])\n",
    "\n",
    "# plotting the heatmap\n",
    "plt.figure(figsize=(10, 6))\n",
    "sns.heatmap(rownorm, annot=True, cmap=bblue_cmap)\n",
    "plt.title(\"Heatmap of DistanceToArena vs AvgSpend (2024)\")\n",
    "sns.set_style( {'figure.facecolor': '#EEE1C6'})\n",
    "\n",
    "# saving the figure\n",
    "plt.savefig(f\"C:/Users/galvanm/python/BucksHackathon25/BucksPlots/spend_vs_distance_heatmap_2024.png\", dpi=300, \n",
    "            bbox_inches='tight')"
   ]
  },
  {
   "cell_type": "markdown",
   "id": "81",
   "metadata": {},
   "source": [
    "<h2 style=\"color: #8b5e3c\"> GamesAttended vs BasketballPropensity (Scatter Plot) </h2>\n",
    "Now, we'd like to compare the number of games attended by the fans against the level of interest in basketball. Since they're both numerical features, we would create a scatter plot to be able to derive any relationships."
   ]
  },
  {
   "cell_type": "code",
   "execution_count": null,
   "id": "82",
   "metadata": {},
   "outputs": [],
   "source": [
    "# plotting out a scatter plot\n",
    "sns.scatterplot(data=account_df_2023, x='BasketballPropensity', y='GamesAttended', color='#EEE1C6')\n",
    "sns.set_style( {'figure.facecolor': '#EEE1C6'})\n",
    "\n",
    "# saving the figure\n",
    "plt.savefig(f\"C:/Users/galvanm/python/BucksHackathon25/BucksPlots/propensity_vs_attended_scatter_plot_2023.png\", dpi=300, \n",
    "            bbox_inches='tight')\n",
    "\n",
    "# putting in the plot details\n",
    "plt.title(\"A Scatter Plot of GamesAttended vs BasketballPropensity (2023)\")\n",
    "plt.show()"
   ]
  },
  {
   "cell_type": "code",
   "execution_count": null,
   "id": "83",
   "metadata": {},
   "outputs": [],
   "source": [
    "# plotting out a scatter plot\n",
    "sns.scatterplot(data=account_df_2024, x='BasketballPropensity', y='GamesAttended', color='#EEE1C6')\n",
    "sns.set_style( {'figure.facecolor': '#EEE1C6'})\n",
    "\n",
    "# saving the figure\n",
    "plt.savefig(f\"C:/Users/galvanm/python/BucksHackathon25/BucksPlots/propensity_vs_attended_scatter_plot_2024.png\", dpi=300, \n",
    "            bbox_inches='tight')\n",
    "\n",
    "# putting in the plot details\n",
    "plt.title(\"A Scatter Plot of GamesAttended vs BasketballPropensity (2024)\")\n",
    "plt.show()"
   ]
  },
  {
   "cell_type": "markdown",
   "id": "84",
   "metadata": {},
   "source": [
    "<h3 style=\"color: #8b5e3c\"> GamesAttended vs BasketballPropensity (Box Plot) </h3>\n",
    "The scatter plot we generated isn't so helpful here. In previous attempts, we'd like to compare BasketballPropensity as a categorical feature against GamesAttended as a numerical feature. We would like to see if there are any relationships we could derive from here."
   ]
  },
  {
   "cell_type": "code",
   "execution_count": null,
   "id": "85",
   "metadata": {},
   "outputs": [],
   "source": [
    "# code to plot out out  kernel density estimation plot\n",
    "sns.kdeplot(data=account_df_copy_2023, x='GamesAttended', fill=True, color='#6DA544')\n",
    "\n",
    "# adding in the plotting details\n",
    "plt.title(\"KDE Plot of GamesAttended (2023)\")\n",
    "plt.xlabel(\"GamesAttended\")\n",
    "plt.ylabel(\"Density\")\n",
    "sns.set_style( {'figure.facecolor': '#EEE1C6'})\n",
    "\n",
    "# saving the figure\n",
    "plt.savefig(f\"C:/Users/galvanm/python/BucksHackathon25/BucksPlots/attended_kde_plot_2023.png\", dpi=300, \n",
    "            bbox_inches='tight')\n"
   ]
  },
  {
   "cell_type": "code",
   "execution_count": null,
   "id": "86",
   "metadata": {},
   "outputs": [],
   "source": [
    "# code to plot out out  kernel density estimation plot\n",
    "sns.kdeplot(data=account_df_copy_2024, x='GamesAttended', fill=True, color='#6DA544')\n",
    "\n",
    "# adding in the plotting details\n",
    "plt.title(\"KDE Plot of GamesAttended (2024)\")\n",
    "plt.xlabel(\"GamesAttended\")\n",
    "plt.ylabel(\"Density\")\n",
    "sns.set_style( {'figure.facecolor': '#EEE1C6'})\n",
    "\n",
    "# saving the figure\n",
    "plt.savefig(f\"C:/Users/galvanm/python/BucksHackathon25/BucksPlots/attended_kde_plot_2024.png\", dpi=300, \n",
    "            bbox_inches='tight')\n"
   ]
  },
  {
   "cell_type": "code",
   "execution_count": null,
   "id": "87",
   "metadata": {},
   "outputs": [],
   "source": [
    "# creating a count plot for games being attended\n",
    "sns.countplot(data=account_df_copy_2023, x='GamesAttended', color='#6DA544')\n",
    "\n",
    "# putting in the plot details\n",
    "plt.xticks(rotation=90)\n",
    "plt.title(\"Distribution of Games Attended (2023)\")\n",
    "sns.set_style( {'figure.facecolor': '#EEE1C6'})\n",
    "\n",
    "# saving the plot\n",
    "plt.savefig(f\"C:/Users/galvanm/python/BucksHackathon25/BucksPlots/attended_count_plot_2023.png\", dpi=300, \n",
    "            bbox_inches='tight')\n",
    "plt.show()"
   ]
  },
  {
   "cell_type": "code",
   "execution_count": null,
   "id": "88",
   "metadata": {},
   "outputs": [],
   "source": [
    "# creating a count plot for games being attended\n",
    "sns.countplot(data=account_df_copy_2024, x='GamesAttended', color='#6DA544')\n",
    "\n",
    "# putting in the plot details\n",
    "plt.xticks(rotation=90)\n",
    "plt.title(\"Distribution of Games Attended (2024)\")\n",
    "sns.set_style( {'figure.facecolor': '#EEE1C6'})\n",
    "\n",
    "# saving the plot\n",
    "plt.savefig(f\"C:/Users/galvanm/python/BucksHackathon25/BucksPlots/attended_count_plot_2024.png\", dpi=300, \n",
    "            bbox_inches='tight')\n",
    "plt.show()"
   ]
  },
  {
   "cell_type": "markdown",
   "id": "89",
   "metadata": {},
   "source": [
    "<h3 style=\"color: #8b5e3c\"> GamesAttended vs BasketballPropensity (HeatMap) </h3>\n",
    "Lastly, we would like to attempt to create a heat map by converting the numerical feature of GamesAttended into a cattegorical feature. Since we're comparing a categorical feature against another categorical feature, this means we can plot out a heat map."
   ]
  },
  {
   "cell_type": "code",
   "execution_count": null,
   "id": "90",
   "metadata": {},
   "outputs": [],
   "source": [
    "# creating a new copy of the data frame\n",
    "account_df_copy_three_2023 = account_df_copy_2023.copy()\n",
    "account_df_copy_three_2024 = account_df_copy_2024.copy()\n",
    "\n",
    "# categorizing the AvgSpend so that it becomes a categorical variable\n",
    "for number_of_games in account_df_copy_three_2023.index:\n",
    "    games = account_df_copy_three_2023.at[number_of_games, 'GamesAttended']\n",
    "    if(0 <= games < 3):\n",
    "        account_df_copy_three_2023.at[number_of_games, 'GamesAttended'] = 'Low'\n",
    "    if(3 <= games < 8):\n",
    "        account_df_copy_three_2023.at[number_of_games, 'GamesAttended'] = 'Medium'\n",
    "    if(games >= 8):\n",
    "        account_df_copy_three_2023.at[number_of_games, 'GamesAttended'] = 'High'\n",
    "\n",
    "# displaying the data frame\n",
    "account_df_copy_three_2023.head(3)"
   ]
  },
  {
   "cell_type": "code",
   "execution_count": null,
   "id": "91",
   "metadata": {},
   "outputs": [],
   "source": [
    "# categorizing the AvgSpend so that it becomes a categorical variable\n",
    "for number_of_games in account_df_copy_three_2024.index:\n",
    "    games = account_df_copy_three_2024.at[number_of_games, 'GamesAttended']\n",
    "    if(0 <= games < 3):\n",
    "        account_df_copy_three_2024.at[number_of_games, 'GamesAttended'] = 'Low'\n",
    "    if(3 <= games < 8):\n",
    "        account_df_copy_three_2024.at[number_of_games, 'GamesAttended'] = 'Medium'\n",
    "    if(games >= 8):\n",
    "        account_df_copy_three_2024.at[number_of_games, 'GamesAttended'] = 'High'\n",
    "\n",
    "# displaying the data frame\n",
    "account_df_copy_three_2024.head(3)\n"
   ]
  },
  {
   "cell_type": "code",
   "execution_count": null,
   "id": "92",
   "metadata": {},
   "outputs": [],
   "source": [
    "# producing a frequency table\n",
    "heatmap = pd.crosstab(account_df_copy_three_2023['GamesAttended'], account_df_copy_three_2023['BasketballPropensity'])\n",
    "rownorm = heatmap.div(heatmap.sum(axis=1),axis=0)\n",
    "\n",
    "# defining a color map scheme\n",
    "bblue_cmap = LinearSegmentedColormap.from_list(\"bucks_blue\",  [\"#D6EAF8\", \"#85C1E9\", \"#2E86C1\", \"#003DA5\"])\n",
    "\n",
    "# plotting the heatmap\n",
    "plt.figure(figsize=(10, 6))\n",
    "sns.set_style( {'figure.facecolor': '#EEE1C6'})\n",
    "sns.heatmap(rownorm, annot=True, cmap=bblue_cmap)\n",
    "plt.title(\"Heatmap of GamesAttended vs BasketballPropensity (2023)\")\n",
    "\n",
    "# saving the figure\n",
    "plt.savefig(f\"C:/Users/galvanm/python/BucksHackathon25/BucksPlots/attended_vs_propensity_heatmap_2023.png\", dpi=300, \n",
    "            bbox_inches='tight')"
   ]
  },
  {
   "cell_type": "code",
   "execution_count": null,
   "id": "93",
   "metadata": {},
   "outputs": [],
   "source": [
    "# producing a frequency table\n",
    "heatmap = pd.crosstab(account_df_copy_three_2024['GamesAttended'], account_df_copy_three_2024['BasketballPropensity'])\n",
    "rownorm = heatmap.div(heatmap.sum(axis=1),axis=0)\n",
    "\n",
    "# defining a color map scheme\n",
    "bblue_cmap = LinearSegmentedColormap.from_list(\"bucks_blue\",  [\"#D6EAF8\", \"#85C1E9\", \"#2E86C1\", \"#003DA5\"])\n",
    "\n",
    "# plotting the heatmap\n",
    "plt.figure(figsize=(10, 6))\n",
    "sns.set_style( {'figure.facecolor': '#EEE1C6'})\n",
    "sns.heatmap(rownorm, annot=True, cmap=bblue_cmap)\n",
    "plt.title(\"Heatmap of GamesAttended vs BasketballPropensity (2024)\")\n",
    "\n",
    "# saving the figure\n",
    "plt.savefig(f\"C:/Users/galvanm/python/BucksHackathon25/BucksPlots/attended_vs_propensity_heatmap_2024.png\", dpi=300, \n",
    "            bbox_inches='tight')"
   ]
  },
  {
   "cell_type": "markdown",
   "id": "94",
   "metadata": {},
   "source": [
    "<h2 style=\"color: #8b5e3c\"> GamesAttended vs FanSegment (Heat Map) </h2>\n",
    "Given that Fan Segment is a categorical feature, and that GamesAttended is a discrete numerical feature, we've decided to use GamesAttended as a categorical feature like we've done previously, so then we end up plotting a heat map."
   ]
  },
  {
   "cell_type": "code",
   "execution_count": null,
   "id": "95",
   "metadata": {},
   "outputs": [],
   "source": [
    "# producing a frequency table\n",
    "heatmap = pd.crosstab(account_df_copy_three_2023['GamesAttended'], account_df_copy_three_2023['FanSegment'])\n",
    "rownorm = heatmap.div(heatmap.sum(axis=1),axis=0)\n",
    "\n",
    "# defining a color map scheme\n",
    "bblue_cmap = LinearSegmentedColormap.from_list(\"bucks_blue\",  [\"#D6EAF8\", \"#85C1E9\", \"#2E86C1\", \"#003DA5\"])\n",
    "\n",
    "# plotting the heatmap\n",
    "plt.figure(figsize=(10, 6))\n",
    "sns.heatmap(rownorm, annot=True, cmap=bblue_cmap)\n",
    "plt.title(\"Heatmap of GamesAttended vs FanSegment (2023)\")\n",
    "sns.set_style( {'figure.facecolor': '#EEE1C6'})\n",
    "\n",
    "# saving the figure\n",
    "plt.savefig(f\"C:/Users/galvanm/python/BucksHackathon25/BucksPlots/attended_vs_segment_heatmap_2023.png\", dpi=300, \n",
    "            bbox_inches='tight')"
   ]
  },
  {
   "cell_type": "code",
   "execution_count": null,
   "id": "96",
   "metadata": {},
   "outputs": [],
   "source": [
    "# producing a frequency table\n",
    "heatmap = pd.crosstab(account_df_copy_three_2024['GamesAttended'], account_df_copy_three_2024['FanSegment'])\n",
    "rownorm = heatmap.div(heatmap.sum(axis=1),axis=0)\n",
    "\n",
    "# defining a color map scheme\n",
    "bblue_cmap = LinearSegmentedColormap.from_list(\"bucks_blue\",  [\"#D6EAF8\", \"#85C1E9\", \"#2E86C1\", \"#003DA5\"])\n",
    "\n",
    "# plotting the heatmap\n",
    "plt.figure(figsize=(10, 6))\n",
    "sns.heatmap(rownorm, annot=True, cmap=bblue_cmap)\n",
    "plt.title(\"Heatmap of GamesAttended vs FanSegment (2024)\")\n",
    "sns.set_style( {'figure.facecolor': '#EEE1C6'})\n",
    "\n",
    "# saving the figure\n",
    "plt.savefig(f\"C:/Users/galvanm/python/BucksHackathon25/BucksPlots/attended_vs_segment_heatmap_2024.png\", dpi=300, \n",
    "            bbox_inches='tight')"
   ]
  },
  {
   "cell_type": "markdown",
   "id": "97",
   "metadata": {},
   "source": [
    "<h2 style=\"color: #8b5e3c\"> GamesAttended vs DistanceToArena (BoxPlot) </h2>\n",
    "Now, we move on to comparing GamesAttended against the DistanceToArena feature. We plan to treat the GamesAttended feature as a categorical feature, and the DistanceToArena feature as a numerical feature. As a result, we plan on plotting out box plots that will help us determine the relationships between them."
   ]
  },
  {
   "cell_type": "code",
   "execution_count": null,
   "id": "98",
   "metadata": {},
   "outputs": [],
   "source": [
    "# creating a new copy of the data frame\n",
    "account_df_copy_four_2023 = account_df_2023.copy()\n",
    "account_df_copy_four_2024 = account_df_2024.copy()\n",
    "\n",
    "# categorizing the AvgSpend so that it becomes a categorical variable\n",
    "for number_of_games in account_df_copy_four_2023.index:\n",
    "    games = account_df_copy_four_2023.at[number_of_games, 'GamesAttended']\n",
    "    if(0 <= games < 3):\n",
    "        account_df_copy_four_2023.at[number_of_games, 'GamesAttended'] = 'Low'\n",
    "    if(3 <= games < 8):\n",
    "        account_df_copy_four_2023.at[number_of_games, 'GamesAttended'] = 'Medium'\n",
    "    if(games >= 8):\n",
    "        account_df_copy_four_2023.at[number_of_games, 'GamesAttended'] = 'High'\n",
    "\n",
    "# displaying the data frame\n",
    "account_df_copy_four_2023.head(3)"
   ]
  },
  {
   "cell_type": "code",
   "execution_count": null,
   "id": "99",
   "metadata": {},
   "outputs": [],
   "source": [
    "# categorizing the AvgSpend so that it becomes a categorical variable\n",
    "for number_of_games in account_df_copy_four_2024.index:\n",
    "    games = account_df_copy_four_2024.at[number_of_games, 'GamesAttended']\n",
    "    if(0 <= games < 3):\n",
    "        account_df_copy_four_2024.at[number_of_games, 'GamesAttended'] = 'Low'\n",
    "    if(3 <= games < 8):\n",
    "        account_df_copy_four_2024.at[number_of_games, 'GamesAttended'] = 'Medium'\n",
    "    if(games >= 8):\n",
    "        account_df_copy_four_2024.at[number_of_games, 'GamesAttended'] = 'High'\n",
    "\n",
    "# displaying the data frame\n",
    "account_df_copy_four_2024.head(3)"
   ]
  },
  {
   "cell_type": "code",
   "execution_count": null,
   "id": "100",
   "metadata": {},
   "outputs": [],
   "source": [
    "# function for plotting out the box plot\n",
    "plot_box_plot(account_df_copy_four_2023, \"DistanceToArena\", \"GamesAttended\", \n",
    "              'GamesAttended vs DistanceToArena Boxplot (2023)', 'attended_vs_distance_boxplot_2023')"
   ]
  },
  {
   "cell_type": "code",
   "execution_count": null,
   "id": "101",
   "metadata": {},
   "outputs": [],
   "source": [
    "# function for plotting out the box plot\n",
    "plot_box_plot(account_df_copy_four_2024, \"DistanceToArena\", \"GamesAttended\", \n",
    "              'GamesAttended vs DistanceToArena Box Plot (2024)', 'attended_vs_distance_boxplot_2024')"
   ]
  },
  {
   "cell_type": "markdown",
   "id": "102",
   "metadata": {},
   "source": [
    "<h2 style=\"color: #8b5e3c\"> GamesAttended vs SocialMediaEngagement (Heat Map) </h2>\n",
    "Next, we compare GamesAttended, which is a categorical feature for us, against SocialMediaEngagement, which is also another categorical feature. As a result, we would like to plot a heat map to compare the features."
   ]
  },
  {
   "cell_type": "code",
   "execution_count": null,
   "id": "103",
   "metadata": {},
   "outputs": [],
   "source": [
    "# producing a frequency table\n",
    "heatmap = pd.crosstab(account_df_copy_three_2023['GamesAttended'], account_df_copy_three_2023['SocialMediaEngagement'])\n",
    "rownorm = heatmap.div(heatmap.sum(axis=1),axis=0)\n",
    "\n",
    "# defining a color map scheme\n",
    "bblue_cmap = LinearSegmentedColormap.from_list(\"bucks_blue\",  [\"#D6EAF8\", \"#85C1E9\", \"#2E86C1\", \"#003DA5\"])\n",
    "\n",
    "# plotting the heatmap\n",
    "plt.figure(figsize=(10, 6))\n",
    "sns.heatmap(rownorm, annot=True, cmap=bblue_cmap)\n",
    "plt.title(\"Heatmap of GamesAttended vs SocialMediaEngagement (2023)\")\n",
    "sns.set_style( {'figure.facecolor': '#EEE1C6'})\n",
    "\n",
    "# saving the figure\n",
    "plt.savefig(f\"C:/Users/galvanm/python/BucksHackathon25/BucksPlots/attended_vs_engagement_heatmap_2023.png\", dpi=300, \n",
    "            bbox_inches='tight')"
   ]
  },
  {
   "cell_type": "code",
   "execution_count": null,
   "id": "104",
   "metadata": {},
   "outputs": [],
   "source": [
    "# producing a frequency table\n",
    "heatmap = pd.crosstab(account_df_copy_three_2024['GamesAttended'], account_df_copy_three_2024['SocialMediaEngagement'])\n",
    "rownorm = heatmap.div(heatmap.sum(axis=1),axis=0)\n",
    "\n",
    "# defining a color map scheme\n",
    "bblue_cmap = LinearSegmentedColormap.from_list(\"bucks_blue\",  [\"#D6EAF8\", \"#85C1E9\", \"#2E86C1\", \"#003DA5\"])\n",
    "\n",
    "# plotting the heatmap\n",
    "plt.figure(figsize=(10, 6))\n",
    "sns.heatmap(rownorm, annot=True, cmap=bblue_cmap)\n",
    "plt.title(\"Heatmap of GamesAttended vs SocialMediaEngagement (2024)\")\n",
    "sns.set_style( {'figure.facecolor': '#EEE1C6'})\n",
    "\n",
    "# saving the figure\n",
    "plt.savefig(f\"C:/Users/galvanm/python/BucksHackathon25/BucksPlots/attended_vs_engagement_heatmap_2024.png\", dpi=300, \n",
    "            bbox_inches='tight')"
   ]
  },
  {
   "cell_type": "markdown",
   "id": "105",
   "metadata": {},
   "source": [
    "<h2 style=\"color: #8b5e3c\"> STM vs DistanceToArena (Box Plot) </h2>\n",
    "Now, we move to plot the STM against the DistanceToArena. Since the STM is a discrete feature of just 0 and 1, we know that it is categorical. We also know that the DistanceToArena feature is numerical, so we decide to plot out a violin plot."
   ]
  },
  {
   "cell_type": "code",
   "execution_count": null,
   "id": "106",
   "metadata": {},
   "outputs": [],
   "source": [
    "account_df_2023['STM'] = account_df_2023['STM'].astype('category')\n",
    "sns.boxplot(data=account_df_2023, x=\"DistanceToArena\", y=\"STM\", showfliers=False, color=\"#EEE1C6\")\n",
    "plt.title(\"DistanceToArena vs STM Box Plot (2023)\")\n",
    "sns.set_style( {'figure.facecolor': '#EEE1C6'})\n",
    "\n",
    "# saving the figure\n",
    "plt.savefig(f\"C:/Users/galvanm/python/BucksHackathon25/BucksPlots/distance_vs_stm_boxplot_2023.png\", dpi=300, \n",
    "            bbox_inches='tight')"
   ]
  },
  {
   "cell_type": "code",
   "execution_count": null,
   "id": "107",
   "metadata": {},
   "outputs": [],
   "source": [
    "account_df_2024['STM'] = account_df_2024['STM'].astype('category')\n",
    "sns.boxplot(data=account_df_2024, x=\"DistanceToArena\", y=\"STM\", showfliers=False, color=\"#EEE1C6\")\n",
    "plt.title(\"DistanceToArena vs STM Box Plot (2024)\")\n",
    "sns.set_style( {'figure.facecolor': '#EEE1C6'})\n",
    "\n",
    "# saving the figure\n",
    "plt.savefig(f\"C:/Users/galvanm/python/BucksHackathon25/BucksPlots/distance_vs_stm_boxplot_2024.png\", dpi=300, \n",
    "            bbox_inches='tight')"
   ]
  },
  {
   "cell_type": "markdown",
   "id": "108",
   "metadata": {},
   "source": [
    "<h2 style=\"color: #8b5e3c\"> STM vs BasketballPropensity (Box Plot) </h2>\n",
    "Next, we move on to plotting the STM feature against the BasketballPropensity feature. Since we're treating the STM feature as cateogrical, we can then plot out a box plot to derive a relationship."
   ]
  },
  {
   "cell_type": "code",
   "execution_count": null,
   "id": "109",
   "metadata": {},
   "outputs": [],
   "source": [
    "sns.boxplot(data=account_df_2023, x=\"BasketballPropensity\", y=\"STM\", showfliers=False, color=\"#EEE1C6\")\n",
    "plt.title(\"BasketballPropensity vs STM Box Plot (2023)\")\n",
    "sns.set_style( {'figure.facecolor': '#EEE1C6'})\n",
    "\n",
    "# saving the figure\n",
    "plt.savefig(f\"C:/Users/galvanm/python/BucksHackathon25/BucksPlots/propensity_vs_stm_boxplot_2023.png\", dpi=300, \n",
    "            bbox_inches='tight')"
   ]
  },
  {
   "cell_type": "code",
   "execution_count": null,
   "id": "110",
   "metadata": {},
   "outputs": [],
   "source": [
    "sns.boxplot(data=account_df_2024, x=\"BasketballPropensity\", y=\"STM\", showfliers=False, color=\"#EEE1C6\")\n",
    "plt.title(\"BasketballPropensity vs STM Box Plot (2024)\")\n",
    "sns.set_style( {'figure.facecolor': '#EEE1C6'})\n",
    "\n",
    "# saving the figure\n",
    "plt.savefig(f\"C:/Users/galvanm/python/BucksHackathon25/BucksPlots/propensity_vs_stm_boxplot_2024.png\", dpi=300, \n",
    "            bbox_inches='tight')"
   ]
  },
  {
   "cell_type": "markdown",
   "id": "111",
   "metadata": {},
   "source": [
    "<h2 style=\"color: #8b5e3c\"> STM vs FanSegment (Heat Map) </h2>\n",
    "Next, we move on to plotting the STM, which is a categorical feature, against the Fan Segment. Since we're comparing two categorical features against one another, we decide that we should go with a heat map."
   ]
  },
  {
   "cell_type": "code",
   "execution_count": null,
   "id": "112",
   "metadata": {},
   "outputs": [],
   "source": [
    "# producing a frequency table\n",
    "heatmap = pd.crosstab(filtered_df_2023['STM'], filtered_df_2023['FanSegment'])\n",
    "rownorm = heatmap.div(heatmap.sum(axis=1),axis=0)\n",
    "\n",
    "# defining a color map scheme\n",
    "bblue_cmap = LinearSegmentedColormap.from_list(\"bucks_blue\",  [\"#D6EAF8\", \"#85C1E9\", \"#2E86C1\", \"#003DA5\"])\n",
    "\n",
    "# plotting the heatmap\n",
    "plt.figure(figsize=(10, 6))\n",
    "sns.heatmap(rownorm, annot=True, cmap=bblue_cmap)\n",
    "plt.title(\"Heatmap of STM vs FanSegment (2023)\")\n",
    "sns.set_style( {'figure.facecolor': '#EEE1C6'})\n",
    "\n",
    " # saving the figure\n",
    "plt.savefig(f\"C:/Users/galvanm/python/BucksHackathon25/BucksPlots/stm_vs_fan_segment_heatmap_2023.png\", dpi=300, \n",
    "            bbox_inches='tight')"
   ]
  },
  {
   "cell_type": "code",
   "execution_count": null,
   "id": "113",
   "metadata": {},
   "outputs": [],
   "source": [
    "# producing a frequency table\n",
    "heatmap = pd.crosstab(filtered_df_2024['STM'], filtered_df_2024['FanSegment'])\n",
    "rownorm = heatmap.div(heatmap.sum(axis=1),axis=0)\n",
    "\n",
    "\n",
    "# defining a color map scheme\n",
    "bblue_cmap = LinearSegmentedColormap.from_list(\"bucks_blue\",  [\"#D6EAF8\", \"#85C1E9\", \"#2E86C1\", \"#003DA5\"])\n",
    "\n",
    "# plotting the heatmap\n",
    "plt.figure(figsize=(10, 6))\n",
    "sns.heatmap(rownorm, annot=True, cmap=bblue_cmap)\n",
    "plt.title(\"Heatmap of STM vs FanSegment (2024)\")\n",
    "sns.set_style( {'figure.facecolor': '#EEE1C6'})\n",
    "\n",
    " # saving the figure\n",
    "plt.savefig(f\"C:/Users/galvanm/python/BucksHackathon25/BucksPlots/stm_vs_fan_segment_heatmap_2024.png\", dpi=300, \n",
    "            bbox_inches='tight')"
   ]
  },
  {
   "cell_type": "markdown",
   "id": "114",
   "metadata": {},
   "source": [
    "<h2 style=\"color: #8b5e3c\"> STM vs GamesAttended (Box Plot) </h2>\n",
    "Next, we move on to plotting the STM against GamesAttended. Since the STM is a categorical feature and GamesAttended is a numerical feature, we have decided to plot a box plot."
   ]
  },
  {
   "cell_type": "code",
   "execution_count": null,
   "id": "115",
   "metadata": {},
   "outputs": [],
   "source": [
    "sns.boxplot(data=account_df_2023, x=\"STM\", y=\"GamesAttended\", showfliers=False, color=\"#EEE1C6\")\n",
    "plt.title(\"STM vs GamesAttended Box Plot (2023)\")\n",
    "sns.set_style( {'figure.facecolor': '#EEE1C6'})\n",
    "\n",
    "# saving the figure\n",
    "plt.savefig(f\"C:/Users/galvanm/python/BucksHackathon25/BucksPlots/stm_vs_gamesattended_boxplot_2023.png\", dpi=300, \n",
    "            bbox_inches='tight')"
   ]
  },
  {
   "cell_type": "code",
   "execution_count": null,
   "id": "116",
   "metadata": {},
   "outputs": [],
   "source": [
    "sns.boxplot(data=account_df_2024, x=\"STM\", y=\"GamesAttended\", showfliers=False, color=\"#EEE1C6\")\n",
    "plt.title(\"STM vs GamesAttended Box Plot (2024)\")\n",
    "sns.set_style( {'figure.facecolor': '#EEE1C6'})\n",
    "\n",
    "# saving the figure\n",
    "plt.savefig(f\"C:/Users/galvanm/python/BucksHackathon25/BucksPlots/stm_vs_gamesattended_boxplot_2024.png\", dpi=300, \n",
    "            bbox_inches='tight')"
   ]
  },
  {
   "cell_type": "markdown",
   "id": "117",
   "metadata": {},
   "source": [
    "<h2 style=\"color: #8b5e3c\"> STM vs SocialMediaEngagement (Heat Map) </h2>\n",
    "Next, we move on to plotting the STM, which is a categorical feature, against SocialMediaEngagement, which is a categorical feature. As a result, we plan to plot out a heat map."
   ]
  },
  {
   "cell_type": "code",
   "execution_count": null,
   "id": "118",
   "metadata": {},
   "outputs": [],
   "source": [
    "# producing a frequency table\n",
    "heatmap = pd.crosstab(filtered_df_2023['STM'], filtered_df_2023['SocialMediaEngagement'])\n",
    "rownorm = heatmap.div(heatmap.sum(axis=1),axis=0)\n",
    "\n",
    "# defining a color map scheme\n",
    "bblue_cmap = LinearSegmentedColormap.from_list(\"bucks_blue\",  [\"#D6EAF8\", \"#85C1E9\", \"#2E86C1\", \"#003DA5\"])\n",
    "\n",
    "# plotting the heatmap\n",
    "plt.figure(figsize=(10, 6))\n",
    "sns.heatmap(rownorm, annot=True, cmap=bblue_cmap)\n",
    "plt.title(\"Heatmap of STM vs SocialMediaEngagement (2023)\")\n",
    "sns.set_style( {'figure.facecolor': '#EEE1C6'})\n",
    "\n",
    " # saving the figure\n",
    "plt.savefig(f\"C:/Users/galvanm/python/BucksHackathon25/BucksPlots/stm_vs_engagement_heatmap_2023.png\", dpi=300, \n",
    "            bbox_inches='tight')"
   ]
  },
  {
   "cell_type": "code",
   "execution_count": null,
   "id": "119",
   "metadata": {},
   "outputs": [],
   "source": [
    "# producing a frequency table\n",
    "heatmap = pd.crosstab(filtered_df_2024['STM'], filtered_df_2024['SocialMediaEngagement'])\n",
    "rownorm = heatmap.div(heatmap.sum(axis=1),axis=0)\n",
    "\n",
    "# defining a color map scheme\n",
    "bblue_cmap = LinearSegmentedColormap.from_list(\"bucks_blue\",  [\"#D6EAF8\", \"#85C1E9\", \"#2E86C1\", \"#003DA5\"])\n",
    "\n",
    "# plotting the heatmap\n",
    "plt.figure(figsize=(10, 6))\n",
    "sns.heatmap(rownorm, annot=True, cmap=bblue_cmap)\n",
    "plt.title(\"Heatmap of STM vs SocialMediaEngagement (2024)\")\n",
    "sns.set_style( {'figure.facecolor': '#EEE1C6'})\n",
    "\n",
    " # saving the figure\n",
    "plt.savefig(f\"C:/Users/galvanm/python/BucksHackathon25/BucksPlots/stm_vs_engagement_heatmap_2024.png\", dpi=300, \n",
    "            bbox_inches='tight')"
   ]
  },
  {
   "cell_type": "code",
   "execution_count": null,
   "id": "120",
   "metadata": {},
   "outputs": [],
   "source": []
  }
 ],
 "metadata": {
  "kernelspec": {
   "display_name": "Python 3 (ipykernel)",
   "language": "python",
   "name": "python3"
  },
  "language_info": {
   "codemirror_mode": {
    "name": "ipython",
    "version": 3
   },
   "file_extension": ".py",
   "mimetype": "text/x-python",
   "name": "python",
   "nbconvert_exporter": "python",
   "pygments_lexer": "ipython3",
   "version": "3.12.4"
  }
 },
 "nbformat": 4,
 "nbformat_minor": 5
}
