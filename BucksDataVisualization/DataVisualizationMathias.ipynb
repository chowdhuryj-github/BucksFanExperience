{
 "cells": [
  {
   "cell_type": "markdown",
   "id": "0",
   "metadata": {},
   "source": [
    "<h1 style=\"color: #006400;\"> Data Visualization </h1>\n",
    "<h3 style=\"color: #8b5e3c;\">Visualizing relationships between features using the ALSL and AccountLevel dataset</h3>\n",
    "\n",
    "<p style=\"color: #8b5e3c;\">Mathias Galvan</p>\n",
    "\n",
    "<h2 style=\"color: #006400;\"> Loading the Data </h2>"
   ]
  },
  {
   "cell_type": "code",
   "execution_count": null,
   "id": "1",
   "metadata": {},
   "outputs": [],
   "source": [
    "import pandas as pd\n",
    "import matplotlib.pyplot as plt\n",
    "import seaborn as sns\n",
    "from sklearn.preprocessing import StandardScaler\n",
    "scaler = StandardScaler()\n",
    "\n",
    "acc_seat_game = pd.read_csv('/Users/galvanm/python/BucksHackathon25/BucksDatasets/ALGLSL.csv')\n",
    "acc_seat = pd.read_csv('/Users/galvanm/python/BucksHackathon25/BucksDatasets/ALSL.csv')\n",
    "acc = pd.read_csv('/Users/galvanm/python/BucksHackathon25/BucksDatasets/AccountLevelFilled.csv')\n",
    "seat = pd.read_csv('/Users/galvanm/python/BucksHackathon25/BucksDatasets/SeatLevel.csv')\n",
    "\n",
    "acc_seat_2024 = pd.read_csv('/Users/galvanm/python/BucksHackathon25/BucksDatasets/ALGLSL_2024.csv')\n",
    "acc_seat_2023 = pd.read_csv('/Users/galvanm/python/BucksHackathon25/BucksDatasets/ALGLSL_2023.csv')\n",
    "acc_seat_2024.head()"
   ]
  },
  {
   "cell_type": "markdown",
   "id": "2",
   "metadata": {},
   "source": [
    "<h2 style=\"color: #006400;\"> FanSegment v GameTier</h2>\n"
   ]
  },
  {
   "cell_type": "code",
   "execution_count": null,
   "id": "3",
   "metadata": {},
   "outputs": [],
   "source": [
    "ct = pd.crosstab(acc_seat_2024['FanSegment'], acc_seat_2024['GameTier'])\n",
    "\n",
    "rownorm = ct.div(ct.sum(axis=1),axis=0)\n",
    "\n",
    "fig, ax = plt.subplots(figsize=(6,4))\n",
    "\n",
    "fig.patch.set_facecolor('#EEE1C6') \n",
    "\n",
    "sns.heatmap(rownorm, annot=True, cmap='Greens')\n",
    "plt.title('FanSegment x GameTier 2024')\n",
    "plt.xlabel('GameTier')\n",
    "plt.ylabel('Fan Segment')\n",
    "plt.savefig(f\"C:/Users/galvanm/python/BucksHackathon25/BucksPlots/segment_vs_gametier_2024_heatmap.png\", dpi=300, bbox_inches='tight')\n",
    "plt.show()\n",
    "\n",
    "ct = pd.crosstab(acc_seat_2023['FanSegment'], acc_seat_2023['GameTier'])\n",
    "\n",
    "rownorm = ct.div(ct.sum(axis=1),axis=0)\n",
    "\n",
    "fig, ax = plt.subplots(figsize=(6,4))\n",
    "\n",
    "fig.patch.set_facecolor('#EEE1C6') \n",
    "\n",
    "sns.heatmap(rownorm, annot=True, cmap='Greens')\n",
    "plt.title('FanSegment x GameTier 2023')\n",
    "plt.xlabel('GameTier')\n",
    "plt.ylabel('Fan Segment')\n",
    "plt.savefig(f\"C:/Users/galvanm/python/BucksHackathon25/BucksPlots/segment_vs_gametier_2023_heatmap.png\", dpi=300, bbox_inches='tight')\n",
    "plt.show()\n"
   ]
  },
  {
   "cell_type": "markdown",
   "id": "4",
   "metadata": {},
   "source": [
    "<h2 style=\"color: #006400;\"> SocialMediaEngagement v GameTier</h2>"
   ]
  },
  {
   "cell_type": "code",
   "execution_count": null,
   "id": "5",
   "metadata": {},
   "outputs": [],
   "source": [
    "ct = pd.crosstab(acc_seat_2024['SocialMediaEngagement'], acc_seat_2024['GameTier'])\n",
    "\n",
    "rownorm = ct.div(ct.sum(axis=1),axis=0)\n",
    "\n",
    "fig, ax = plt.subplots(figsize=(6,4))\n",
    "\n",
    "fig.patch.set_facecolor('#EEE1C6') \n",
    "\n",
    "sns.heatmap(rownorm, annot=True, cmap='Greens')\n",
    "plt.title('SocialMediaEngagement by GameTier 2024')\n",
    "plt.xlabel('GameTier')\n",
    "plt.ylabel('STM')\n",
    "plt.savefig(f\"C:/Users/galvanm/python/BucksHackathon25/BucksPlots/smengagement_vs_gametier_2024_heatmap.png\", dpi=300, bbox_inches='tight')\n",
    "plt.show()\n",
    "\n",
    "ct = pd.crosstab(acc_seat_2023['SocialMediaEngagement'], acc_seat_2023['GameTier'])\n",
    "\n",
    "rownorm = ct.div(ct.sum(axis=1),axis=0)\n",
    "\n",
    "fig, ax = plt.subplots(figsize=(6,4))\n",
    "\n",
    "fig.patch.set_facecolor('#EEE1C6') \n",
    "\n",
    "sns.heatmap(rownorm, annot=True, cmap='Greens')\n",
    "plt.title('SocialMediaEngagement by GameTier 2023')\n",
    "plt.xlabel('GameTier')\n",
    "plt.ylabel('STM')\n",
    "plt.savefig(f\"C:/Users/galvanm/python/BucksHackathon25/BucksPlots/smengagement_vs_gametier_2023_heatmap.png\", dpi=300, bbox_inches='tight')\n",
    "plt.show()\n"
   ]
  },
  {
   "cell_type": "markdown",
   "id": "6",
   "metadata": {},
   "source": [
    "<h2 style=\"color: #006400;\"> TicketPlans vs GameTier</h2>"
   ]
  },
  {
   "cell_type": "code",
   "execution_count": null,
   "id": "7",
   "metadata": {},
   "outputs": [],
   "source": [
    "\n",
    "\n",
    "\n",
    "def assign_ticket_flags(df : pd.DataFrame) -> pd.DataFrame:\n",
    "    # pull the three totals\n",
    "    n_group   = int(df['GroupTickets'].iloc[0])\n",
    "    n_partial = int(df['PartialPlanTickets'].iloc[0])\n",
    "    n_single  = int(df['SingleGameTickets'].iloc[0])\n",
    "    total     = n_group + n_partial + n_single \n",
    "    index = 0\n",
    "\n",
    "    for i in range(n_group):\n",
    "        df.at[index, 'GroupTickets'] = 1\n",
    "        index = index + 1\n",
    "\n",
    "    for i in range(n_partial):\n",
    "        df.at[index, 'PartialPlanTickets'] = 1\n",
    "        index = index + 1\n",
    "            \n",
    "    for i in range(n_single):\n",
    "        df.at[index, 'SingleGameTickets'] = 1\n",
    "        index = index + 1\n",
    "    return df\n",
    "\n",
    "# 4) Apply it to each account\n",
    "#spread_2024 = (acc_seat_2024.groupby('AccountNumber',axis=0, group_keys=False).apply(assign_ticket_flags))\n",
    "#spread_2023 = (acc_seat_2023.groupby('AccountNumber',axis=0, group_keys=False).apply(assign_ticket_flags))\n"
   ]
  },
  {
   "cell_type": "code",
   "execution_count": null,
   "id": "8",
   "metadata": {},
   "outputs": [],
   "source": [
    "\n",
    "acc_seat_2024['GameTier'] = acc_seat_2024['GameTier'].astype('category')                                      \n",
    "acc_seat_2024.info()"
   ]
  },
  {
   "cell_type": "code",
   "execution_count": null,
   "id": "9",
   "metadata": {},
   "outputs": [],
   "source": [
    "features = ['SingleGameTickets', 'GroupTickets', 'PartialPlanTickets']\n",
    "\n",
    "\n",
    "\n",
    "#sns.boxplot(data=acc_seat_2024[acc_seat_2024['SingleGameTickets' != 0 ]], x='SingleGameTickets', y='GameTier')#, showfliers=False)\n",
    "#plt.title('TicketPlan by GameTier 2024')\n",
    "#plt.xlabel('GameTier')\n",
    "#plt.ylabel('TicketPlan')\n",
    "#plt.show()\n"
   ]
  },
  {
   "cell_type": "markdown",
   "id": "10",
   "metadata": {},
   "source": [
    "<h2 style=\"color: #006400;\"> SeasonTicketMember vs GameTier</h2>"
   ]
  },
  {
   "cell_type": "code",
   "execution_count": null,
   "id": "11",
   "metadata": {},
   "outputs": [],
   "source": [
    "ct = pd.crosstab(acc_seat_2024['STM'], acc_seat_2024['GameTier'])\n",
    "\n",
    "rownorm = ct.div(ct.sum(axis=1),axis=0)\n",
    "\n",
    "fig, ax = plt.subplots(figsize=(6,4))\n",
    "\n",
    "fig.patch.set_facecolor('#EEE1C6') \n",
    "\n",
    "sns.heatmap(rownorm, annot=True, cmap='Greens')\n",
    "plt.title('SeasonTicketMember by GameTier 2024')\n",
    "plt.xlabel('GameTier')\n",
    "plt.ylabel('STM')\n",
    "plt.savefig(f\"C:/Users/galvanm/python/BucksHackathon25/BucksPlots/stm_vs_gametier_2024_heatmap.png\", dpi=300, bbox_inches='tight')\n",
    "plt.show()\n",
    "\n",
    "ct = pd.crosstab(acc_seat_2023['STM'], acc_seat_2023['GameTier'])\n",
    "\n",
    "rownorm = ct.div(ct.sum(axis=1),axis=0)\n",
    "\n",
    "fig, ax = plt.subplots(figsize=(6,4))\n",
    "\n",
    "fig.patch.set_facecolor('#EEE1C6') \n",
    "\n",
    "sns.heatmap(rownorm, annot=True, cmap='Greens')\n",
    "plt.title('SeasonTicketMember by GameTier 2023')\n",
    "plt.xlabel('GameTier')\n",
    "plt.ylabel('STM')\n",
    "plt.savefig(f\"C:/Users/galvanm/python/BucksHackathon25/BucksPlots/stm_vs_gametier_2023_heatmap.png\", dpi=300, bbox_inches='tight')\n",
    "plt.show()\n"
   ]
  },
  {
   "cell_type": "markdown",
   "id": "12",
   "metadata": {},
   "source": [
    "<h2 style=\"color: #006400;\">DistanceToArena v GameTier</h2>"
   ]
  },
  {
   "cell_type": "code",
   "execution_count": null,
   "id": "13",
   "metadata": {},
   "outputs": [],
   "source": [
    "def distance_label(x):\n",
    "    if x >= 80:\n",
    "        return 'Far'\n",
    "    elif x >= 40:\n",
    "        return 'Medium'\n",
    "    else:\n",
    "        return 'Close'\n",
    "\n",
    "acc_seat_2024['DistanceToArenaLabel'] = acc_seat_2024['DistanceToArena'].apply(distance_label)\n",
    "acc_seat_2023['DistanceToArenaLabel'] = acc_seat_2023['DistanceToArena'].apply(distance_label)\n",
    "\n",
    "ct = pd.crosstab(acc_seat_2024['DistanceToArenaLabel'], acc_seat_2024['GameTier'])\n",
    "\n",
    "rownorm = ct.div(ct.sum(axis=1),axis=0)\n",
    "\n",
    "fig, ax = plt.subplots(figsize=(6,4))\n",
    "\n",
    "fig.patch.set_facecolor('#EEE1C6') \n",
    "\n",
    "sns.heatmap(rownorm, annot=True, cmap='Greens')\n",
    "plt.title('DistanceFromArena by GameTier 2024')\n",
    "plt.xlabel('GameTier')\n",
    "plt.ylabel('Distance')\n",
    "plt.savefig(f\"C:/Users/galvanm/python/BucksHackathon25/BucksPlots/distance_vs_gametier_2024_heatmap.png\", dpi=300, bbox_inches='tight')\n",
    "plt.show()\n",
    "\n",
    "\n",
    "ct = pd.crosstab(acc_seat_2023['DistanceToArenaLabel'], acc_seat_2023['GameTier'])\n",
    "\n",
    "rownorm = ct.div(ct.sum(axis=1),axis=0)\n",
    "\n",
    "fig, ax = plt.subplots(figsize=(6,4))\n",
    "\n",
    "fig.patch.set_facecolor('#EEE1C6') \n",
    "\n",
    "sns.heatmap(rownorm, annot=True, cmap='Greens')\n",
    "plt.title('DistanceFromArena by GameTier 2023')\n",
    "plt.xlabel('GameTier')\n",
    "plt.ylabel('Distance')\n",
    "plt.savefig(f\"/Users/galvanm/python/BucksHackathon25/BucksPlots/distance_vs_gametier_2023_heatmap.png\", dpi=300, bbox_inches='tight')\n",
    "plt.show()\n"
   ]
  },
  {
   "cell_type": "markdown",
   "id": "14",
   "metadata": {},
   "source": [
    "<h2 style=\"color: #006400;\">BasketballPropensity v GameTier</h2>"
   ]
  },
  {
   "cell_type": "code",
   "execution_count": null,
   "id": "15",
   "metadata": {},
   "outputs": [],
   "source": [
    "def propensity_label(x):\n",
    "    if x >= 800:\n",
    "        return 'high'\n",
    "    elif x >= 400:\n",
    "        return 'medium'\n",
    "    else:\n",
    "        return 'low'\n",
    "\n",
    "acc_seat_2024['BasketballPropensityLabel'] = acc_seat_2024['BasketballPropensity'].apply(propensity_label)\n",
    "acc_seat_2023['BasketballPropensityLabel'] = acc_seat_2023['BasketballPropensity'].apply(propensity_label)\n",
    "\n",
    "ct = pd.crosstab(acc_seat_2024['BasketballPropensityLabel'], acc_seat_2024['GameTier'])\n",
    "\n",
    "rownorm = ct.div(ct.sum(axis=1),axis=0)\n",
    "\n",
    "fig, ax = plt.subplots(figsize=(6,4))\n",
    "\n",
    "fig.patch.set_facecolor('#EEE1C6') \n",
    "\n",
    "sns.heatmap(rownorm, annot=True, cmap='Greens')\n",
    "plt.title('BasketballPropensity by GameTier 2024')\n",
    "plt.xlabel('GameTier')\n",
    "plt.ylabel('BasketballPropensity')\n",
    "plt.savefig(f\"C:/Users/galvanm/python/BucksHackathon25/BucksPlots/propensity_vs_gametier_2024_heatmap.png\", dpi=300, bbox_inches='tight')\n",
    "plt.show()\n",
    "\n",
    "ct = pd.crosstab(acc_seat_2023['BasketballPropensityLabel'], acc_seat_2023['GameTier'])\n",
    "\n",
    "rownorm = ct.div(ct.sum(axis=1),axis=0)\n",
    "\n",
    "fig, ax = plt.subplots(figsize=(6,4))\n",
    "\n",
    "fig.patch.set_facecolor('#EEE1C6') \n",
    "\n",
    "sns.heatmap(rownorm, annot=True, cmap='Greens')\n",
    "plt.title('BasketballPropensity by GameTier 2023')\n",
    "plt.xlabel('GameTier')\n",
    "plt.ylabel('BasketballPropensity')\n",
    "plt.savefig(f\"C:/Users/galvanm/python/BucksHackathon25/BucksPlots/propensity_vs_gametier_2023_heatmap.png\", dpi=300, bbox_inches='tight')\n",
    "plt.show()"
   ]
  },
  {
   "cell_type": "markdown",
   "id": "16",
   "metadata": {},
   "source": [
    "<h2 style=\"color: #006400;\">FanSegment v GamesAttended</h2>"
   ]
  },
  {
   "cell_type": "code",
   "execution_count": null,
   "id": "17",
   "metadata": {},
   "outputs": [],
   "source": [
    "def games_attended_label(x):\n",
    "    if x >= 5:\n",
    "        return 'Many'\n",
    "    elif x >= 3:\n",
    "        return 'Few'\n",
    "    else:\n",
    "        return 'Very Few'\n",
    "\n",
    "acc_seat_2024['GamesAttendedClass'] = acc_seat_2024['GamesAttended'].apply(games_attended_label)\n",
    "acc_seat_2023['GamesAttendedClass'] = acc_seat_2023['GamesAttended'].apply(games_attended_label)\n",
    "\n",
    "ct = pd.crosstab(acc_seat_2024['GamesAttendedClass'], acc_seat_2024['FanSegment'])\n",
    "\n",
    "\n",
    "rownorm = ct.div(ct.sum(axis=1),axis=0)\n",
    "\n",
    "scaled_ct = pd.DataFrame(scaler.fit_transform(ct), index=ct.index, columns=ct.columns)\n",
    "\n",
    "fig, ax = plt.subplots(figsize=(6,4))\n",
    "\n",
    "fig.patch.set_facecolor('#EEE1C6') \n",
    "\n",
    "sns.heatmap(rownorm, annot=True, cmap='Greens')\n",
    "plt.title('GamesAttended by FanSegment 2024')\n",
    "plt.xlabel('FanSegment')\n",
    "plt.ylabel('GamesAttendedClass')\n",
    "plt.savefig(f\"C:/Users/galvanm/python/BucksHackathon25/BucksPlots/attended_vs_segment_2024_heatmap.png\", dpi=300, bbox_inches='tight')\n",
    "plt.show()\n",
    "\n",
    "ct = pd.crosstab(acc_seat_2023['GamesAttendedClass'], acc_seat_2023['FanSegment'])\n",
    "\n",
    "fig, ax = plt.subplots(figsize=(6,4))\n",
    "\n",
    "fig.patch.set_facecolor('#EEE1C6') \n",
    "\n",
    "rownorm = ct.div(ct.sum(axis=1),axis=0)\n",
    "\n",
    "sns.heatmap(rownorm, annot=True, cmap='Greens')\n",
    "plt.title('GamesAttended by FanSegment 2023')\n",
    "plt.xlabel('FanSegment')\n",
    "plt.ylabel('GamesAttendedClass')\n",
    "plt.savefig(f\"C:/Users/galvanm/python/BucksHackathon25/BucksPlots/attended_vs_segment_2023_heatmap.png\", dpi=300, bbox_inches='tight')\n",
    "plt.show()\n"
   ]
  },
  {
   "cell_type": "code",
   "execution_count": null,
   "id": "18",
   "metadata": {},
   "outputs": [],
   "source": [
    "acc_seat.info()"
   ]
  },
  {
   "cell_type": "markdown",
   "id": "19",
   "metadata": {},
   "source": [
    "<h3 style=\"color: #006400;\">Giveaway v FanSegment</h3>"
   ]
  },
  {
   "cell_type": "code",
   "execution_count": null,
   "id": "20",
   "metadata": {},
   "outputs": [],
   "source": [
    "ct = pd.crosstab(acc_seat_2024['GiveawayLabel'], acc_seat_2024['FanSegment'])\n",
    "\n",
    "rownorm = ct.div(ct.sum(axis=1),axis=0)\n",
    "\n",
    "sns.heatmap(rownorm, annot=True, cmap='Greens')\n",
    "plt.title('Giveaway by FanSegment (2024)')\n",
    "plt.xlabel('FanSegment')\n",
    "plt.ylabel('Giveaway')\n",
    "plt.savefig(f\"C:/Users/galvanm/python/BucksHackathon25/BucksPlots/giveaway_vs_segment_heatmap_2024.png\", dpi=300, bbox_inches='tight')\n",
    "plt.show()"
   ]
  },
  {
   "cell_type": "code",
   "execution_count": null,
   "id": "21",
   "metadata": {},
   "outputs": [],
   "source": [
    "ct = pd.crosstab(acc_seat_2023['GiveawayLabel'], acc_seat_2023['FanSegment'])\n",
    "\n",
    "rownorm = ct.div(ct.sum(axis=1),axis=0)\n",
    "\n",
    "scaled_ct = pd.DataFrame(scaler.fit_transform(ct), index=ct.index, columns=ct.columns)\n",
    "sns.heatmap(rownorm, annot=True, cmap='Greens')\n",
    "plt.title('Giveaway by FanSegment (2023)')\n",
    "plt.xlabel('FanSegment')\n",
    "plt.ylabel('Giveaway')\n",
    "plt.savefig(f\"C:/Users/galvanm/python/BucksHackathon25/BucksPlots/giveaway_vs_segment_heatmap_2023.png\", dpi=300, bbox_inches='tight')\n",
    "plt.show()"
   ]
  },
  {
   "cell_type": "code",
   "execution_count": null,
   "id": "22",
   "metadata": {},
   "outputs": [],
   "source": []
  }
 ],
 "metadata": {
  "kernelspec": {
   "display_name": "Python 3 (ipykernel)",
   "language": "python",
   "name": "python3"
  },
  "language_info": {
   "codemirror_mode": {
    "name": "ipython",
    "version": 3
   },
   "file_extension": ".py",
   "mimetype": "text/x-python",
   "name": "python",
   "nbconvert_exporter": "python",
   "pygments_lexer": "ipython3",
   "version": "3.12.4"
  }
 },
 "nbformat": 4,
 "nbformat_minor": 5
}
