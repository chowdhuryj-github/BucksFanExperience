{
 "cells": [
  {
   "cell_type": "markdown",
   "id": "0",
   "metadata": {},
   "source": [
    "<h1 style=\"color: #8b5e3c;\">Merging Game Level & Seat Level</h1>\n",
    "In this Jupyter Notebook, we aim to merge the datasets from GameLevel.csv and SeatLevel.csv. The purpose for merging these datasets is that we would like to find any possible relationsips between features of these different datasets by combining them together."
   ]
  },
  {
   "cell_type": "markdown",
   "id": "1",
   "metadata": {},
   "source": [
    "<h3 style=\"color: #8b5e3c\">Converting the CSV File to a Pandas Dataframe</h3>\n",
    "In this section, we convert the `.csv` file into a pandas dataframe by importing pandas and using `.read_csv` to read the csv into a pandas data frame. Finally, we display the dataframes that we have created."
   ]
  },
  {
   "cell_type": "code",
   "execution_count": null,
   "id": "2",
   "metadata": {},
   "outputs": [],
   "source": [
    "# importing the pandas library\n",
    "import pandas as pd\n",
    "\n",
    "# importing ipython display\n",
    "from IPython.display import display\n",
    "\n",
    "# importing the .csv files as dataframes\n",
    "game_df = pd.read_csv(\"C:/Users/galvanm/python/BucksHackathon25/BucksDatasets/GameLevel.csv\")\n",
    "seat_df = pd.read_csv(\"C:/Users/galvanm/python/BucksHackathon25/BucksDatasets/SeatLevel.csv\")\n",
    "\n",
    "# displaying the data frames\n",
    "display(game_df)\n",
    "display(seat_df)\n"
   ]
  },
  {
   "cell_type": "markdown",
   "id": "3",
   "metadata": {},
   "source": [
    "<h3 style=\"color: #8b5e3c\">Accessing the Details of the Rows</h3>\n",
    "In order to ensure we have a successful merge, we check the two rows from the different datasets that we expect to merge. We look at the selected observations below to see if the Game `Minnesota Timberwolves` from the Seat dataset and Game dataset merge together."
   ]
  },
  {
   "cell_type": "code",
   "execution_count": null,
   "id": "4",
   "metadata": {},
   "outputs": [],
   "source": [
    "# printing out the details of a specific row\n",
    "row = seat_df.iloc[493883]\n",
    "print(row)"
   ]
  },
  {
   "cell_type": "code",
   "execution_count": null,
   "id": "5",
   "metadata": {},
   "outputs": [],
   "source": [
    "# printing out the details of the game giveaway\n",
    "result = game_df[game_df.apply(lambda row: row.astype(str).str.contains('2025-04-08 Minnesota Timberwolves').any(), axis=1)]\n",
    "print(result)\n"
   ]
  },
  {
   "cell_type": "markdown",
   "id": "6",
   "metadata": {},
   "source": [
    "<h3 style=\"color: #8b5e3c\">Merging the Two Datasets</h3>\n",
    "Now that we've imported the datasets as pandas dataframes, we now create a new dataframe by merging two tables together. The feature that is in common with both datasets is the Game feature. As a result, we perform what is otherwise called a composite key. The type of merge we aim for is a left merge."
   ]
  },
  {
   "cell_type": "code",
   "execution_count": null,
   "id": "7",
   "metadata": {},
   "outputs": [],
   "source": [
    "game_seat_df = pd.merge(seat_df, game_df, on='Game', how='left')\n",
    "display(game_seat_df)"
   ]
  },
  {
   "cell_type": "markdown",
   "id": "8",
   "metadata": {},
   "source": [
    "<h3 style=\"color: #8b5e3c\">Validating the Merge</h3>\n",
    "Next, we move on to validating the merging of the tables. We would like to check if the game `Minnesota Timberwolves` has the same features that we looked at before. To do this, we use `.iloc` to check for the observation. "
   ]
  },
  {
   "cell_type": "code",
   "execution_count": null,
   "id": "9",
   "metadata": {},
   "outputs": [],
   "source": [
    "# checking number of missing values in giveaway column\n",
    "missing_giveaway_1 = game_df['Giveaway'].isna().sum()\n",
    "print(\"Missing Giveaways: \", missing_giveaway_1)\n",
    "\n",
    "# checking number of missing values in new giveaway column\n",
    "missing_giveaway_2 = game_df['Giveaway'].isna().sum()\n",
    "print(\"Missing Giveaways: \", missing_giveaway_2)\n",
    "\n",
    "# checking the new row that we've generated\n",
    "new_row = game_seat_df.iloc[493883]\n",
    "print(new_row)"
   ]
  },
  {
   "cell_type": "markdown",
   "id": "10",
   "metadata": {},
   "source": [
    "<h3 style=\"color: #8b5e3c\">Comparing with Another Merge</h3>\n",
    "To ensure we did our merge right, and that we're confident with the type of merge, we try to perform any other type of merge, and check to see what the features for the game `Minnesota Timeberwolves` look like. If they don't match with the the details of the observation that we looked at previously, then we know that there was a error in our merge."
   ]
  },
  {
   "cell_type": "code",
   "execution_count": null,
   "id": "11",
   "metadata": {},
   "outputs": [],
   "source": [
    "game_seat_df_1 = pd.merge(seat_df, game_df, on='Game', how='outer')\n",
    "display(game_seat_df_1)"
   ]
  },
  {
   "cell_type": "code",
   "execution_count": null,
   "id": "12",
   "metadata": {},
   "outputs": [],
   "source": [
    "# checking the new row that we've generated\n",
    "new_row = game_seat_df_1.iloc[493883]\n",
    "print(new_row)"
   ]
  },
  {
   "cell_type": "markdown",
   "id": "13",
   "metadata": {},
   "source": [
    "<h3 style=\"color: #8b5e3c\">Splitting the Merge</h3>\n",
    "To ensure no issues occur when merging with other datasets, we are going to split the merged dataset by season\n"
   ]
  },
  {
   "cell_type": "code",
   "execution_count": null,
   "id": "14",
   "metadata": {},
   "outputs": [],
   "source": [
    "game_seat_df_2024 = game_seat_df[game_seat_df['Season'] == 2024].sort_values('AccountNumber', ascending=True)\n",
    "game_seat_df_2023 = game_seat_df[game_seat_df['Season'] == 2023].sort_values('AccountNumber', ascending=True)"
   ]
  },
  {
   "cell_type": "markdown",
   "id": "15",
   "metadata": {},
   "source": [
    "<h3 style=\"color: #8b5e3c\">Converting to a `.csv` file</h3>\n",
    "Now that we've completed our merge and are confident with the results, we can finally convert our dataset into a .csv file and have an opportunity to perform data visualization."
   ]
  },
  {
   "cell_type": "code",
   "execution_count": null,
   "id": "16",
   "metadata": {},
   "outputs": [],
   "source": [
    "# converting data frame to a .csv file\n",
    "game_seat_df.to_csv('C:/Users/galvanm/python/BucksHackathon25/BucksDatasets/GLSL.csv', index='True')\n",
    "game_seat_df_2024.to_csv('C:/Users/galvanm/python/BucksHackathon25/BucksDatasets/GLSL_2024.csv', index='True')\n",
    "game_seat_df_2023.to_csv('C:/Users/galvanm/python/BucksHackathon25/BucksDatasets/GLSL_2023.csv', index='True')"
   ]
  },
  {
   "cell_type": "code",
   "execution_count": null,
   "id": "17",
   "metadata": {},
   "outputs": [],
   "source": []
  }
 ],
 "metadata": {
  "kernelspec": {
   "display_name": "Python 3 (ipykernel)",
   "language": "python",
   "name": "python3"
  },
  "language_info": {
   "codemirror_mode": {
    "name": "ipython",
    "version": 3
   },
   "file_extension": ".py",
   "mimetype": "text/x-python",
   "name": "python",
   "nbconvert_exporter": "python",
   "pygments_lexer": "ipython3",
   "version": "3.12.4"
  }
 },
 "nbformat": 4,
 "nbformat_minor": 5
}
