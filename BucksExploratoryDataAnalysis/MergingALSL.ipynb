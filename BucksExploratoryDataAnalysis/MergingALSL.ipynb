{
 "cells": [
  {
   "cell_type": "markdown",
   "id": "f5afc164-7ef3-45f1-977e-e8d54a3c696b",
   "metadata": {},
   "source": [
    "# Dataset Merging\n",
    "\n",
    "Here we aim to merge the datasets together to clearly visualize relations between the features of each dataset"
   ]
  },
  {
   "cell_type": "code",
   "execution_count": 89,
   "id": "4eb085eb-8e3e-4d1b-9b3f-9f72fc26695c",
   "metadata": {},
   "outputs": [],
   "source": [
    "import pandas as pd\n",
    "\n",
    "account = pd.read_csv('C:/Users/galvanm/python/BucksHackathon25/BucksBusinessObjectives/BucksDatasets/AccountLevel.csv')\n",
    "game = pd.read_csv('C:/Users/galvanm/python/BucksHackathon25/BucksBusinessObjectives/BucksDatasets/GameLevel.csv')\n",
    "seat = pd.read_csv('C:/Users/galvanm/python/BucksHackathon25/BucksBusinessObjectives/BucksDatasets/SeatLevel.csv')"
   ]
  },
  {
   "cell_type": "code",
   "execution_count": 91,
   "id": "8e6b6df9-5aba-49ee-8079-5180334e2ad7",
   "metadata": {},
   "outputs": [
    {
     "data": {
      "text/plain": [
       "Index(['Season_x', 'AccountNumber', 'SingleGameTickets', 'PartialPlanTickets',\n",
       "       'GroupTickets', 'STM', 'AvgSpend', 'GamesAttended', 'FanSegment',\n",
       "       'DistanceToArena', 'BasketballPropensity', 'SocialMediaEngagement',\n",
       "       'Season_y', 'Game', 'GameDate', 'GameTier'],\n",
       "      dtype='object')"
      ]
     },
     "execution_count": 91,
     "metadata": {},
     "output_type": "execute_result"
    }
   ],
   "source": [
    "account_seat = pd.merge(account, seat, on='AccountNumber', how='inner')\n",
    "\n",
    "#account_seat.to_csv('C:/Users/galvanm/python/BucksHackathon25/BucksBusinessObjectives/BucksDatasets/ALSL.csv', index = False)\n",
    "# Choosing inner join result for these reasons: \n",
    "# 1. None of the merging methods resulted in any data lost so there is no lost data through using inner\n",
    "# 2. The inner join helps visualize the intersecting datapoints, which is what we want the most to analyze \n",
    "account_seat.columns"
   ]
  },
  {
   "cell_type": "code",
   "execution_count": null,
   "id": "036143d6-4e89-4d3a-82f6-9d1687945b1c",
   "metadata": {},
   "outputs": [],
   "source": []
  }
 ],
 "metadata": {
  "kernelspec": {
   "display_name": "dataScienceEnv",
   "language": "python",
   "name": "python3"
  },
  "language_info": {
   "codemirror_mode": {
    "name": "ipython",
    "version": 3
   },
   "file_extension": ".py",
   "mimetype": "text/x-python",
   "name": "python",
   "nbconvert_exporter": "python",
   "pygments_lexer": "ipython3",
   "version": "3.13.1"
  }
 },
 "nbformat": 4,
 "nbformat_minor": 5
}
