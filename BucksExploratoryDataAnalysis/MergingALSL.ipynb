{
 "cells": [
  {
   "cell_type": "markdown",
   "id": "0",
   "metadata": {},
   "source": [
    "# Dataset Merging\n",
    "\r\n",
    "Here we aim to merge the datasets together to clearly visualize relations between the features of each dataset"
   ]
  },
  {
   "cell_type": "code",
   "execution_count": null,
   "id": "1",
   "metadata": {},
   "outputs": [],
   "source": [
    "import pandas as pd\n",
    "\n",
    "account = pd.read_csv('C:/Users/galvanm/python/BucksHackathon25/BucksDatasets/AccountLevel.csv')\n",
    "game = pd.read_csv('C:/Users/galvanm/python/BucksHackathon25/BucksDatasets/GameLevel.csv')\n",
    "seat = pd.read_csv('C:/Users/galvanm/python/BucksHackathon25/BucksDatasets/SeatLevel.csv')"
   ]
  },
  {
   "cell_type": "markdown",
   "id": "2",
   "metadata": {},
   "source": [
    "## Merging"
   ]
  },
  {
   "cell_type": "code",
   "execution_count": null,
   "id": "3",
   "metadata": {},
   "outputs": [],
   "source": [
    "account_seat = pd.merge(seat, account, on='AccountNumber', how='inner')\n",
    "\n",
    "account_seat.columns"
   ]
  },
  {
   "cell_type": "markdown",
   "id": "4",
   "metadata": {},
   "source": [
    "## Checking Merge"
   ]
  },
  {
   "cell_type": "code",
   "execution_count": null,
   "id": "5",
   "metadata": {},
   "outputs": [],
   "source": [
    "print(\"Acct‑level dupes:\", account['AccountNumber'].duplicated().sum())"
   ]
  },
  {
   "cell_type": "code",
   "execution_count": null,
   "id": "6",
   "metadata": {},
   "outputs": [],
   "source": [
    "print(account['AccountNumber'].loc[15667])\n",
    "\n",
    "duplicates = account[account.duplicated(subset='AccountNumber', keep=False)]\n",
    "\n",
    "duplicates = duplicates.sort_values('AccountNumber')\n",
    "\n",
    "duplicates.head()"
   ]
  },
  {
   "cell_type": "code",
   "execution_count": null,
   "id": "7",
   "metadata": {},
   "outputs": [],
   "source": [
    "account_unique = account.drop_duplicates(subset='AccountNumber')\n"
   ]
  },
  {
   "cell_type": "code",
   "execution_count": null,
   "id": "8",
   "metadata": {},
   "outputs": [],
   "source": [
    "sorted_df = account.sort_values('AccountNumber')\n",
    "sorted_df.head()"
   ]
  },
  {
   "cell_type": "markdown",
   "id": "9",
   "metadata": {},
   "source": [
    "## Splitting Dataset"
   ]
  },
  {
   "cell_type": "code",
   "execution_count": null,
   "id": "10",
   "metadata": {},
   "outputs": [],
   "source": [
    "account_2024 = account[account['Season']==2024]\n",
    "account_2024.sort_values('AccountNumber', inplace=True)\n",
    "\n",
    "account_2023 = account[account['Season']==2023]\n",
    "account_2023.sort_values('AccountNumber', inplace=True)\n",
    "\n",
    "seat_2024 = seat[seat['Season']==2024]\n",
    "seat_2024.sort_values('AccountNumber', inplace=True)\n",
    "\n",
    "seat_2023 = seat[seat['Season']==2023]\n",
    "seat_2023.sort_values('AccountNumber', inplace=True)"
   ]
  },
  {
   "cell_type": "code",
   "execution_count": null,
   "id": "11",
   "metadata": {},
   "outputs": [],
   "source": [
    "account_2024.head()"
   ]
  },
  {
   "cell_type": "code",
   "execution_count": null,
   "id": "12",
   "metadata": {},
   "outputs": [],
   "source": [
    "account_2023.head()"
   ]
  },
  {
   "cell_type": "code",
   "execution_count": null,
   "id": "13",
   "metadata": {},
   "outputs": [],
   "source": [
    "seat_2024.head()"
   ]
  },
  {
   "cell_type": "code",
   "execution_count": null,
   "id": "14",
   "metadata": {},
   "outputs": [],
   "source": [
    "seat_2023.head()"
   ]
  },
  {
   "cell_type": "code",
   "execution_count": null,
   "id": "15",
   "metadata": {},
   "outputs": [],
   "source": [
    "account_2024.to_csv(r\"C:\\Users\\galvanm\\python\\BucksHackathon25\\BucksDatasets\\AccountLevel_2024.csv\")\n",
    "account_2023.to_csv(r\"C:\\Users\\galvanm\\python\\BucksHackathon25\\BucksDatasets\\AccountLevel_2023.csv\")\n",
    "seat_2024.to_csv(r\"C:\\Users/galvanm/python/BucksHackathon25/BucksDatasets/SeatLevel_2024.csv\")\n",
    "seat_2024.to_csv(r\"C:\\Users/galvanm/python/BucksHackathon25/BucksDatasets/SeatLevel_2023.csv\")\n",
    "#\"C:\\Users\\galvanm\\python\\BucksHackathon25\\BucksBusinessObjectives\\BucksDatasets\\AccountLevel.csv\""
   ]
  },
  {
   "cell_type": "code",
   "execution_count": null,
   "id": "16",
   "metadata": {},
   "outputs": [],
   "source": [
    "ALSL_2024 = pd.merge(seat_2024, account_2024, on='AccountNumber', how='inner')\n",
    "ALSL_2023 = pd.merge(seat_2023, account_2023, on='AccountNumber', how='inner')"
   ]
  },
  {
   "cell_type": "code",
   "execution_count": null,
   "id": "17",
   "metadata": {},
   "outputs": [],
   "source": [
    "ALSL_2024.sort_values('AccountNumber', inplace=True)\n",
    "ALSL_2024.head()"
   ]
  },
  {
   "cell_type": "code",
   "execution_count": null,
   "id": "18",
   "metadata": {},
   "outputs": [],
   "source": [
    "ALSL_2023.sort_values('AccountNumber', inplace=True)\n",
    "ALSL_2023.head()"
   ]
  },
  {
   "cell_type": "code",
   "execution_count": null,
   "id": "19",
   "metadata": {},
   "outputs": [],
   "source": [
    "ALSL_2024.to_csv(r\"C:\\Users\\galvanm\\python\\BucksHackathon25\\BucksDatasets\\ALSL_2024.csv\")\n",
    "ALSL_2023.to_csv(r\"C:\\Users\\galvanm\\python\\BucksHackathon25\\BucksDatasets\\ALSL_2023.csv\")"
   ]
  },
  {
   "cell_type": "code",
   "execution_count": null,
   "id": "20",
   "metadata": {},
   "outputs": [],
   "source": [
    "\n",
    "ALSL_2024.shape"
   ]
  }
 ],
 "metadata": {
  "kernelspec": {
   "display_name": "Python 3 (ipykernel)",
   "language": "python",
   "name": "python3"
  },
  "language_info": {
   "codemirror_mode": {
    "name": "ipython",
    "version": 3
   },
   "file_extension": ".py",
   "mimetype": "text/x-python",
   "name": "python",
   "nbconvert_exporter": "python",
   "pygments_lexer": "ipython3",
   "version": "3.12.4"
  }
 },
 "nbformat": 4,
 "nbformat_minor": 5
}
