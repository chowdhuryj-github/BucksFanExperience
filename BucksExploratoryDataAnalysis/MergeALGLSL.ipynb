{
 "cells": [
  {
   "cell_type": "markdown",
   "id": "0",
   "metadata": {},
   "source": [
    "<h1 style=\"color: #8b5e3c;\">Merging AccountLevel, Game Level & Seat Level</h1>\n",
    "In this Jupyter Notebook, we aim to merge `AccountLevel`, `GameLevel` & `SeatLevel` datasets. The purpose of merging these datasets is that we would like to find any possible relationships between the features of all three datasets by combining them together."
   ]
  },
  {
   "cell_type": "markdown",
   "id": "1",
   "metadata": {},
   "source": [
    "<h3 style=\"color: #8b5e3c\">Converting the CSV File to a Pandas Dataframe</h3>\n",
    "In this section, we convert the `.csv` file into a pandas dataframe by importing pandas and using `.read_csv` to read the csv into a pandas data frame. Finally, we display the dataframes that we have created."
   ]
  },
  {
   "cell_type": "code",
   "execution_count": null,
   "id": "2",
   "metadata": {},
   "outputs": [],
   "source": [
    "# importing the pandas library\n",
    "import pandas as pd\n",
    "\n",
    "# importing ipython display\n",
    "from IPython.display import display\n",
    "\n",
    "# importing the .csv files as dataframes\n",
    "game_seat_df_2024 = pd.read_csv(\"C:/Users/galvanm/python/BucksHackathon25/BucksDatasets/GLSL_2024.csv\").drop(columns=\"Unnamed: 0\")\n",
    "game_seat_df_2023 = pd.read_csv(\"C:/Users/galvanm/python/BucksHackathon25/BucksDatasets/GLSL_2023.csv\").drop(columns=\"Unnamed: 0\")\n",
    "game_seat_df = pd.read_csv(\"C:/Users/galvanm/python/BucksHackathon25/BucksDatasets/GLSL.csv\").drop(columns=\"Unnamed: 0\")\n",
    "account_df = pd.read_csv(\"C:/Users/galvanm/python/BucksHackathon25/BucksDatasets/AccountLevel.csv\")\n",
    "\n",
    "# splitting the AccountLevel dataset by Season\n",
    "account_df_2024 = account_df[account_df['Season'] == 2024].sort_values('AccountNumber', ascending=True)\n",
    "account_df_2023 = account_df[account_df['Season'] == 2023].sort_values('AccountNumber', ascending=True)\n",
    "\n",
    "# displaying the data frames\n",
    "display(game_seat_df_2024)\n",
    "display(account_df_2024)\n"
   ]
  },
  {
   "cell_type": "markdown",
   "id": "3",
   "metadata": {},
   "source": [
    "<h3 style=\"color: #8b5e3c\">Extracting a Row for Validation</h3>\n",
    "Next, we extract observations for each dataset to where we expect that both observations would merge. In this case, we merge based on the `AccountNumber`. We extract the following as shown below."
   ]
  },
  {
   "cell_type": "code",
   "execution_count": null,
   "id": "4",
   "metadata": {},
   "outputs": [],
   "source": [
    "# the row for account number\n",
    "account_row = account_df.iloc[44210]\n",
    "print(account_row)"
   ]
  },
  {
   "cell_type": "code",
   "execution_count": null,
   "id": "5",
   "metadata": {},
   "outputs": [],
   "source": [
    "# the row for game & seat level\n",
    "#game_seat_row = game_seat_df.loc[game_seat_df.apply(lambda row: row.astype(str).str.contains('15667').any(), axis=1)]\n",
    "#print(game_seat_row)"
   ]
  },
  {
   "cell_type": "markdown",
   "id": "6",
   "metadata": {},
   "source": [
    "<h3 style=\"color: #8b5e3c\">Merging the Two Datasets</h3>\n",
    "Now that we've imported the datasets as pandas dataframes, we now create a new dataframe by merging two tables together. The feature that is in common with both datasets is the AccountNumber feature. As a result, we perform what is otherwise called a composite key. The type of merge we aim for is a left merge."
   ]
  },
  {
   "cell_type": "code",
   "execution_count": null,
   "id": "7",
   "metadata": {},
   "outputs": [],
   "source": [
    "# merging the two datasets together\n",
    "account_game_seat_df = pd.merge(game_seat_df, account_df, on='AccountNumber', how='left')\n",
    "account_game_seat_df_2024 = pd.merge(game_seat_df_2024, account_df_2024, on='AccountNumber', how='left')\n",
    "account_game_seat_df_2023 = pd.merge(game_seat_df_2023, account_df_2023, on='AccountNumber', how='left')\n",
    "\n",
    "display(account_game_seat_df.head(3))"
   ]
  },
  {
   "cell_type": "markdown",
   "id": "8",
   "metadata": {},
   "source": [
    "<h3 style=\"color: #8b5e3c\">Validating the Merge</h3>\n",
    "Next, we move on to validating the merge. We achieve this by checking if the rows that we checked before merging are the same as after merging. As a result, we display the data from the rows on `AccountNumber` of 15667."
   ]
  },
  {
   "cell_type": "code",
   "execution_count": null,
   "id": "9",
   "metadata": {},
   "outputs": [],
   "source": [
    "#account_game_seat_row = account_game_seat_df.loc[account_game_seat_df.apply(lambda row: row.astype(str).str.contains('15667').any(), axis=1)]\n",
    "#print(account_game_seat_row)"
   ]
  },
  {
   "cell_type": "code",
   "execution_count": null,
   "id": "10",
   "metadata": {},
   "outputs": [],
   "source": [
    "# printing out the details of the new data frame\n",
    "#display(account_game_seat_df.info())\n"
   ]
  },
  {
   "cell_type": "markdown",
   "id": "11",
   "metadata": {},
   "source": [
    "<h3 style=\"color: #8b5e3c\">Converting to a `.csv` file</h3>\n",
    "Now that we've completed our merge and are confident with the results, we can finally convert our dataset into a .csv file and have an opportunity to perform data visualization."
   ]
  },
  {
   "cell_type": "code",
   "execution_count": null,
   "id": "12",
   "metadata": {},
   "outputs": [],
   "source": [
    "# converting data frame to a .csv file\n",
    "account_game_seat_df.to_csv('C:/Users/galvanm/python/BucksHackathon25/BucksDatasets/ALGLSL.csv', index='False')\n",
    "account_game_seat_df_2024.to_csv('C:/Users/galvanm/python/BucksHackathon25/BucksDatasets/ALGLSL_2024.csv', index='False')\n",
    "account_game_seat_df_2023.to_csv('C:/Users/galvanm/python/BucksHackathon25/BucksDatasets/ALGLSL_2023.csv', index='False')\n",
    "\n"
   ]
  },
  {
   "cell_type": "code",
   "execution_count": null,
   "id": "13",
   "metadata": {},
   "outputs": [],
   "source": []
  }
 ],
 "metadata": {
  "kernelspec": {
   "display_name": "Python 3 (ipykernel)",
   "language": "python",
   "name": "python3"
  },
  "language_info": {
   "codemirror_mode": {
    "name": "ipython",
    "version": 3
   },
   "file_extension": ".py",
   "mimetype": "text/x-python",
   "name": "python",
   "nbconvert_exporter": "python",
   "pygments_lexer": "ipython3",
   "version": "3.12.4"
  }
 },
 "nbformat": 4,
 "nbformat_minor": 5
}
