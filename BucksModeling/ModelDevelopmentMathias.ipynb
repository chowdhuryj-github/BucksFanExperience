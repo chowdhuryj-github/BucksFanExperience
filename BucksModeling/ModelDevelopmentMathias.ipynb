{
 "cells": [
  {
   "cell_type": "markdown",
   "id": "0",
   "metadata": {},
   "source": [
    "<h1 style=\"color: #006400;\">Creating a Machine Learning Model</h1>\n",
    "<h3 style=\"color: #8b5e3c;\">Applying machine learning to create labels for our data</h3>\n",
    "<p style=\"color: #8b5e3c;\">Mathias Galvan</p>\n",
    "\n",
    "<h2 style=\"color: #006400;\"> Loading the Data </h2>"
   ]
  },
  {
   "cell_type": "code",
   "execution_count": null,
   "id": "1",
   "metadata": {},
   "outputs": [],
   "source": [
    "import pandas as pd\n",
    "import seaborn as sns\n",
    "from sklearn.preprocessing import StandardScaler, OneHotEncoder\n",
    "from sklearn.compose import ColumnTransformer\n",
    "from sklearn.decomposition import TruncatedSVD\n",
    "from sklearn.cluster import MiniBatchKMeans, Birch\n",
    "from sklearn.pipeline import Pipeline\n",
    "\n",
    "acc_game_seat_2023 = pd.read_csv(r'/Users/galvanm/python/BucksHackathon25/BucksDatasets/ALGLSL_2023.csv')\n",
    "acc_game_seat_2024 = pd.read_csv(r'/Users/galvanm/python/BucksHackathon25/BucksDatasets/ALGLSL_2024.csv')\n",
    "\n",
    "acc_game_seat_2023.head()"
   ]
  },
  {
   "cell_type": "code",
   "execution_count": null,
   "id": "2",
   "metadata": {},
   "outputs": [],
   "source": [
    "acc_game_seat_2024.info()"
   ]
  },
  {
   "cell_type": "code",
   "execution_count": null,
   "id": "3",
   "metadata": {},
   "outputs": [],
   "source": [
    "acc_game_seat_2024.describe()"
   ]
  },
  {
   "cell_type": "code",
   "execution_count": null,
   "id": "4",
   "metadata": {},
   "outputs": [],
   "source": [
    "acc_game_seat_2024['GiveawayLabel'].astype('category')\n",
    "acc_game_seat_2024['STM'].astype('category')\n",
    "acc_game_seat_2024['SocialMediaEngagement'].astype('category')\n",
    "acc_game_seat_2024['GameTier'].astype('category')\n",
    "\n",
    "acc_game_seat_2023['GiveawayLabel'].astype('category')\n",
    "acc_game_seat_2023['STM'].astype('category')\n",
    "acc_game_seat_2023['SocialMediaEngagement'].astype('category')\n",
    "acc_game_seat_2023['GameTier'].astype('category')"
   ]
  },
  {
   "cell_type": "code",
   "execution_count": null,
   "id": "5",
   "metadata": {},
   "outputs": [],
   "source": [
    "num_features = [\n",
    "    'BasketballPropensity',\n",
    "    'DistanceToArena',\n",
    "    'AvgSpend',\n",
    "    'GamesAttended',\n",
    "    'SingleGameTickets',\n",
    "    'PartialPlanTickets',\n",
    "    'GroupTickets'\n",
    "]\n",
    "cat_features = [\n",
    "    'GiveawayLabel',\n",
    "    'STM',\n",
    "    'SocialMediaEngagement',\n",
    "    'GameTier'\n",
    "]\n",
    "numeric_transformer = Pipeline([\n",
    "    ('scaler', StandardScaler())\n",
    "])\n",
    "categorical_transformer = Pipeline([\n",
    "    ('onehot', OneHotEncoder(handle_unknown='ignore', sparse_output=False))\n",
    "])\n",
    "preprocessor = ColumnTransformer([\n",
    "    ('num', numeric_transformer, num_features),\n",
    "    ('cat', categorical_transformer, cat_features)\n",
    "])\n",
    "reducer = TruncatedSVD(n_components=10, random_state=42)\n"
   ]
  },
  {
   "cell_type": "code",
   "execution_count": null,
   "id": "6",
   "metadata": {},
   "outputs": [],
   "source": [
    "mbk_pipeline = Pipeline([\n",
    "    ('prep', preprocessor),\n",
    "    ('svd', reducer),\n",
    "    ('cluster', MiniBatchKMeans(\n",
    "        n_clusters=8,         \n",
    "        batch_size=10000,     \n",
    "        random_state=42\n",
    "    ))\n",
    "])"
   ]
  },
  {
   "cell_type": "code",
   "execution_count": null,
   "id": "7",
   "metadata": {},
   "outputs": [],
   "source": [
    "birch_pipeline = Pipeline([\n",
    "    ('prep', preprocessor),\n",
    "    ('svd', reducer),\n",
    "    ('cluster', Birch(\n",
    "        n_clusters=8,         \n",
    "        threshold=0.5         \n",
    "    ))\n",
    "])"
   ]
  },
  {
   "cell_type": "code",
   "execution_count": null,
   "id": "8",
   "metadata": {},
   "outputs": [],
   "source": [
    "full_df = pd.concat([acc_game_seat_2023, acc_game_seat_2024], ignore_index=True)\n",
    "X = full_df[num_features + cat_features]\n"
   ]
  },
  {
   "cell_type": "code",
   "execution_count": null,
   "id": "9",
   "metadata": {},
   "outputs": [],
   "source": [
    "mbk_pipeline.fit(X)\n",
    "labels_mbk = mbk_pipeline.predict(X)\n",
    "full_df['cluster_mbk'] = labels_mbk\n"
   ]
  },
  {
   "cell_type": "code",
   "execution_count": null,
   "id": "10",
   "metadata": {},
   "outputs": [],
   "source": [
    "birch_pipeline.fit(X)\n",
    "labels_birch = birch_pipeline.predict(X)\n",
    "full_df['cluster_birch'] = labels_birch\n",
    "\n"
   ]
  },
  {
   "cell_type": "code",
   "execution_count": null,
   "id": "11",
   "metadata": {},
   "outputs": [],
   "source": [
    "#view clusters\n",
    "print(full_df['cluster_mbk'].unique())\n",
    "print(full_df['cluster_birch'].unique())"
   ]
  },
  {
   "cell_type": "code",
   "execution_count": null,
   "id": "12",
   "metadata": {},
   "outputs": [],
   "source": [
    "import matplotlib.pyplot as plt\n",
    "\n",
    "for feat in num_features:\n",
    "    plt.figure()\n",
    "    full_df.boxplot(column=feat, by='cluster_mbk')\n",
    "    plt.title(feat)\n",
    "    plt.xlabel('Cluster')\n",
    "    plt.ylabel(feat)\n",
    "    plt.show()"
   ]
  },
  {
   "cell_type": "code",
   "execution_count": null,
   "id": "13",
   "metadata": {},
   "outputs": [],
   "source": [
    "for feat in num_features:\n",
    "    full_df.boxplot(column=feat, by='cluster_birch')\n",
    "    plt.title(feat)\n",
    "    plt.xlabel('Cluster')\n",
    "    plt.ylabel(feat)\n",
    "    plt.show()"
   ]
  },
  {
   "cell_type": "code",
   "execution_count": null,
   "id": "14",
   "metadata": {},
   "outputs": [],
   "source": [
    "birch_pipeline.fit(X)\n",
    "cluster_labels = birch_pipeline.named_steps['cluster'].labels_\n",
    "\n",
    "viz_pipeline = Pipeline([\n",
    "    ('prep', preprocessor),\n",
    "    ('svd2', TruncatedSVD(n_components=2, random_state=42))\n",
    "])\n",
    "coords_2d = viz_pipeline.fit_transform(X)\n"
   ]
  },
  {
   "cell_type": "code",
   "execution_count": null,
   "id": "15",
   "metadata": {},
   "outputs": [],
   "source": [
    "plt.figure(figsize=(8,6))\n",
    "scatter = plt.scatter(\n",
    "    coords_2d[:,0],\n",
    "    coords_2d[:,1],\n",
    "    c=cluster_labels,\n",
    "    cmap='tab10',\n",
    "    s=30,\n",
    "    alpha=0.7\n",
    ")\n",
    "plt.title('Birch Clusters with TruncatedSVD')\n",
    "plt.xlabel('Component 1')\n",
    "plt.ylabel('Component 2')\n",
    "plt.legend(\n",
    "    *scatter.legend_elements(),\n",
    "    title='Cluster'\n",
    ")\n",
    "sns.set_style( {'figure.facecolor': '#EEE1C6'})\n",
    "\n",
    "plt.tight_layout()\n",
    "plt.show()"
   ]
  },
  {
   "cell_type": "code",
   "execution_count": null,
   "id": "16",
   "metadata": {},
   "outputs": [],
   "source": []
  }
 ],
 "metadata": {
  "kernelspec": {
   "display_name": "dataScienceEnv",
   "language": "python",
   "name": "python3"
  },
  "language_info": {
   "codemirror_mode": {
    "name": "ipython",
    "version": 3
   },
   "file_extension": ".py",
   "mimetype": "text/x-python",
   "name": "python",
   "nbconvert_exporter": "python",
   "pygments_lexer": "ipython3",
   "version": "3.13.1"
  }
 },
 "nbformat": 4,
 "nbformat_minor": 5
}
