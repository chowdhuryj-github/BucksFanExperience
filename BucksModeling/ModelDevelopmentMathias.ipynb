{
 "cells": [
  {
   "cell_type": "markdown",
   "id": "f5c3cf06-e482-4746-b9a8-a82b022c17f3",
   "metadata": {},
   "source": [
    "<h1 style=\"color: #006400;\">Creating a Machine Learning Model</h1>\n",
    "<h3 style=\"color: #8b5e3c;\">Applying machine learning to create labels for our data</h3>\n",
    "<p style=\"color: #8b5e3c;\">Mathias Galvan</p>\n",
    "\n",
    "<h2 style=\"color: #006400;\"> Loading the Data </h2>"
   ]
  },
  {
   "cell_type": "code",
   "execution_count": 1,
   "id": "db3f1c02-aa4f-4201-9762-e7caab201091",
   "metadata": {},
   "outputs": [],
   "source": [
    "import pandas as pd\n",
    "\n"
   ]
  },
  {
   "cell_type": "code",
   "execution_count": null,
   "id": "01cc8f56-725a-4b28-8b24-cc1c277f61a3",
   "metadata": {},
   "outputs": [],
   "source": []
  }
 ],
 "metadata": {
  "kernelspec": {
   "display_name": "Python 3 (ipykernel)",
   "language": "python",
   "name": "python3"
  },
  "language_info": {
   "codemirror_mode": {
    "name": "ipython",
    "version": 3
   },
   "file_extension": ".py",
   "mimetype": "text/x-python",
   "name": "python",
   "nbconvert_exporter": "python",
   "pygments_lexer": "ipython3",
   "version": "3.12.4"
  }
 },
 "nbformat": 4,
 "nbformat_minor": 5
}
