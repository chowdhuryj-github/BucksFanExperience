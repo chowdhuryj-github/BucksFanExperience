{
 "cells": [
  {
   "cell_type": "markdown",
   "id": "9218926c",
   "metadata": {},
   "source": [
    "<h1 style=\"color: #8b5e3c;\">Bucks Model Development</h1>\n",
    "Next, we will be working on developing a predictive model that helps assign each user account for one of tucket plans that the Miwaukee Bucks is interested in. We revisit the plans as follows:\n",
    "\n",
    "- **Value Plan:** focuses on affordable tickets for weekday games\n",
    "- **Marquee Opponent Plan:** featuring games against high-profile opponents\n",
    "- **Weekend Plan:** highlighting weekend games for fans looking for weekend entertainment\n",
    "- **Promotional Giveaway Inclusive Plan:** centered around games with promotional giveaways"
   ]
  }
 ],
 "metadata": {
  "language_info": {
   "name": "python"
  }
 },
 "nbformat": 4,
 "nbformat_minor": 5
}
