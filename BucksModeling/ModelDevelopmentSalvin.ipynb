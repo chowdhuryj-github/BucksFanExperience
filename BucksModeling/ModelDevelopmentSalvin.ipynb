{
 "cells": [
  {
   "cell_type": "markdown",
   "id": "0",
   "metadata": {},
   "source": [
    "<h1 style=\"color: #8b5e3c;\">Bucks Model Development</h1>\n",
    "Next, we will be working on developing a predictive model that helps assign each user account for one of tucket plans that the Miwaukee Bucks is interested in. We revisit the plans as follows:\n",
    "\n",
    "- **Value Plan:** focuses on affordable tickets for weekday games\n",
    "- **Marquee Opponent Plan:** featuring games against high-profile opponents\n",
    "- **Weekend Plan:** highlighting weekend games for fans looking for weekend entertainment\n",
    "- **Promotional Giveaway Inclusive Plan:** centered around games with promotional giveaways"
   ]
  },
  {
   "cell_type": "markdown",
   "id": "1",
   "metadata": {},
   "source": [
    "<h2 style=\"color: #8b5e3c;\">KMeans Clustering</h2>\n",
    "We move to performing the KMeans Clustering. This will allow us to perform the clustering that will allow us to assign each of the clusters possibly to one of the plans."
   ]
  },
  {
   "cell_type": "code",
   "execution_count": null,
   "id": "2",
   "metadata": {},
   "outputs": [],
   "source": [
    "# importing all the neceessary libraries\n",
    "import pandas as pd\n",
    "from sklearn.preprocessing import StandardScaler, OneHotEncoder\n",
    "from sklearn.compose import ColumnTransformer\n",
    "from sklearn.cluster import KMeans\n",
    "from sklearn.pipeline import Pipeline\n",
    "from sklearn.decomposition import PCA\n",
    "import matplotlib.pyplot as plt"
   ]
  },
  {
   "cell_type": "code",
   "execution_count": null,
   "id": "3",
   "metadata": {},
   "outputs": [],
   "source": [
    "df = pd.read_csv(\"C:/GitHub/BucksHackathon25/BucksDatasets/ALGLSL_2023.csv\")\n",
    "df.info()"
   ]
  },
  {
   "cell_type": "code",
   "execution_count": null,
   "id": "4",
   "metadata": {},
   "outputs": [],
   "source": [
    "# retrieving the numerical and categorical features\n",
    "numerical_features = ['BasketballPropensity', 'AvgSpend', 'GamesAttended', 'DistanceToArena']\n",
    "categorical_features = ['STM', 'FanSegment', 'SocialMediaEngagement', 'GameTier', 'GiveawayLabel']\n",
    "\n",
    "# applying the standard scaling and one hot encoding\n",
    "preprocessor = ColumnTransformer([\n",
    "    ('num', StandardScaler(), numerical_features),\n",
    "    ('cat', OneHotEncoder(), categorical_features)\n",
    "])\n",
    "\n",
    "# performing PCA\n",
    "X_preprocessed = preprocessor.fit_transform(df)\n",
    "pca = PCA(n_components=2)\n",
    "X_pca = pca.fit_transform(X_preprocessed)\n",
    "\n",
    "# using k-means clustering\n",
    "kmeans = KMeans(n_clusters=4, random_state=42)\n",
    "kmeans.fit(X_pca)\n",
    "\n",
    "# retrieving cluster labels\n",
    "df['Cluster'] = kmeans.labels_"
   ]
  },
  {
   "cell_type": "code",
   "execution_count": null,
   "id": "5",
   "metadata": {},
   "outputs": [],
   "source": [
    "# importing seaborn library\n",
    "import seaborn as sns\n",
    "\n",
    "# plotting out the clustering\n",
    "plt.figure(figsize=(8,6), facecolor='#EEE1C6')\n",
    "ax = plt.gca()\n",
    "ax.set_facecolor('#EEE1C6')\n",
    "\n",
    "plt.scatter(X_pca[:, 0], X_pca[:, 1], c=df['Cluster'], cmap='Set1', edgecolor='k')\n",
    "plt.title('KMeans Clusters with PCA')\n",
    "plt.xlabel('PCA Component 1')\n",
    "plt.ylabel('PCA Component 2')\n",
    "plt.grid(True)\n",
    "plt.show()"
   ]
  },
  {
   "cell_type": "code",
   "execution_count": null,
   "id": "6",
   "metadata": {},
   "outputs": [],
   "source": [
    "print(\"Explained variance by each component:\", pca.explained_variance_ratio_)\n",
    "print(\"Total variance explained:\", pca.explained_variance_ratio_.sum())"
   ]
  },
  {
   "cell_type": "code",
   "execution_count": null,
   "id": "7",
   "metadata": {},
   "outputs": [],
   "source": [
    "numerical_summary = df.groupby('Cluster').mean(numeric_only=True).round(2)\n",
    "print(\"Numerical Summary by Cluster:\")\n",
    "print(numerical_summary)"
   ]
  },
  {
   "cell_type": "code",
   "execution_count": null,
   "id": "8",
   "metadata": {},
   "outputs": [],
   "source": [
    "categorical_cols = df.select_dtypes(include='object').columns\n",
    "\n",
    "for col in categorical_cols:\n",
    "    print(f\"\\nCategory distribution for {col} by Cluster:\")\n",
    "    summary = df.groupby('Cluster')[col].value_counts(normalize=True).unstack(fill_value=0).round(2)\n",
    "    print(summary)"
   ]
  },
  {
   "cell_type": "code",
   "execution_count": null,
   "id": "9",
   "metadata": {},
   "outputs": [],
   "source": [
    "import seaborn as sns\n",
    "import matplotlib.pyplot as plt\n",
    "\n",
    "numerical_features = ['BasketballPropensity', 'AvgSpend', 'GamesAttended', 'DistanceToArena']\n",
    "\n",
    "fig, axes = plt.subplots(2, 2, figsize=(12, 8), facecolor='#EEE1C6') \n",
    "ax = axes.flatten()\n",
    "\n",
    "for i, feature in enumerate(numerical_features):\n",
    "    sns.boxplot(x='Cluster', y=feature, data=df, ax=ax[i])\n",
    "    ax[i].set_title(f'{feature} by Cluster')\n",
    "    ax[i].set_xlabel('Cluster')\n",
    "    ax[i].set_ylabel(feature)\n",
    "    ax[i].grid(True)\n",
    "\n",
    "plt.tight_layout()\n",
    "plt.show()"
   ]
  },
  {
   "cell_type": "code",
   "execution_count": null,
   "id": "10",
   "metadata": {},
   "outputs": [],
   "source": [
    "fig, axes = plt.subplots(3, 2, figsize=(10, 8), facecolor='#EEE1C6') \n",
    "ax = axes.flatten()\n",
    "\n",
    "for i, feature in enumerate(categorical_features):\n",
    "    crosstab = pd.crosstab(df['Cluster'], df[feature], normalize='index')\n",
    "    \n",
    "    sns.heatmap(crosstab, annot=True, cmap='Blues', ax=ax[i], fmt=\".2f\")\n",
    "    ax[i].set_title(f'{feature} Proportion by Cluster')\n",
    "    ax[i].set_xlabel(feature)\n",
    "    ax[i].set_ylabel('Cluster')\n",
    "\n",
    "if len(categorical_features) < len(ax):\n",
    "    for j in range(len(categorical_features), len(ax)):\n",
    "        fig.delaxes(ax[j])\n",
    "\n",
    "plt.tight_layout()\n",
    "plt.show()\n"
   ]
  },
  {
   "cell_type": "code",
   "execution_count": null,
   "id": "11",
   "metadata": {},
   "outputs": [],
   "source": [
    "# saving the data frame as a .csv file\n",
    "df.to_csv(\"C:/GitHub/BucksHackathon25/BucksDatasets/CustomerPlans_2023.csv\")\n",
    "\n",
    "df.info()"
   ]
  },
  {
   "cell_type": "code",
   "execution_count": null,
   "id": "12",
   "metadata": {},
   "outputs": [],
   "source": []
  }
 ],
 "metadata": {
  "kernelspec": {
   "display_name": "dataScienceEnv",
   "language": "python",
   "name": "python3"
  },
  "language_info": {
   "codemirror_mode": {
    "name": "ipython",
    "version": 3
   },
   "file_extension": ".py",
   "mimetype": "text/x-python",
   "name": "python",
   "nbconvert_exporter": "python",
   "pygments_lexer": "ipython3",
   "version": "3.13.1"
  }
 },
 "nbformat": 4,
 "nbformat_minor": 5
}
