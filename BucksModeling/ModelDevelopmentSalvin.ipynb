{
 "cells": [
  {
   "cell_type": "markdown",
   "id": "9218926c",
   "metadata": {},
   "source": [
    "<h1 style=\"color: #8b5e3c;\">Bucks Model Development</h1>\n",
    "Next, we will be working on developing a predictive model that helps assign each user account for one of tucket plans that the Miwaukee Bucks is interested in. We revisit the plans as follows:\n",
    "\n",
    "- **Value Plan:** focuses on affordable tickets for weekday games\n",
    "- **Marquee Opponent Plan:** featuring games against high-profile opponents\n",
    "- **Weekend Plan:** highlighting weekend games for fans looking for weekend entertainment\n",
    "- **Promotional Giveaway Inclusive Plan:** centered around games with promotional giveaways"
   ]
  },
  {
   "cell_type": "markdown",
   "id": "a19f7c8e",
   "metadata": {},
   "source": [
    "<h2 style=\"color: #8b5e3c;\"> Using K-Means Clustering </h2>\n",
    "We start off by using K-Means Clustering on your dataset. This will help us find the clusters we're interested in, and then look into the clusters to see what kind of information we can derive from it."
   ]
  }
 ],
 "metadata": {
  "kernelspec": {
   "display_name": "dataScienceEnv",
   "language": "python",
   "name": "python3"
  },
  "language_info": {
   "codemirror_mode": {
    "name": "ipython",
    "version": 3
   },
   "file_extension": ".py",
   "mimetype": "text/x-python",
   "name": "python",
   "nbconvert_exporter": "python",
   "pygments_lexer": "ipython3",
   "version": "3.13.1"
  }
 },
 "nbformat": 4,
 "nbformat_minor": 5
}
