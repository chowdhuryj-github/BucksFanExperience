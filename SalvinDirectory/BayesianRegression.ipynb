{
 "cells": [
  {
   "cell_type": "markdown",
   "metadata": {},
   "source": [
    "# Bayesian Additive Regression Trees\n",
    "Welcome to the Jupyter Notebook for the Milwaukee Bucks Hackathon! In this notebook, we work on using Bayesian Additive Regression Trees to help find the most important features in the Accounts dataset."
   ]
  },
  {
   "cell_type": "markdown",
   "metadata": {},
   "source": []
  }
 ],
 "metadata": {
  "kernelspec": {
   "display_name": "BucksEnv",
   "language": "python",
   "name": "python3"
  },
  "language_info": {
   "name": "python",
   "version": "3.9.21"
  }
 },
 "nbformat": 4,
 "nbformat_minor": 2
}
