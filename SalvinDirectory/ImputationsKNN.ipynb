{
 "cells": [
  {
   "cell_type": "markdown",
   "metadata": {},
   "source": [
    "# Imputations with KNN\n",
    "Welcome to the Jupyter Notebook for the Milwaukee Bucks Hackathon! In this Jupyter Notebook, we work on imputations with regards to the missing values in the Accounts Dataset. We would like to fill in the missing values that are found, especially within `BasketballPropensity` and `DistanceToArena`."
   ]
  },
  {
   "cell_type": "code",
   "execution_count": 1,
   "metadata": {},
   "outputs": [],
   "source": [
    "# all the necessary imports\n",
    "\n",
    "# importing pandas\n",
    "import pandas as pd\n",
    "\n",
    "# importing the IPython library\n",
    "from IPython.display import display"
   ]
  },
  {
   "cell_type": "code",
   "execution_count": 2,
   "metadata": {},
   "outputs": [
    {
     "ename": "FileNotFoundError",
     "evalue": "[Errno 2] No such file or directory: 'C:\\\\GitHub\\\\BucksHackathon25\\\\BucksAssignment\\\\Hackathon Prompt 1 Data\\\\Prompt1AccountLevel.xlsx'",
     "output_type": "error",
     "traceback": [
      "\u001b[1;31m---------------------------------------------------------------------------\u001b[0m",
      "\u001b[1;31mFileNotFoundError\u001b[0m                         Traceback (most recent call last)",
      "Cell \u001b[1;32mIn[2], line 12\u001b[0m\n\u001b[0;32m      9\u001b[0m seat_csv \u001b[38;5;241m=\u001b[39m \u001b[38;5;124mr\u001b[39m\u001b[38;5;124m\"\u001b[39m\u001b[38;5;124mC:\u001b[39m\u001b[38;5;124m\\\u001b[39m\u001b[38;5;124mGitHub\u001b[39m\u001b[38;5;124m\\\u001b[39m\u001b[38;5;124mBucksHackathon25\u001b[39m\u001b[38;5;124m\\\u001b[39m\u001b[38;5;124mBucksDatasets\u001b[39m\u001b[38;5;124m\\\u001b[39m\u001b[38;5;124mSeatLevel.csv\u001b[39m\u001b[38;5;124m\"\u001b[39m\n\u001b[0;32m     11\u001b[0m \u001b[38;5;66;03m# reading the excel file\u001b[39;00m\n\u001b[1;32m---> 12\u001b[0m account_df \u001b[38;5;241m=\u001b[39m \u001b[43mpd\u001b[49m\u001b[38;5;241;43m.\u001b[39;49m\u001b[43mread_excel\u001b[49m\u001b[43m(\u001b[49m\u001b[43maccount_xlsx\u001b[49m\u001b[43m,\u001b[49m\u001b[43m \u001b[49m\u001b[43mengine\u001b[49m\u001b[38;5;241;43m=\u001b[39;49m\u001b[38;5;124;43m'\u001b[39;49m\u001b[38;5;124;43mopenpyxl\u001b[39;49m\u001b[38;5;124;43m'\u001b[39;49m\u001b[43m)\u001b[49m\n\u001b[0;32m     13\u001b[0m game_df \u001b[38;5;241m=\u001b[39m pd\u001b[38;5;241m.\u001b[39mread_excel(game_xlsx, engine\u001b[38;5;241m=\u001b[39m\u001b[38;5;124m\"\u001b[39m\u001b[38;5;124mopenpyxl\u001b[39m\u001b[38;5;124m\"\u001b[39m)\n\u001b[0;32m     14\u001b[0m seat_df \u001b[38;5;241m=\u001b[39m pd\u001b[38;5;241m.\u001b[39mread_excel(seat_xlsx, engine\u001b[38;5;241m=\u001b[39m\u001b[38;5;124m\"\u001b[39m\u001b[38;5;124mopenpyxl\u001b[39m\u001b[38;5;124m\"\u001b[39m)\n",
      "File \u001b[1;32mc:\\Users\\chowdhuryj\\AppData\\Local\\anaconda3\\envs\\dataScienceEnv\\Lib\\site-packages\\pandas\\io\\excel\\_base.py:495\u001b[0m, in \u001b[0;36mread_excel\u001b[1;34m(io, sheet_name, header, names, index_col, usecols, dtype, engine, converters, true_values, false_values, skiprows, nrows, na_values, keep_default_na, na_filter, verbose, parse_dates, date_parser, date_format, thousands, decimal, comment, skipfooter, storage_options, dtype_backend, engine_kwargs)\u001b[0m\n\u001b[0;32m    493\u001b[0m \u001b[38;5;28;01mif\u001b[39;00m \u001b[38;5;129;01mnot\u001b[39;00m \u001b[38;5;28misinstance\u001b[39m(io, ExcelFile):\n\u001b[0;32m    494\u001b[0m     should_close \u001b[38;5;241m=\u001b[39m \u001b[38;5;28;01mTrue\u001b[39;00m\n\u001b[1;32m--> 495\u001b[0m     io \u001b[38;5;241m=\u001b[39m \u001b[43mExcelFile\u001b[49m\u001b[43m(\u001b[49m\n\u001b[0;32m    496\u001b[0m \u001b[43m        \u001b[49m\u001b[43mio\u001b[49m\u001b[43m,\u001b[49m\n\u001b[0;32m    497\u001b[0m \u001b[43m        \u001b[49m\u001b[43mstorage_options\u001b[49m\u001b[38;5;241;43m=\u001b[39;49m\u001b[43mstorage_options\u001b[49m\u001b[43m,\u001b[49m\n\u001b[0;32m    498\u001b[0m \u001b[43m        \u001b[49m\u001b[43mengine\u001b[49m\u001b[38;5;241;43m=\u001b[39;49m\u001b[43mengine\u001b[49m\u001b[43m,\u001b[49m\n\u001b[0;32m    499\u001b[0m \u001b[43m        \u001b[49m\u001b[43mengine_kwargs\u001b[49m\u001b[38;5;241;43m=\u001b[39;49m\u001b[43mengine_kwargs\u001b[49m\u001b[43m,\u001b[49m\n\u001b[0;32m    500\u001b[0m \u001b[43m    \u001b[49m\u001b[43m)\u001b[49m\n\u001b[0;32m    501\u001b[0m \u001b[38;5;28;01melif\u001b[39;00m engine \u001b[38;5;129;01mand\u001b[39;00m engine \u001b[38;5;241m!=\u001b[39m io\u001b[38;5;241m.\u001b[39mengine:\n\u001b[0;32m    502\u001b[0m     \u001b[38;5;28;01mraise\u001b[39;00m \u001b[38;5;167;01mValueError\u001b[39;00m(\n\u001b[0;32m    503\u001b[0m         \u001b[38;5;124m\"\u001b[39m\u001b[38;5;124mEngine should not be specified when passing \u001b[39m\u001b[38;5;124m\"\u001b[39m\n\u001b[0;32m    504\u001b[0m         \u001b[38;5;124m\"\u001b[39m\u001b[38;5;124man ExcelFile - ExcelFile already has the engine set\u001b[39m\u001b[38;5;124m\"\u001b[39m\n\u001b[0;32m    505\u001b[0m     )\n",
      "File \u001b[1;32mc:\\Users\\chowdhuryj\\AppData\\Local\\anaconda3\\envs\\dataScienceEnv\\Lib\\site-packages\\pandas\\io\\excel\\_base.py:1567\u001b[0m, in \u001b[0;36mExcelFile.__init__\u001b[1;34m(self, path_or_buffer, engine, storage_options, engine_kwargs)\u001b[0m\n\u001b[0;32m   1564\u001b[0m \u001b[38;5;28mself\u001b[39m\u001b[38;5;241m.\u001b[39mengine \u001b[38;5;241m=\u001b[39m engine\n\u001b[0;32m   1565\u001b[0m \u001b[38;5;28mself\u001b[39m\u001b[38;5;241m.\u001b[39mstorage_options \u001b[38;5;241m=\u001b[39m storage_options\n\u001b[1;32m-> 1567\u001b[0m \u001b[38;5;28mself\u001b[39m\u001b[38;5;241m.\u001b[39m_reader \u001b[38;5;241m=\u001b[39m \u001b[38;5;28;43mself\u001b[39;49m\u001b[38;5;241;43m.\u001b[39;49m\u001b[43m_engines\u001b[49m\u001b[43m[\u001b[49m\u001b[43mengine\u001b[49m\u001b[43m]\u001b[49m\u001b[43m(\u001b[49m\n\u001b[0;32m   1568\u001b[0m \u001b[43m    \u001b[49m\u001b[38;5;28;43mself\u001b[39;49m\u001b[38;5;241;43m.\u001b[39;49m\u001b[43m_io\u001b[49m\u001b[43m,\u001b[49m\n\u001b[0;32m   1569\u001b[0m \u001b[43m    \u001b[49m\u001b[43mstorage_options\u001b[49m\u001b[38;5;241;43m=\u001b[39;49m\u001b[43mstorage_options\u001b[49m\u001b[43m,\u001b[49m\n\u001b[0;32m   1570\u001b[0m \u001b[43m    \u001b[49m\u001b[43mengine_kwargs\u001b[49m\u001b[38;5;241;43m=\u001b[39;49m\u001b[43mengine_kwargs\u001b[49m\u001b[43m,\u001b[49m\n\u001b[0;32m   1571\u001b[0m \u001b[43m\u001b[49m\u001b[43m)\u001b[49m\n",
      "File \u001b[1;32mc:\\Users\\chowdhuryj\\AppData\\Local\\anaconda3\\envs\\dataScienceEnv\\Lib\\site-packages\\pandas\\io\\excel\\_openpyxl.py:553\u001b[0m, in \u001b[0;36mOpenpyxlReader.__init__\u001b[1;34m(self, filepath_or_buffer, storage_options, engine_kwargs)\u001b[0m\n\u001b[0;32m    541\u001b[0m \u001b[38;5;250m\u001b[39m\u001b[38;5;124;03m\"\"\"\u001b[39;00m\n\u001b[0;32m    542\u001b[0m \u001b[38;5;124;03mReader using openpyxl engine.\u001b[39;00m\n\u001b[0;32m    543\u001b[0m \n\u001b[1;32m   (...)\u001b[0m\n\u001b[0;32m    550\u001b[0m \u001b[38;5;124;03m    Arbitrary keyword arguments passed to excel engine.\u001b[39;00m\n\u001b[0;32m    551\u001b[0m \u001b[38;5;124;03m\"\"\"\u001b[39;00m\n\u001b[0;32m    552\u001b[0m import_optional_dependency(\u001b[38;5;124m\"\u001b[39m\u001b[38;5;124mopenpyxl\u001b[39m\u001b[38;5;124m\"\u001b[39m)\n\u001b[1;32m--> 553\u001b[0m \u001b[38;5;28;43msuper\u001b[39;49m\u001b[43m(\u001b[49m\u001b[43m)\u001b[49m\u001b[38;5;241;43m.\u001b[39;49m\u001b[38;5;21;43m__init__\u001b[39;49m\u001b[43m(\u001b[49m\n\u001b[0;32m    554\u001b[0m \u001b[43m    \u001b[49m\u001b[43mfilepath_or_buffer\u001b[49m\u001b[43m,\u001b[49m\n\u001b[0;32m    555\u001b[0m \u001b[43m    \u001b[49m\u001b[43mstorage_options\u001b[49m\u001b[38;5;241;43m=\u001b[39;49m\u001b[43mstorage_options\u001b[49m\u001b[43m,\u001b[49m\n\u001b[0;32m    556\u001b[0m \u001b[43m    \u001b[49m\u001b[43mengine_kwargs\u001b[49m\u001b[38;5;241;43m=\u001b[39;49m\u001b[43mengine_kwargs\u001b[49m\u001b[43m,\u001b[49m\n\u001b[0;32m    557\u001b[0m \u001b[43m\u001b[49m\u001b[43m)\u001b[49m\n",
      "File \u001b[1;32mc:\\Users\\chowdhuryj\\AppData\\Local\\anaconda3\\envs\\dataScienceEnv\\Lib\\site-packages\\pandas\\io\\excel\\_base.py:563\u001b[0m, in \u001b[0;36mBaseExcelReader.__init__\u001b[1;34m(self, filepath_or_buffer, storage_options, engine_kwargs)\u001b[0m\n\u001b[0;32m    559\u001b[0m \u001b[38;5;28mself\u001b[39m\u001b[38;5;241m.\u001b[39mhandles \u001b[38;5;241m=\u001b[39m IOHandles(\n\u001b[0;32m    560\u001b[0m     handle\u001b[38;5;241m=\u001b[39mfilepath_or_buffer, compression\u001b[38;5;241m=\u001b[39m{\u001b[38;5;124m\"\u001b[39m\u001b[38;5;124mmethod\u001b[39m\u001b[38;5;124m\"\u001b[39m: \u001b[38;5;28;01mNone\u001b[39;00m}\n\u001b[0;32m    561\u001b[0m )\n\u001b[0;32m    562\u001b[0m \u001b[38;5;28;01mif\u001b[39;00m \u001b[38;5;129;01mnot\u001b[39;00m \u001b[38;5;28misinstance\u001b[39m(filepath_or_buffer, (ExcelFile, \u001b[38;5;28mself\u001b[39m\u001b[38;5;241m.\u001b[39m_workbook_class)):\n\u001b[1;32m--> 563\u001b[0m     \u001b[38;5;28mself\u001b[39m\u001b[38;5;241m.\u001b[39mhandles \u001b[38;5;241m=\u001b[39m \u001b[43mget_handle\u001b[49m\u001b[43m(\u001b[49m\n\u001b[0;32m    564\u001b[0m \u001b[43m        \u001b[49m\u001b[43mfilepath_or_buffer\u001b[49m\u001b[43m,\u001b[49m\u001b[43m \u001b[49m\u001b[38;5;124;43m\"\u001b[39;49m\u001b[38;5;124;43mrb\u001b[39;49m\u001b[38;5;124;43m\"\u001b[39;49m\u001b[43m,\u001b[49m\u001b[43m \u001b[49m\u001b[43mstorage_options\u001b[49m\u001b[38;5;241;43m=\u001b[39;49m\u001b[43mstorage_options\u001b[49m\u001b[43m,\u001b[49m\u001b[43m \u001b[49m\u001b[43mis_text\u001b[49m\u001b[38;5;241;43m=\u001b[39;49m\u001b[38;5;28;43;01mFalse\u001b[39;49;00m\n\u001b[0;32m    565\u001b[0m \u001b[43m    \u001b[49m\u001b[43m)\u001b[49m\n\u001b[0;32m    567\u001b[0m \u001b[38;5;28;01mif\u001b[39;00m \u001b[38;5;28misinstance\u001b[39m(\u001b[38;5;28mself\u001b[39m\u001b[38;5;241m.\u001b[39mhandles\u001b[38;5;241m.\u001b[39mhandle, \u001b[38;5;28mself\u001b[39m\u001b[38;5;241m.\u001b[39m_workbook_class):\n\u001b[0;32m    568\u001b[0m     \u001b[38;5;28mself\u001b[39m\u001b[38;5;241m.\u001b[39mbook \u001b[38;5;241m=\u001b[39m \u001b[38;5;28mself\u001b[39m\u001b[38;5;241m.\u001b[39mhandles\u001b[38;5;241m.\u001b[39mhandle\n",
      "File \u001b[1;32mc:\\Users\\chowdhuryj\\AppData\\Local\\anaconda3\\envs\\dataScienceEnv\\Lib\\site-packages\\pandas\\io\\common.py:882\u001b[0m, in \u001b[0;36mget_handle\u001b[1;34m(path_or_buf, mode, encoding, compression, memory_map, is_text, errors, storage_options)\u001b[0m\n\u001b[0;32m    873\u001b[0m         handle \u001b[38;5;241m=\u001b[39m \u001b[38;5;28mopen\u001b[39m(\n\u001b[0;32m    874\u001b[0m             handle,\n\u001b[0;32m    875\u001b[0m             ioargs\u001b[38;5;241m.\u001b[39mmode,\n\u001b[1;32m   (...)\u001b[0m\n\u001b[0;32m    878\u001b[0m             newline\u001b[38;5;241m=\u001b[39m\u001b[38;5;124m\"\u001b[39m\u001b[38;5;124m\"\u001b[39m,\n\u001b[0;32m    879\u001b[0m         )\n\u001b[0;32m    880\u001b[0m     \u001b[38;5;28;01melse\u001b[39;00m:\n\u001b[0;32m    881\u001b[0m         \u001b[38;5;66;03m# Binary mode\u001b[39;00m\n\u001b[1;32m--> 882\u001b[0m         handle \u001b[38;5;241m=\u001b[39m \u001b[38;5;28;43mopen\u001b[39;49m\u001b[43m(\u001b[49m\u001b[43mhandle\u001b[49m\u001b[43m,\u001b[49m\u001b[43m \u001b[49m\u001b[43mioargs\u001b[49m\u001b[38;5;241;43m.\u001b[39;49m\u001b[43mmode\u001b[49m\u001b[43m)\u001b[49m\n\u001b[0;32m    883\u001b[0m     handles\u001b[38;5;241m.\u001b[39mappend(handle)\n\u001b[0;32m    885\u001b[0m \u001b[38;5;66;03m# Convert BytesIO or file objects passed with an encoding\u001b[39;00m\n",
      "\u001b[1;31mFileNotFoundError\u001b[0m: [Errno 2] No such file or directory: 'C:\\\\GitHub\\\\BucksHackathon25\\\\BucksAssignment\\\\Hackathon Prompt 1 Data\\\\Prompt1AccountLevel.xlsx'"
     ]
    }
   ],
   "source": [
    "# convert the excel sheets into a .csv file\n",
    "account_xlsx  = r\"C:\\GitHub\\BucksHackathon25\\BucksAssignment\\Hackathon Prompt 1 Data\\Prompt1AccountLevel.xlsx\"\n",
    "account_csv = r\"C:\\GitHub\\BucksHackathon25\\BucksDatasets\\AccountLevel.csv\"\n",
    "\n",
    "game_xlsx = r\"C:\\GitHub\\BucksHackathon25\\BucksAssignment\\Hackathon Prompt 1 Data\\Prompt1GameLevel.xlsx\"\n",
    "game_csv = r\"C:\\GitHub\\BucksHackathon25\\BucksDatasets\\GameLevel.csv\"\n",
    "\n",
    "seat_xlsx = r\"C:\\GitHub\\BucksHackathon25\\BucksAssignment\\Hackathon Prompt 1 Data\\Prompt1SeatLevel.xlsx\"\n",
    "seat_csv = r\"C:\\GitHub\\BucksHackathon25\\BucksDatasets\\SeatLevel.csv\"\n",
    "\n",
    "# reading the excel file\n",
    "account_df = pd.read_excel(account_xlsx, engine='openpyxl')\n",
    "game_df = pd.read_excel(game_xlsx, engine=\"openpyxl\")\n",
    "seat_df = pd.read_excel(seat_xlsx, engine=\"openpyxl\")\n",
    "\n",
    "# saving as a csv file\n",
    "account_df.to_csv(account_csv, index=False)\n",
    "game_df.to_csv(game_csv, index=False)\n",
    "seat_df.to_csv(seat_csv, index=False)"
   ]
  },
  {
   "cell_type": "code",
   "execution_count": null,
   "metadata": {},
   "outputs": [],
   "source": [
    "account_df"
   ]
  },
  {
   "cell_type": "code",
   "execution_count": null,
   "metadata": {},
   "outputs": [],
   "source": [
    "# getting a summary of the account data frames\n",
    "print(\"Using .info() on the Account Dataset\")\n",
    "display(account_df.info())\n",
    "\n",
    "print(\"Using .describe() on the Account Dataset\")\n",
    "display(account_df.describe())"
   ]
  },
  {
   "cell_type": "code",
   "execution_count": null,
   "metadata": {},
   "outputs": [],
   "source": [
    "# getting a summary of the game level data frames\n",
    "print(\"Using .info() on the Game Level Dataset\")\n",
    "display(game_df.info())\n",
    "\n",
    "print(\"Using .describe() on the Game Level Dataset\")\n",
    "display(game_df.describe())"
   ]
  },
  {
   "cell_type": "code",
   "execution_count": null,
   "metadata": {},
   "outputs": [],
   "source": [
    "# getting a summary of the seat level data frames\n",
    "print(\"Using .info() on the Seat Level Dataset\")\n",
    "display(seat_df.info())\n",
    "\n",
    "print(\"Using .describe() on the Seat Level Dataset\")\n",
    "display(seat_df.describe())"
   ]
  },
  {
   "cell_type": "code",
   "execution_count": null,
   "metadata": {},
   "outputs": [],
   "source": [
    "# checking the number of null values in the account data frames\n",
    "print(\"Any null values in Account: \", account_df.isnull().values.any())\n",
    "\n",
    "# number of null values in the data frame\n",
    "print(\"Number of Null Values in Account: \\n\", account_df.isnull().sum())\n"
   ]
  },
  {
   "cell_type": "code",
   "execution_count": null,
   "metadata": {},
   "outputs": [],
   "source": [
    "# checking the number of null values in the game level data frames\n",
    "print(\"Any null values in Game Level: \", game_df.isnull().values.any())\n",
    "\n",
    "# number of null values in the data frame\n",
    "print(\"Number of Null Values in Game Level:\\n \", game_df.isnull().sum())\n"
   ]
  },
  {
   "cell_type": "code",
   "execution_count": null,
   "metadata": {},
   "outputs": [],
   "source": [
    "# checking the number of null values in the seat level data frames\n",
    "print(\"Any null values in Seat Level: \", seat_df.isnull().values.any())\n",
    "\n",
    "# number of null values in the data frame\n",
    "print(\"Number of Null Values in Seat Level: \\n \",seat_df.isnull().sum())"
   ]
  },
  {
   "cell_type": "code",
   "execution_count": null,
   "metadata": {},
   "outputs": [],
   "source": [
    "# viewing the final datasets\n",
    "display(account_df.head(5))\n",
    "display(game_df.head(5))\n",
    "display(seat_df.head(5))"
   ]
  },
  {
   "cell_type": "markdown",
   "metadata": {},
   "source": [
    "Now, that we have analyzed the datasets, and looked at the Data Frames, we can see that there is some missing values from `DistanceToArena` and `BasketballPropensity`. We decide to deal with the missing values by using a KNN model to predict the missing values and fill them  in."
   ]
  },
  {
   "cell_type": "code",
   "execution_count": null,
   "metadata": {},
   "outputs": [],
   "source": [
    "# mapping the categorical values in SocialMediaEngagement\n",
    "mapping = {'Low': 1, 'Medium': 2, 'High': 3}\n",
    "account_df['SocialMediaEngagement'] = account_df['SocialMediaEngagement'].map(mapping)"
   ]
  },
  {
   "cell_type": "code",
   "execution_count": null,
   "metadata": {},
   "outputs": [],
   "source": [
    "# creating a new column in the data set\n",
    "account_df['BasketballPropenstiyFill'] = account_df['BasketballPropensity']\n",
    "account_df['DistanceToArenaFill'] = account_df['DistanceToArena']\n",
    "\n",
    "# importing the knn \n",
    "from sklearn.neighbors import KNeighborsRegressor"
   ]
  },
  {
   "cell_type": "code",
   "execution_count": null,
   "metadata": {},
   "outputs": [],
   "source": [
    "# new data frame with no missing values from basketball propensity and distance to arena\n",
    "data_drop_propensity_na = account_df[account_df['BasketballPropensity'].notna()]\n",
    "data_drop_distance_na = account_df[account_df['DistanceToArena'].notna()]\n",
    "\n",
    "# new data frame with missing values from basketball propensity and distance to arena\n",
    "data_propensity_na = account_df[account_df['BasketballPropensity'].isna()]\n",
    "data_distance_na = account_df[account_df['DistanceToArena'].isna()]\n",
    "\n",
    "# length cross-check for basketball propensity\n",
    "bucks_propensity_length = len(account_df['BasketballPropensity'])\n",
    "drop_propensity_length = len(data_drop_propensity_na)\n",
    "missing_propensity_length = len(data_propensity_na)\n",
    "\n",
    "# length cross check for distance to arena\n",
    "bucks_distance_length = len(account_df['DistanceToArena'])\n",
    "drop_distance_length = len(data_drop_distance_na)\n",
    "missing_distance_length = len(data_distance_na)\n",
    "\n",
    "# using a if condition to check if the lengths are equal for basketball propensity\n",
    "if bucks_propensity_length == (drop_propensity_length + missing_propensity_length):\n",
    "    print(\"Valid!\")\n",
    "else:\n",
    "    print(\"Not Valid!\")\n",
    "\n",
    "# using a if condition to check if the lengths are equal for distance to arena\n",
    "if bucks_distance_length == (drop_distance_length + missing_distance_length):\n",
    "    print(\"Valid!\")\n",
    "else:\n",
    "    print(\"Not Valid!\")\n",
    "\n",
    "# viewing the data frame with no missing values for basketball propensity\n",
    "print(\"No Missing Values for Basketball Propensity\")\n",
    "display(data_drop_propensity_na.head(3))\n",
    "print(\"\\n\")\n",
    "\n",
    "# viewing the data frame with no missing values for distance to arena\n",
    "print(\"No Missing Values for Distance to Arena\")\n",
    "display(data_drop_distance_na.head(3))\n",
    "print(\"\\n\")\n",
    "\n",
    "# viewing the data frame with missing values for basketball propensity\n",
    "print(\"Missing Values for Basketball Propensity\")\n",
    "display(data_propensity_na.head(3))\n",
    "print(\"\\n\")\n",
    "\n",
    "# viewing the data frame with missing values for distance to arena\n",
    "print(\"Missing Values for Distane to Arena\")\n",
    "display(data_distance_na.head(3))\n",
    "print(\"\\n\")\n",
    "\n",
    "# displaying the account data frame\n",
    "print(\"Displaying the Data Frame for Account\")\n",
    "account_df"
   ]
  },
  {
   "cell_type": "code",
   "execution_count": null,
   "metadata": {},
   "outputs": [],
   "source": [
    "# the training dataset and the response variable for basketball propensity\n",
    "x_train_propensity = data_drop_propensity_na[['AvgSpend', 'SingleGameTickets', 'STM', 'GamesAttended', \n",
    "                                              'SocialMediaEngagement']]\n",
    "y_train_propensity = data_drop_propensity_na['BasketballPropensity']\n",
    "\n",
    "# the feature to predict for basketball propensity\n",
    "x_predict_propensity = data_propensity_na[['AvgSpend', 'SingleGameTickets', 'STM', 'GamesAttended', \n",
    "                                           'SocialMediaEngagement']]\n",
    "\n",
    "# the training dataset and the response variable for distance to arena\n",
    "x_train_distance =data_drop_distance_na[['AvgSpend', 'SingleGameTickets', 'STM', 'GamesAttended', \n",
    "                                              'SocialMediaEngagement']]\n",
    "y_train_distance = data_drop_distance_na['DistanceToArena']\n",
    "\n",
    "# the feature to predict for distance to arena\n",
    "x_predict_distance = data_distance_na[['AvgSpend', 'SingleGameTickets', 'STM', 'GamesAttended', \n",
    "                                           'SocialMediaEngagement']]\n",
    "\n",
    "# displaying the data frame\n",
    "account_df"
   ]
  },
  {
   "cell_type": "code",
   "execution_count": null,
   "metadata": {},
   "outputs": [],
   "source": [
    "# instiating the KNN model with 5 neighbors\n",
    "bucks_KNN_propensity = KNeighborsRegressor(n_neighbors=5)\n",
    "bucks_KNN_distance = KNeighborsRegressor(n_neighbors=5)\n",
    "\n",
    "# fitting the model with the training data\n",
    "bucks_KNN_propensity.fit(x_train_propensity, y_train_propensity)\n",
    "bucks_KNN_distance.fit(x_train_distance,y_train_distance)\n",
    "\n",
    "# performing the predictions\n",
    "propensity_predict = bucks_KNN_propensity.predict(x_predict_propensity)\n",
    "distance_predict = bucks_KNN_propensity.predict(x_predict_distance)\n",
    "\n",
    "# printing out the results\n",
    "print(propensity_predict)\n",
    "print(\"Type: \", type(propensity_predict), \"\\n\")\n",
    "\n",
    "print(distance_predict)\n",
    "print(\"Type: \",type(distance_predict), \"\\n\" )\n",
    "\n",
    "#displaying the account data frame\n",
    "account_df"
   ]
  },
  {
   "cell_type": "code",
   "execution_count": null,
   "metadata": {},
   "outputs": [],
   "source": [
    "# finding the total number of elements including missing values\n",
    "total_propensity_knn = len(account_df['BasketballPropenstiyFill'])\n",
    "print(\"Total is: \", total_propensity_knn)\n",
    "\n",
    "total_distance_knn = len(account_df['DistanceToArenaFill'])\n",
    "print(\"Total is: \", total_distance_knn)\n",
    "\n",
    "missing_values_knn_propensity = account_df['BasketballPropenstiyFill'].isna().sum()\n",
    "print(\"Missing Values: \", missing_values_knn_propensity)\n",
    "\n",
    "missing_values_knn_distance = account_df['DistanceToArenaFill'].isna().sum()\n",
    "print(\"Missing Values: \", missing_values_knn_distance)\n",
    "\n",
    "# finding the length of the numpy array for propensity\n",
    "total_values_propensity = propensity_predict.size\n",
    "print(\"Total Elements of Numpy Array: \", total_values_propensity)\n",
    "\n",
    "# finding the length of the numpy array for distance\n",
    "total_values_distance = distance_predict.size\n",
    "print(\"Total Elements of Numpy Array: \", total_values_distance)\n",
    "\n",
    "# viewing the data frame\n",
    "account_df"
   ]
  },
  {
   "cell_type": "code",
   "execution_count": null,
   "metadata": {},
   "outputs": [],
   "source": [
    "# boolean masking for missing values in 'BasketballPropenstiyFill'\n",
    "missing_age_mask_propensity = account_df['BasketballPropenstiyFill'].isna()\n",
    "\n",
    "# boolean masking for missing values in 'DistancePropensityFill'\n",
    "missing_age_mask_distance = account_df['DistanceToArenaFill'].isna()\n",
    "\n",
    "# filling in missing values using the numpy array for propensity\n",
    "account_df.loc[missing_age_mask_propensity, 'BasketballPropenstiyFill'] = propensity_predict\n",
    "\n",
    "# filling in missing values using the numpy array for distance\n",
    "account_df.loc[missing_age_mask_distance, 'DistanceToArenaFill'] = distance_predict\n",
    "\n",
    "# checking the dataset again for missing values\n",
    "new_missing_value_propensity = account_df['BasketballPropenstiyFill'].isna().sum()\n",
    "print(\"Missing Values Propensity: \", new_missing_value_propensity)\n",
    "\n",
    "# checking the dataset again for missin values\n",
    "new_missing_value_distance = account_df['DistanceToArenaFill'].isna().sum()\n",
    "print(\"Missing Values Distance: \", new_missing_value_distance)\n",
    "\n",
    "# viewing the new data frame\n",
    "account_df"
   ]
  },
  {
   "cell_type": "markdown",
   "metadata": {},
   "source": [
    "### Conversion to `.csv`\n",
    "Lastly, we would like to convert our data frame `.csv` file."
   ]
  },
  {
   "cell_type": "code",
   "execution_count": null,
   "metadata": {},
   "outputs": [],
   "source": [
    "# converting the data frame into a .csv file\n",
    "account_df.to_csv('accounts_knn.csv', index=False)"
   ]
  }
 ],
 "metadata": {
  "kernelspec": {
   "display_name": "dataScienceEnv",
   "language": "python",
   "name": "python3"
  },
  "language_info": {
   "codemirror_mode": {
    "name": "ipython",
    "version": 3
   },
   "file_extension": ".py",
   "mimetype": "text/x-python",
   "name": "python",
   "nbconvert_exporter": "python",
   "pygments_lexer": "ipython3",
   "version": "3.13.1"
  }
 },
 "nbformat": 4,
 "nbformat_minor": 2
}
