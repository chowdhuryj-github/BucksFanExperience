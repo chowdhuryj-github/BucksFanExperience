{
 "cells": [
  {
   "cell_type": "markdown",
   "metadata": {},
   "source": [
    "# Imputations with KNN\n",
    "Welcome to the Jupyter Notebook for the Milwaukee Bucks Hackathon! In this Jupyter Notebook, we work on imputations with regards to the missing values in the Accounts Dataset. We would like to fill in the missing values that are found, especially within `BasketballPropensity` and `DistanceToArena`."
   ]
  },
  {
   "cell_type": "code",
   "execution_count": 1,
   "metadata": {},
   "outputs": [],
   "source": [
    "# all the necessary imports\n",
    "\n",
    "# importing pandas\n",
    "import pandas as pd\n",
    "\n",
    "# importing the IPython library\n",
    "from IPython.display import display"
   ]
  },
  {
   "cell_type": "code",
   "execution_count": null,
   "metadata": {},
   "outputs": [],
   "source": [
    "# convert the excel sheets into a .csv file\n",
    "account_xlsx  = r\"C:\\GitHub\\BucksHackathon25\\BucksAssignment\\Hackathon Prompt 1 Data\\Prompt1AccountLevel.xlsx\"\n",
    "account_csv = r\"C:\\GitHub\\BucksHackathon25\\BucksDatasets\\AccountLevel.csv\"\n",
    "\n",
    "game_xlsx = r\"C:\\GitHub\\BucksHackathon25\\BucksAssignment\\Hackathon Prompt 1 Data\\Prompt1GameLevel.xlsx\"\n",
    "game_csv = r\"C:\\GitHub\\BucksHackathon25\\BucksDatasets\\GameLevel.csv\"\n",
    "\n",
    "seat_xlsx = r\"C:\\GitHub\\BucksHackathon25\\BucksAssignment\\Hackathon Prompt 1 Data\\Prompt1SeatLevel.xlsx\"\n",
    "seat_csv = r\"C:\\GitHub\\BucksHackathon25\\BucksDatasets\\SeatLevel.csv\"\n",
    "\n",
    "# reading the excel file\n",
    "account_df = pd.read_excel(account_xlsx, engine='openpyxl')\n",
    "game_df = pd.read_excel(game_xlsx, engine=\"openpyxl\")\n",
    "seat_df = pd.read_excel(seat_xlsx, engine=\"openpyxl\")\n",
    "\n",
    "# saving as a csv file\n",
    "account_df.to_csv(account_csv, index=False)\n",
    "game_df.to_csv(game_csv, index=False)\n",
    "seat_df.to_csv(seat_csv, index=False)"
   ]
  },
  {
   "cell_type": "code",
   "execution_count": null,
   "metadata": {},
   "outputs": [],
   "source": [
    "# getting a summary of the account data frames\n",
    "print(\"Using .info() on the Account Dataset\")\n",
    "display(account_df.info())\n",
    "\n",
    "print(\"Using .describe() on the Account Dataset\")\n",
    "display(account_df.describe())"
   ]
  },
  {
   "cell_type": "code",
   "execution_count": null,
   "metadata": {},
   "outputs": [],
   "source": [
    "# getting a summary of the game level data frames\n",
    "print(\"Using .info() on the Game Level Dataset\")\n",
    "display(game_df.info())\n",
    "\n",
    "print(\"Using .describe() on the Game Level Dataset\")\n",
    "display(game_df.describe())"
   ]
  },
  {
   "cell_type": "code",
   "execution_count": null,
   "metadata": {},
   "outputs": [],
   "source": [
    "# getting a summary of the seat level data frames\n",
    "print(\"Using .info() on the Seat Level Dataset\")\n",
    "display(seat_df.info())\n",
    "\n",
    "print(\"Using .describe() on the Seat Level Dataset\")\n",
    "display(seat_df.describe())"
   ]
  },
  {
   "cell_type": "code",
   "execution_count": null,
   "metadata": {},
   "outputs": [],
   "source": [
    "# checking the number of null values in the account data frames\n",
    "print(\"Any null values in Account: \", account_df.isnull().values.any())\n",
    "\n",
    "# number of null values in the data frame\n",
    "print(\"Number of Null Values in Account: \\n\", account_df.isnull().sum())\n"
   ]
  },
  {
   "cell_type": "code",
   "execution_count": null,
   "metadata": {},
   "outputs": [],
   "source": [
    "# checking the number of null values in the game level data frames\n",
    "print(\"Any null values in Game Level: \", game_df.isnull().values.any())\n",
    "\n",
    "# number of null values in the data frame\n",
    "print(\"Number of Null Values in Game Level:\\n \", game_df.isnull().sum())\n"
   ]
  },
  {
   "cell_type": "code",
   "execution_count": null,
   "metadata": {},
   "outputs": [],
   "source": [
    "# checking the number of null values in the seat level data frames\n",
    "print(\"Any null values in Seat Level: \", seat_df.isnull().values.any())\n",
    "\n",
    "# number of null values in the data frame\n",
    "print(\"Number of Null Values in Seat Level: \\n \",seat_df.isnull().sum())"
   ]
  },
  {
   "cell_type": "code",
   "execution_count": null,
   "metadata": {},
   "outputs": [],
   "source": [
    "# viewing the final datasets\n",
    "display(account_df.head(5))\n",
    "display(game_df.head(5))\n",
    "display(seat_df.head(5))"
   ]
  },
  {
   "cell_type": "markdown",
   "metadata": {},
   "source": [
    "Now, that we have analyzed the datasets, and looked at the Data Frames, we can see that there is some missing values from `DistanceToArena` and `BasketballPropensity`. We decide to deal with the missing values by using a KNN model to predict the missing values and fill them  in."
   ]
  },
  {
   "cell_type": "code",
   "execution_count": null,
   "metadata": {},
   "outputs": [],
   "source": [
    "# mapping the categorical values in SocialMediaEngagement\n",
    "mapping = {'Low': 1, 'Medium': 2, 'High': 3}\n",
    "account_df['SocialMediaEngagement'] = account_df['SocialMediaEngagement'].map(mapping)"
   ]
  },
  {
   "cell_type": "code",
   "execution_count": null,
   "metadata": {},
   "outputs": [],
   "source": [
    "# creating a new column in the data set\n",
    "account_df['BasketballPropenstiyFill'] = account_df['BasketballPropensity']\n",
    "account_df['DistanceToArenaFill'] = account_df['DistanceToArena']\n",
    "\n",
    "# importing the knn \n",
    "from sklearn.neighbors import KNeighborsRegressor"
   ]
  },
  {
   "cell_type": "code",
   "execution_count": null,
   "metadata": {},
   "outputs": [],
   "source": [
    "# new data frame with no missing values from basketball propensity and distance to arena\n",
    "data_drop_propensity_na = account_df[account_df['BasketballPropensity'].notna()]\n",
    "data_drop_distance_na = account_df[account_df['DistanceToArena'].notna()]\n",
    "\n",
    "# new data frame with missing values from basketball propensity and distance to arena\n",
    "data_propensity_na = account_df[account_df['BasketballPropensity'].isna()]\n",
    "data_distance_na = account_df[account_df['DistanceToArena'].isna()]\n",
    "\n",
    "# length cross-check for basketball propensity\n",
    "bucks_propensity_length = len(account_df['BasketballPropensity'])\n",
    "drop_propensity_length = len(data_drop_propensity_na)\n",
    "missing_propensity_length = len(data_propensity_na)\n",
    "\n",
    "# length cross check for distance to arena\n",
    "bucks_distance_length = len(account_df['DistanceToArena'])\n",
    "drop_distance_length = len(data_drop_distance_na)\n",
    "missing_distance_length = len(data_distance_na)\n",
    "\n",
    "# using a if condition to check if the lengths are equal for basketball propensity\n",
    "if bucks_propensity_length == (drop_propensity_length + missing_propensity_length):\n",
    "    print(\"Valid!\")\n",
    "else:\n",
    "    print(\"Not Valid!\")\n",
    "\n",
    "# using a if condition to check if the lengths are equal for distance to arena\n",
    "if bucks_distance_length == (drop_distance_length + missing_distance_length):\n",
    "    print(\"Valid!\")\n",
    "else:\n",
    "    print(\"Not Valid!\")\n",
    "\n",
    "# viewing the data frame with no missing values for basketball propensity\n",
    "print(\"No Missing Values for Basketball Propensity\")\n",
    "display(data_drop_propensity_na.head(3))\n",
    "print(\"\\n\")\n",
    "\n",
    "# viewing the data frame with no missing values for distance to arena\n",
    "print(\"No Missing Values for Distance to Arena\")\n",
    "display(data_drop_distance_na.head(3))\n",
    "print(\"\\n\")\n",
    "\n",
    "# viewing the data frame with missing values for basketball propensity\n",
    "print(\"Missing Values for Basketball Propensity\")\n",
    "display(data_propensity_na.head(3))\n",
    "print(\"\\n\")\n",
    "\n",
    "# viewing the data frame with missing values for distance to arena\n",
    "print(\"Missing Values for Distane to Arena\")\n",
    "display(data_distance_na.head(3))\n",
    "print(\"\\n\")\n",
    "\n",
    "# displaying the account data frame\n",
    "print(\"Displaying the Data Frame for Account\")\n",
    "account_df"
   ]
  },
  {
   "cell_type": "code",
   "execution_count": null,
   "metadata": {},
   "outputs": [],
   "source": [
    "# the training dataset and the response variable for basketball propensity\n",
    "x_train_propensity = data_drop_propensity_na[['AvgSpend', 'SingleGameTickets', 'STM', 'GamesAttended', \n",
    "                                              'SocialMediaEngagement']]\n",
    "y_train_propensity = data_drop_propensity_na['BasketballPropensity']\n",
    "\n",
    "# the feature to predict for basketball propensity\n",
    "x_predict_propensity = data_propensity_na[['AvgSpend', 'SingleGameTickets', 'STM', 'GamesAttended', \n",
    "                                           'SocialMediaEngagement']]\n",
    "\n",
    "# the training dataset and the response variable for distance to arena\n",
    "x_train_distance =data_drop_distance_na[['AvgSpend', 'SingleGameTickets', 'STM', 'GamesAttended', \n",
    "                                              'SocialMediaEngagement']]\n",
    "y_train_distance = data_drop_distance_na['DistanceToArena']\n",
    "\n",
    "# the feature to predict for distance to arena\n",
    "x_predict_distance = data_distance_na[['AvgSpend', 'SingleGameTickets', 'STM', 'GamesAttended', \n",
    "                                           'SocialMediaEngagement']]\n",
    "\n",
    "# displaying the data frame\n",
    "account_df"
   ]
  },
  {
   "cell_type": "code",
   "execution_count": null,
   "metadata": {},
   "outputs": [],
   "source": [
    "# instiating the KNN model with 5 neighbors\n",
    "bucks_KNN_propensity = KNeighborsRegressor(n_neighbors=5)\n",
    "bucks_KNN_distance = KNeighborsRegressor(n_neighbors=5)\n",
    "\n",
    "# fitting the model with the training data\n",
    "bucks_KNN_propensity.fit(x_train_propensity, y_train_propensity)\n",
    "bucks_KNN_distance.fit(x_train_distance,y_train_distance)\n",
    "\n",
    "# performing the predictions\n",
    "propensity_predict = bucks_KNN_propensity.predict(x_predict_propensity)\n",
    "distance_predict = bucks_KNN_propensity.predict(x_predict_distance)\n",
    "\n",
    "# printing out the results\n",
    "print(propensity_predict)\n",
    "print(\"Type: \", type(propensity_predict), \"\\n\")\n",
    "\n",
    "print(distance_predict)\n",
    "print(\"Type: \",type(distance_predict), \"\\n\" )\n",
    "\n",
    "#displaying the account data frame\n",
    "account_df"
   ]
  },
  {
   "cell_type": "code",
   "execution_count": null,
   "metadata": {},
   "outputs": [],
   "source": [
    "# finding the total number of elements including missing values\n",
    "total_propensity_knn = len(account_df['BasketballPropenstiyFill'])\n",
    "print(\"Total is: \", total_propensity_knn)\n",
    "\n",
    "total_distance_knn = len(account_df['DistanceToArenaFill'])\n",
    "print(\"Total is: \", total_distance_knn)\n",
    "\n",
    "missing_values_knn_propensity = account_df['BasketballPropenstiyFill'].isna().sum()\n",
    "print(\"Missing Values: \", missing_values_knn_propensity)\n",
    "\n",
    "missing_values_knn_distance = account_df['DistanceToArenaFill'].isna().sum()\n",
    "print(\"Missing Values: \", missing_values_knn_distance)\n",
    "\n",
    "# finding the length of the numpy array for propensity\n",
    "total_values_propensity = propensity_predict.size\n",
    "print(\"Total Elements of Numpy Array: \", total_values_propensity)\n",
    "\n",
    "# finding the length of the numpy array for distance\n",
    "total_values_distance = distance_predict.size\n",
    "print(\"Total Elements of Numpy Array: \", total_values_distance)\n",
    "\n",
    "# viewing the data frame\n",
    "account_df"
   ]
  },
  {
   "cell_type": "code",
   "execution_count": null,
   "metadata": {},
   "outputs": [],
   "source": [
    "# boolean masking for missing values in 'BasketballPropenstiyFill'\n",
    "missing_age_mask_propensity = account_df['BasketballPropenstiyFill'].isna()\n",
    "\n",
    "# boolean masking for missing values in 'DistancePropensityFill'\n",
    "missing_age_mask_distance = account_df['DistanceToArenaFill'].isna()\n",
    "\n",
    "# filling in missing values using the numpy array for propensity\n",
    "account_df.loc[missing_age_mask_propensity, 'BasketballPropenstiyFill'] = propensity_predict\n",
    "\n",
    "# filling in missing values using the numpy array for distance\n",
    "account_df.loc[missing_age_mask_distance, 'DistanceToArenaFill'] = distance_predict\n",
    "\n",
    "# checking the dataset again for missing values\n",
    "new_missing_value_propensity = account_df['BasketballPropenstiyFill'].isna().sum()\n",
    "print(\"Missing Values Propensity: \", new_missing_value_propensity)\n",
    "\n",
    "# checking the dataset again for missin values\n",
    "new_missing_value_distance = account_df['DistanceToArenaFill'].isna().sum()\n",
    "print(\"Missing Values Distance: \", new_missing_value_distance)\n",
    "\n",
    "# viewing the new data frame\n",
    "account_df"
   ]
  },
  {
   "cell_type": "markdown",
   "metadata": {},
   "source": [
    "### Conversion to `.csv`\n",
    "Lastly, we would like to convert our data frame `.csv` file."
   ]
  },
  {
   "cell_type": "code",
   "execution_count": null,
   "metadata": {},
   "outputs": [],
   "source": [
    "# converting the data frame into a .csv file\n",
    "account_df.to_csv('accounts_knn.csv', index=False)"
   ]
  }
 ],
 "metadata": {
  "kernelspec": {
   "display_name": "dataScienceEnv",
   "language": "python",
   "name": "python3"
  },
  "language_info": {
   "codemirror_mode": {
    "name": "ipython",
    "version": 3
   },
   "file_extension": ".py",
   "mimetype": "text/x-python",
   "name": "python",
   "nbconvert_exporter": "python",
   "pygments_lexer": "ipython3",
   "version": "3.13.1"
  }
 },
 "nbformat": 4,
 "nbformat_minor": 2
}
