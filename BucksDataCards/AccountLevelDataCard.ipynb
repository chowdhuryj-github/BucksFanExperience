{
 "cells": [
  {
   "cell_type": "markdown",
   "metadata": {},
   "source": [
    "<h1 style=\"color: #8b5e3c;\">The Account Level Data Card</h1>\n",
    "In this Jupyter Notebook, we perform all the operations that we need in order to obtain the information and statistics that we need for the Data Card for Account Level. This allows us to share key information with other users who may want to know more about this dataset."
   ]
  },
  {
   "cell_type": "markdown",
   "metadata": {},
   "source": [
    "<h3 style=\"color: #8b5e3c;\">Converting the CSV File to a Pandas Dataframe</h3>\n",
    "In this section, we convert the `.csv` file into a pandas dataframe by importing pandas and using `.read_csv` to read the csv into a pandas data frame. Finally, we display the dataframe that we created."
   ]
  },
  {
   "cell_type": "code",
   "execution_count": null,
   "metadata": {},
   "outputs": [],
   "source": [
    "# importing the pandas library\n",
    "import pandas as pd\n",
    "\n",
    "# converting .csv file into a pandas data frame\n",
    "account_df = pd.read_csv(r\"C:\\GitHub\\BucksHackathon25\\BucksDatasets\\AccountLevel.csv\")\n",
    "\n",
    "# displaying the pandas data frame\n",
    "account_df"
   ]
  },
  {
   "cell_type": "markdown",
   "metadata": {},
   "source": [
    "<h3 style=\"color: #8b5e3c;\">Extracting the Seasons and Number of Fans</h3>\n",
    "In this section, we extract the seasons of the games that the fans have attended, and we also extract the number of fans in the dataset who have attended the games."
   ]
  },
  {
   "cell_type": "code",
   "execution_count": null,
   "metadata": {},
   "outputs": [],
   "source": [
    "# extracting all the seasons from the data frame\n",
    "season_list = set(account_df[\"Season\"].tolist())\n",
    "print(\"Seasons Involved:\", season_list)\n",
    "\n",
    "# extracting number of fans\n",
    "player_list = account_df[\"AccountNumber\"].tolist()\n",
    "print(\"Number of Accounts: \", len(set(player_list)))"
   ]
  },
  {
   "cell_type": "markdown",
   "metadata": {},
   "source": [
    "<h3 style=\"color: #8b5e3c;\">Descriptive Statistics and Dataset Summary </h3>\n",
    "In this section, we obtain the descriptive statistics of the dataset, such as the standard deviation, the upper and lower quartiles, and much more. We also obtain the summary of the dataset, such as the data types of each of the features and the number of null values in each of them."
   ]
  },
  {
   "cell_type": "code",
   "execution_count": null,
   "metadata": {},
   "outputs": [],
   "source": [
    "# obtaining the descriptive statistics of the dataset\n",
    "account_df.describe()"
   ]
  },
  {
   "cell_type": "code",
   "execution_count": null,
   "metadata": {},
   "outputs": [],
   "source": [
    "# obtaining the information about the dataset\n",
    "account_df.info()"
   ]
  },
  {
   "cell_type": "markdown",
   "metadata": {},
   "source": [
    "<h3 style=\"color: #8b5e3c;\">Categorical Features Summary</h3>\n",
    "In this section, we summarize the key statistics of the categorical features in our dataset. We start off by changing the data type to categorical and then look for unique values and the most common value."
   ]
  },
  {
   "cell_type": "code",
   "execution_count": null,
   "metadata": {},
   "outputs": [],
   "source": [
    "# setting the season as categorical data\n",
    "account_df['Season'] = account_df['Season'].astype('category')\n",
    "\n",
    "# setting the STM as categorical\n",
    "account_df[\"STM\"] = account_df['STM'].astype('category')\n",
    "\n",
    "# setting the fan segment as categorical\n",
    "account_df['FanSegment'] = account_df['FanSegment'].astype('category')\n",
    "\n",
    "# setting the social media engagement as categorical\n",
    "account_df['SocialMediaEngagement'] = account_df['SocialMediaEngagement'].astype('category')"
   ]
  },
  {
   "cell_type": "code",
   "execution_count": null,
   "metadata": {},
   "outputs": [],
   "source": [
    "# importing the statistics library\n",
    "import statistics\n",
    "\n",
    "# finding the unique value and common value in seasons\n",
    "unique_season = account_df['Season'].unique()\n",
    "common_season = statistics.mode(account_df['Season'].tolist())\n",
    "\n",
    "# finding the unique value and common value in STM\n",
    "unique_STM = account_df['STM'].unique()\n",
    "common_STM = statistics.mode(account_df['STM'].tolist())\n",
    "\n",
    "# finding the unique value and common value in fan segment\n",
    "unique_FanSegment = account_df['FanSegment'].unique()\n",
    "common_FanSegment = statistics.mode(account_df['FanSegment'].tolist())\n",
    "\n",
    "# finding the unique value and common value in social media engagement\n",
    "unique_SME = account_df['SocialMediaEngagement'].unique()\n",
    "common_SME = statistics.mode(account_df['SocialMediaEngagement'].tolist())\n",
    "\n",
    "# printing out the results\n",
    "print(\"Unique value of Seasons: \", list(unique_season), \"and Common Value of Season: \", common_season, \"\\n\" )\n",
    "print(\"Unique value of STM: \", list(unique_STM), \" and Common Value of STM: \", common_STM, \"\\n\")\n",
    "print(\"Unique value of FanSegment: \", list(unique_FanSegment), \"and Common Value of FanSegment: \", \n",
    "      common_FanSegment,\"\\n\")\n",
    "print(\"Unique value of SocialMediaEngagement\", list(unique_SME), \" and Common Value of SocialMediaEngagement \",\n",
    "       common_SME)"
   ]
  },
  {
   "cell_type": "code",
   "execution_count": null,
   "metadata": {},
   "outputs": [],
   "source": [
    "# obtaining the updated descriptive statistics of the dataset\n",
    "account_df.describe()"
   ]
  }
 ],
 "metadata": {
  "kernelspec": {
   "display_name": "dataScienceEnv",
   "language": "python",
   "name": "python3"
  },
  "language_info": {
   "codemirror_mode": {
    "name": "ipython",
    "version": 3
   },
   "file_extension": ".py",
   "mimetype": "text/x-python",
   "name": "python",
   "nbconvert_exporter": "python",
   "pygments_lexer": "ipython3",
   "version": "3.13.1"
  }
 },
 "nbformat": 4,
 "nbformat_minor": 2
}
