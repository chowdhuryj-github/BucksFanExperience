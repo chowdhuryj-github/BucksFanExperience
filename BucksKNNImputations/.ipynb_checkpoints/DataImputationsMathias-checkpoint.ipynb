{
 "cells": [
  {
   "cell_type": "markdown",
   "id": "0",
   "metadata": {},
   "source": [
    "<h1 style=\"color: #006400;\">Data Imputations</h1>\n",
    "<h3 style=\"color: #8b5e3c;\">Filling in missing data using mean, median, and mode</h3>\n",
    "\n",
    "<p style=\"color: #8b5e3c;\">Mathias Galvan</p>\n",
    "<h2 style=\"color: #006400;\"> Loading the Data </h2>"
   ]
  },
  {
   "cell_type": "code",
   "execution_count": null,
   "id": "1",
   "metadata": {},
   "outputs": [],
   "source": [
    "import pandas as pd\n",
    "\n",
    "account = pd.read_csv(r\"C:/Users/galvanm/python/BucksHackathon25/BucksDatasets/AccountLevel.csv\")\n",
    "seat = pd.read_csv(r\"C:/Users/galvanm/python/BucksHackathon25/BucksDatasets/SeatLevel.csv\")\n",
    "game = pd.read_csv(r\"C:/Users/galvanm/python/BucksHackathon25/BucksDatasets/GameLevel.csv\")\n",
    "\n",
    "account['Season'].astype('category')\n",
    "account['STM'].astype('category')\n",
    "account.head()"
   ]
  },
  {
   "cell_type": "markdown",
   "id": "2",
   "metadata": {},
   "source": [
    "<h3>Checking which features contain NaN</h3>"
   ]
  },
  {
   "cell_type": "code",
   "execution_count": null,
   "id": "3",
   "metadata": {},
   "outputs": [],
   "source": [
    "\n",
    "for i in account.columns:\n",
    "    has_nans = account[i].isna().values.any()\n",
    "    print(f\"Nan in AccountLevel[{i}]: {has_nans}\")"
   ]
  },
  {
   "cell_type": "code",
   "execution_count": null,
   "id": "4",
   "metadata": {},
   "outputs": [],
   "source": [
    "import matplotlib.pyplot as plt\n",
    "import seaborn as sns\n",
    "\n",
    "cols = ['SingleGameTickets', 'PartialPlanTickets', 'GroupTickets', 'AvgSpend', 'GamesAttended', 'DistanceToArena', 'BasketballPropensity']\n",
    "# setting the number of rows and columns\n",
    "rows = 3\n",
    "columns = 4\n",
    "\n",
    "# creating the figure\n",
    "fig, axes = plt.subplots(rows, columns, figsize=(20, 12)) \n",
    "axes = axes.flatten()\n",
    "\n",
    "for ax, col in zip(axes, cols):\n",
    "    #plt.figure(figsize=(6,4))\n",
    "    sns.boxplot(x= account[col], ax=ax)\n",
    "    ax.set_title(f'Boxplot of {col}')\n",
    "    ax.set_xlabel(col)\n",
    "\n",
    "for ax in axes[len(cols):]:\n",
    "    fig.delaxes(ax)\n",
    "\n",
    "plt.tight_layout()\n",
    "plt.show()"
   ]
  },
  {
   "cell_type": "code",
   "execution_count": null,
   "id": "5",
   "metadata": {},
   "outputs": [],
   "source": [
    "import numpy as np\n",
    "\n",
    "col_r_sampling = ['SingleGameTickets', 'PartialPlanTickets', 'GroupTickets', 'AvgSpend', 'GamesAttended', 'DistanceToArena']\n",
    "\n",
    "nan_rows = account[account.isna().any(axis=1)]\n",
    "print(nan_rows)\n",
    "\n",
    "for i in col_r_sampling:\n",
    "    non_missing = account[i].dropna().values\n",
    "    account.loc[account[i].isna(), i] = np.random.choice(non_missing, size=account[i].isna().sum())\n",
    "\n",
    "account.iloc[70]\n"
   ]
  },
  {
   "cell_type": "code",
   "execution_count": null,
   "id": "6",
   "metadata": {},
   "outputs": [],
   "source": [
    "median_bp = account['BasketballPropensity'].median()\n",
    "account['BasketballPropensity'].fillna(median_bp, inplace=True)\n",
    "\n",
    "for i in account.columns:\n",
    "    has_nans = account[i].isna().values.any()\n",
    "    print(f\"Nan in AccountLevel[{i}]: {has_nans}\")"
   ]
  },
  {
   "cell_type": "markdown",
   "id": "7",
   "metadata": {},
   "source": [
    "### Relabeling FanSegment using KNN"
   ]
  },
  {
   "cell_type": "code",
   "execution_count": null,
   "id": "8",
   "metadata": {},
   "outputs": [],
   "source": [
    "from sklearn.pipeline import Pipeline\n",
    "from sklearn.compose import ColumnTransformer\n",
    "from sklearn.preprocessing import StandardScaler, OneHotEncoder, LabelEncoder\n",
    "from sklearn.neighbors import KNeighborsClassifier\n",
    "\n",
    "def impute_fan_segment(df):\n",
    "    num_features = ['GamesAttended', 'DistanceToArena', 'BasketballPropensity', 'STM', 'AvgSpend']\n",
    "    cat_features = ['SocialMediaEngagement']\n",
    "\n",
    "    labeled = df['FanSegment'] != 'Limited Data'\n",
    "    labeled_df = df[labeled].copy()\n",
    "    unlabeled_df = df[~labeled].copy()\n",
    "\n",
    "    X_train = labeled_df[num_features + cat_features]\n",
    "    y_train = labeled_df['FanSegment']\n",
    "\n",
    "    le = LabelEncoder()\n",
    "    y_enc = le.fit_transform(y_train)\n",
    "\n",
    "    preprocessor = ColumnTransformer([\n",
    "        ('num', StandardScaler(), num_features),\n",
    "        ('cat', OneHotEncoder(handle_unknown='ignore'), cat_features)\n",
    "    ])\n",
    "\n",
    "    pipeline = Pipeline([\n",
    "        ('pre', preprocessor),\n",
    "        ('knn', KNeighborsClassifier())\n",
    "    ])\n",
    "\n",
    "    pipeline.fit(X_train, y_enc)\n",
    "\n",
    "    X_unlab = unlabeled_df[num_features + cat_features]\n",
    "    y_pred = pipeline.predict(X_unlab)\n",
    "    unlabeled_df['FanSegment'] = le.inverse_transform(y_pred)\n",
    "\n",
    "    df_imputed = pd.concat([labeled_df, unlabeled_df]).sort_index()\n",
    "    return df_imputed"
   ]
  },
  {
   "cell_type": "code",
   "execution_count": null,
   "id": "9",
   "metadata": {},
   "outputs": [],
   "source": [
    "account = impute_fan_segment(account)"
   ]
  },
  {
   "cell_type": "markdown",
   "id": "10",
   "metadata": {},
   "source": [
    "### Adding Giveaway Labels (0 or 1)"
   ]
  },
  {
   "cell_type": "code",
   "execution_count": null,
   "id": "11",
   "metadata": {},
   "outputs": [],
   "source": [
    "def giveaway_label(x):\n",
    "    if pd.isna(x):\n",
    "        return 0\n",
    "    else:\n",
    "        return 1\n"
   ]
  },
  {
   "cell_type": "code",
   "execution_count": null,
   "id": "12",
   "metadata": {},
   "outputs": [],
   "source": [
    "game['GiveawayLabel'] = game['Giveaway'].apply(giveaway_label)"
   ]
  },
  {
   "cell_type": "markdown",
   "id": "13",
   "metadata": {},
   "source": [
    "### Overwriting Datasets with Imputations"
   ]
  },
  {
   "cell_type": "code",
   "execution_count": null,
   "id": "14",
   "metadata": {},
   "outputs": [],
   "source": [
    "account.to_csv(r'/Users/galvanm/python/BucksHackathon25/BucksDatasets/AccountLevel.csv')\n",
    "seat.to_csv(r'/Users/galvanm/python/BucksHackathon25/BucksDatasets/SeatLevel.csv')\n",
    "game.to_csv(r'/Users/galvanm/python/BucksHackathon25/BucksDatasets/GameLevel.csv')\n"
   ]
  },
  {
   "cell_type": "code",
   "execution_count": null,
   "id": "15",
   "metadata": {},
   "outputs": [],
   "source": []
  }
 ],
 "metadata": {
  "kernelspec": {
   "display_name": "Python 3 (ipykernel)",
   "language": "python",
   "name": "python3"
  },
  "language_info": {
   "codemirror_mode": {
    "name": "ipython",
    "version": 3
   },
   "file_extension": ".py",
   "mimetype": "text/x-python",
   "name": "python",
   "nbconvert_exporter": "python",
   "pygments_lexer": "ipython3",
   "version": "3.12.4"
  }
 },
 "nbformat": 4,
 "nbformat_minor": 5
}
